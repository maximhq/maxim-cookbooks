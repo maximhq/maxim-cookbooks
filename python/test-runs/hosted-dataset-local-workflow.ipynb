{
 "cells": [
  {
   "cell_type": "markdown",
   "metadata": {},
   "source": [
    "## Initialize Maxim SDK"
   ]
  },
  {
   "cell_type": "code",
   "execution_count": 1,
   "metadata": {},
   "outputs": [],
   "source": [
    "from dotenv import dotenv_values\n",
    "from maxim import Maxim, Config\n",
    "from maxim.models import ManualData, YieldedOutput\n",
    "\n",
    "config = dotenv_values()\n",
    "\n",
    "API_KEY: str = config.get(\"MAXIM_API_KEY\") or \"\"\n",
    "WORKSPACE_ID: str = config.get(\"MAXIM_WORKSPACE_ID\") or \"\"\n",
    "WORKFLOW_ID: str = config.get(\"MAXIM_WORKFLOW_ID\") or \"\"\n",
    "DATASET_ID: str = config.get(\"MAXIM_DATASET_ID\") or \"\"\n",
    "PROMPT_VERSION_ID: str = config.get(\"MAXIM_PROMPT_VERSION_ID\") or \"\"\n",
    "MAXIM_UNKNOWN_WORKFLOW_ID: str = config.get(\"MAXIM_UNKNOWN_WORKFLOW_ID\") or \"\"\n",
    "MAXIM_INVALID_WORKFLOW_ID: str = config.get(\"MAXIM_INVALID_WORKFLOW_ID\") or \"\"\n",
    "\n",
    "maxim = Maxim(config=Config(api_key=API_KEY))"
   ]
  },
  {
   "cell_type": "markdown",
   "metadata": {},
   "source": [
    "## Defining local workflow"
   ]
  },
  {
   "cell_type": "code",
   "execution_count": 2,
   "metadata": {},
   "outputs": [],
   "source": [
    "def run(data: ManualData):\n",
    "    \"\"\"\n",
    "    This will contain you local workflow.\n",
    "    For this cookbook, we are sending hardcoded test as output\n",
    "    YieldedOutput type also supports metadata like\n",
    "        - meta\n",
    "            - cost\n",
    "            - token usage etc.\n",
    "    You can also pass context as retrieved_context_to_evaluate\n",
    "    \"\"\"\n",
    "    print(f\"processing => {data.get(\"Input\")}\")\n",
    "    return YieldedOutput(data=\"test\")"
   ]
  },
  {
   "cell_type": "markdown",
   "metadata": {},
   "source": [
    "## Creating and running the test"
   ]
  },
  {
   "cell_type": "code",
   "execution_count": 3,
   "metadata": {},
   "outputs": [
    {
     "name": "stdout",
     "output_type": "stream",
     "text": [
      "Validating test run config...\n",
      "Sanitizing data...\n",
      "Sanitizing evaluators...\n",
      "Verifying if Bias is added to the workspace..\n",
      "Verifying if Clarity is added to the workspace..\n",
      "Creating test run: Local workflow test run from SDK\n",
      "You can view your test run here: https://app.getmaxim.ai/workspace/cln4nw1n80000mc3wqqwk4j0z/testrun/cm8enkqyy00mc9hy1j02i6moj\n",
      "You can safely quit this session or wait to see the final output in console.\n",
      "Waiting for test run to complete...\n",
      "Polling interval: 15 seconds\n",
      "┌───────────────────────────────────────────────────────────────────────────────────────────────────────────────────────┐\n",
      "│                                                Test run status: RUNNING                                               │\n",
      "├───────────────────────────────────────────────────────────────────────────────────────────────────────────────────────┤\n",
      "│ totalEntries: 1 | runningEntries: 0 | queuedEntries: 1 | failedEntries: 0 | completedEntries: 0 | stoppedEntries: 0   │\n",
      "└───────────────────────────────────────────────────────────────────────────────────────────────────────────────────────┘\n",
      "\n",
      "┌───────────────────────────────────────────────────────────────────────────────────────────────────────────────────────┐\n",
      "│                                                Test run status: FAILED                                                │\n",
      "├───────────────────────────────────────────────────────────────────────────────────────────────────────────────────────┤\n",
      "│ totalEntries: 4 | runningEntries: 0 | queuedEntries: 0 | failedEntries: 4 | completedEntries: 0 | stoppedEntries: 0   │\n",
      "└───────────────────────────────────────────────────────────────────────────────────────────────────────────────────────┘\n",
      "\n",
      "\n",
      "\n",
      "💥 Error while running test:  Test run failed, please check the report on our web portal: https://app.getmaxim.ai/workspace/cln4nw1n80000mc3wqqwk4j0z/testrun/cm8enkqyy00mc9hy1j02i6moj\n"
     ]
    }
   ],
   "source": [
    "maxim.create_test_run(\n",
    "    name=\"Local workflow test run from SDK\", in_workspace_id=WORKSPACE_ID\n",
    ").with_concurrency(2).with_data(DATASET_ID).yields_output(run).with_evaluators(\n",
    "    \"Bias\", \"Clarity\"\n",
    ").run()\n"
   ]
  }
 ],
 "metadata": {
  "kernelspec": {
   "display_name": ".venv",
   "language": "python",
   "name": "python3"
  },
  "language_info": {
   "codemirror_mode": {
    "name": "ipython",
    "version": 3
   },
   "file_extension": ".py",
   "mimetype": "text/x-python",
   "name": "python",
   "nbconvert_exporter": "python",
   "pygments_lexer": "ipython3",
   "version": "3.12.8"
  }
 },
 "nbformat": 4,
 "nbformat_minor": 2
}
