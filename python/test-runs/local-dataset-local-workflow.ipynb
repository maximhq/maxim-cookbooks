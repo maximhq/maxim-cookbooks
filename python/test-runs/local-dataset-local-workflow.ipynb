{
 "cells": [
  {
   "cell_type": "markdown",
   "metadata": {},
   "source": [
    "## Initializing Maxim SDK"
   ]
  },
  {
   "cell_type": "code",
   "execution_count": null,
   "metadata": {},
   "outputs": [],
   "source": [
    "from dotenv import dotenv_values\n",
    "from maxim import Maxim, Config\n",
    "from maxim.models import ManualData, YieldedOutput\n",
    "from maxim.models.dataset import DataStructure\n",
    "\n",
    "config = dotenv_values()\n",
    "\n",
    "API_KEY: str = config.get(\"MAXIM_API_KEY\") or \"\"\n",
    "WORKSPACE_ID: str = config.get(\"MAXIM_WORKSPACE_ID\") or \"\"\n",
    "WORKFLOW_ID: str = config.get(\"MAXIM_WORKFLOW_ID\") or \"\"\n",
    "DATASET_ID: str = config.get(\"MAXIM_DATASET_ID\") or \"\"\n",
    "PROMPT_VERSION_ID: str = config.get(\"MAXIM_PROMPT_VERSION_ID\") or \"\"\n",
    "MAXIM_UNKNOWN_WORKFLOW_ID: str = config.get(\"MAXIM_UNKNOWN_WORKFLOW_ID\") or \"\"\n",
    "MAXIM_INVALID_WORKFLOW_ID: str = config.get(\"MAXIM_INVALID_WORKFLOW_ID\") or \"\"\n",
    "\n",
    "maxim = Maxim(config=Config(api_key=API_KEY))"
   ]
  },
  {
   "cell_type": "markdown",
   "metadata": {},
   "source": [
    "## Defining the custom dataset and it's structure"
   ]
  },
  {
   "cell_type": "code",
   "execution_count": null,
   "metadata": {},
   "outputs": [],
   "source": [
    "dataset:list[ManualData] = [\n",
    "    {\"input\" : \"What is the company's policy on remote work?\"},\n",
    "    {\"input\" : \"Is there a specific dress code for the company?\"},\n",
    "    {\"input\":\"What does employee's part-time or full-time status depend on?\"},\n",
    "    {\"input\":\"Is there any paid time-off that I can get?\"},\n",
    "]\n",
    "\n",
    "data_structure:DataStructure = {\n",
    "    \"input\":\"INPUT\"\n",
    "}"
   ]
  },
  {
   "cell_type": "markdown",
   "metadata": {},
   "source": [
    "## Defining custom workflow"
   ]
  },
  {
   "cell_type": "code",
   "execution_count": null,
   "metadata": {},
   "outputs": [],
   "source": [
    "def run(data: ManualData):\n",
    "    \"\"\"\n",
    "    This will contain you local workflow.\n",
    "    For this cookbook, we are sending hardcoded test as output\n",
    "    YieldedOutput type also supports metadata like\n",
    "        - meta\n",
    "            - cost\n",
    "            - token usage etc.\n",
    "    You can also pass context as retrieved_context_to_evaluate\n",
    "    \"\"\"\n",
    "    print(f\"processing => {data.get(\"Input\")}\")\n",
    "    return YieldedOutput(data=\"test\")"
   ]
  },
  {
   "cell_type": "code",
   "execution_count": null,
   "metadata": {},
   "outputs": [],
   "source": [
    "maxim.create_test_run(\n",
    "    name=\"Local dataset test run from SDK\", in_workspace_id=WORKSPACE_ID\n",
    ").with_concurrency(2).with_data(dataset).with_data_structure(data_structure).yields_output(run).with_evaluators(\n",
    "    \"Bias\", \"Clarity\"\n",
    ").run()"
   ]
  }
 ],
 "metadata": {
  "kernelspec": {
   "display_name": ".venv",
   "language": "python",
   "name": "python3"
  },
  "language_info": {
   "codemirror_mode": {
    "name": "ipython",
    "version": 3
   },
   "file_extension": ".py",
   "mimetype": "text/x-python",
   "name": "python",
   "nbconvert_exporter": "python",
   "pygments_lexer": "ipython3",
   "version": "3.12.8"
  }
 },
 "nbformat": 4,
 "nbformat_minor": 2
}
