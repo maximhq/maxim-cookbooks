{
 "cells": [
  {
   "cell_type": "markdown",
   "metadata": {},
   "source": [
    "## Initializing Maxim SDK"
   ]
  },
  {
   "cell_type": "code",
   "execution_count": 1,
   "metadata": {},
   "outputs": [
    {
     "name": "stdout",
     "output_type": "stream",
     "text": [
      "\u001b[32m[MaximSDK] Initializing Maxim AI(v3.8.0)\u001b[0m\n"
     ]
    },
    {
     "name": "stderr",
     "output_type": "stream",
     "text": [
      "/var/folders/p0/3mgzlyg541g1j9s2d1wskc040000gn/T/ipykernel_98903/4166017639.py:16: DeprecationWarning: This class will be removed in a future version. Use {} which is TypedDict.\n",
      "  maxim = Maxim(config=Config(api_key=API_KEY))\n"
     ]
    }
   ],
   "source": [
    "from dotenv import dotenv_values\n",
    "from maxim import Maxim, Config\n",
    "from maxim.models import LocalData, YieldedOutput\n",
    "from maxim.models.dataset import DataStructure\n",
    "\n",
    "config = dotenv_values()\n",
    "\n",
    "API_KEY: str = config.get(\"MAXIM_API_KEY\") or \"\"\n",
    "WORKSPACE_ID: str = config.get(\"MAXIM_WORKSPACE_ID\") or \"\"\n",
    "WORKFLOW_ID: str = config.get(\"MAXIM_WORKFLOW_ID\") or \"\"\n",
    "DATASET_ID: str = config.get(\"MAXIM_DATASET_ID\") or \"\"\n",
    "PROMPT_VERSION_ID: str = config.get(\"MAXIM_PROMPT_VERSION_ID\") or \"\"\n",
    "MAXIM_UNKNOWN_WORKFLOW_ID: str = config.get(\"MAXIM_UNKNOWN_WORKFLOW_ID\") or \"\"\n",
    "MAXIM_INVALID_WORKFLOW_ID: str = config.get(\"MAXIM_INVALID_WORKFLOW_ID\") or \"\"\n",
    "\n",
    "maxim = Maxim(config=Config(api_key=API_KEY))"
   ]
  },
  {
   "cell_type": "markdown",
   "metadata": {},
   "source": [
    "## Defining the custom dataset and it's structure"
   ]
  },
  {
   "cell_type": "code",
   "execution_count": 2,
   "metadata": {},
   "outputs": [],
   "source": [
    "dataset:list[LocalData] = [\n",
    "    {\"input\" : \"What is the company's policy on remote work?\"},\n",
    "    {\"input\" : \"Is there a specific dress code for the company?\"},\n",
    "    {\"input\":\"What does employee's part-time or full-time status depend on?\"},\n",
    "    {\"input\":\"Is there any paid time-off that I can get?\"},\n",
    "]\n",
    "\n",
    "data_structure:DataStructure = {\n",
    "    \"input\":\"INPUT\"\n",
    "}"
   ]
  },
  {
   "cell_type": "markdown",
   "metadata": {},
   "source": [
    "## Defining custom workflow"
   ]
  },
  {
   "cell_type": "code",
   "execution_count": 3,
   "metadata": {},
   "outputs": [],
   "source": [
    "def run(data: LocalData):\n",
    "    \"\"\"\n",
    "    This will contain you local workflow.\n",
    "    For this cookbook, we are sending hardcoded test as output\n",
    "    YieldedOutput type also supports metadata like\n",
    "        - meta\n",
    "            - cost\n",
    "            - token usage etc.\n",
    "    You can also pass context as retrieved_context_to_evaluate\n",
    "    \"\"\"\n",
    "    print(f\"processing => {data.get(\"Input\")}\")\n",
    "    return YieldedOutput(data=\"test\")"
   ]
  },
  {
   "cell_type": "code",
   "execution_count": 6,
   "metadata": {},
   "outputs": [
    {
     "name": "stdout",
     "output_type": "stream",
     "text": [
      "Validating test run config...\n",
      "Sanitizing data...\n",
      "Sanitizing evaluators...\n",
      "Creating test run: Local dataset test run from SDK\n",
      "processing => Noneprocessing => None\n",
      "processing => None\n",
      "processing => None\n",
      "\n",
      "You can view your test run here: https://app.getmaxim.ai/workspace/cm6ygx0he000xgdskkqmx9mrs/testrun/cmbhmmplc00i89f5nqrebmmdl\n",
      "You can safely quit this session or wait to see the final output in console.\n",
      "Waiting for test run to complete...\n",
      "Polling interval: 5 seconds\n",
      "Error while running data entry at index [2]: Expecting value: line 2 column 1 (char 1) None\n",
      "┌───────────────────────────────────────────────────────────────────────────────────────────────────────────────────────┐\n",
      "│                                                Test run status: RUNNING                                               │\n",
      "├───────────────────────────────────────────────────────────────────────────────────────────────────────────────────────┤\n",
      "│ totalEntries: 3 | runningEntries: 0 | queuedEntries: 3 | failedEntries: 0 | completedEntries: 0 | stoppedEntries: 0   │\n",
      "└───────────────────────────────────────────────────────────────────────────────────────────────────────────────────────┘\n",
      "\n",
      "┌───────────────────────────────────────────────────────────────────────────────────────────────────────────────────────┐\n",
      "│                                               Test run status: COMPLETE                                               │\n",
      "├───────────────────────────────────────────────────────────────────────────────────────────────────────────────────────┤\n",
      "│ totalEntries: 3 | runningEntries: 0 | queuedEntries: 0 | failedEntries: 0 | completedEntries: 3 | stoppedEntries: 0   │\n",
      "└───────────────────────────────────────────────────────────────────────────────────────────────────────────────────────┘\n",
      "\n",
      "All entries processed. Test run completed.\n",
      "Test run \"Local dataset test run from SDK\" completed successfully!🎉 \n",
      "View the report here: https://app.getmaxim.ai/workspace/cm6ygx0he000xgdskkqmx9mrs/testrun/cmbhmmplc00i89f5nqrebmmdl\n"
     ]
    },
    {
     "data": {
      "text/plain": [
       "RunResult(test_run_result=TestRunResult(link='https://app.getmaxim.ai/workspace/cm6ygx0he000xgdskkqmx9mrs/testrun/cmbhmmplc00i89f5nqrebmmdl', result=[TestRunResultObj(name='Local dataset test run from SDK', individual_evaluator_mean_score={}, usage=TestRunTokenUsage(total=0, input=0, completion=0), cost=TestRunCost(total=0, input=0, completion=0), latency=TestRunLatency(min=0, max=0, p50=0, p90=0, p95=0, p99=0, mean=0, standard_deviation=0, total=0))]), failed_entry_indices=[2])"
      ]
     },
     "execution_count": 6,
     "metadata": {},
     "output_type": "execute_result"
    }
   ],
   "source": [
    "maxim.create_test_run(\n",
    "    name=\"Local dataset test run from SDK\", in_workspace_id=WORKSPACE_ID\n",
    ").with_concurrency(2).with_data(dataset).with_data_structure(data_structure).yields_output(run).with_evaluators(\n",
    "    \"Bias\"\n",
    ").run()"
   ]
  }
 ],
 "metadata": {
  "kernelspec": {
   "display_name": ".venv",
   "language": "python",
   "name": "python3"
  },
  "language_info": {
   "codemirror_mode": {
    "name": "ipython",
    "version": 3
   },
   "file_extension": ".py",
   "mimetype": "text/x-python",
   "name": "python",
   "nbconvert_exporter": "python",
   "pygments_lexer": "ipython3",
   "version": "3.12.8"
  }
 },
 "nbformat": 4,
 "nbformat_minor": 2
}
