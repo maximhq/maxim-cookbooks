{
 "cells": [
  {
   "cell_type": "markdown",
   "metadata": {},
   "source": [
    "## Setting up Maxim SDK"
   ]
  },
  {
   "cell_type": "code",
   "execution_count": null,
   "metadata": {
    "vscode": {
     "languageId": "plaintext"
    }
   },
   "outputs": [],
   "source": [
    "import os\n",
    "import openai\n",
    "from time import time\n",
    "from maxim.maxim import Logger, LoggerConfig\n",
    "from maxim.logger.components.session import SessionConfig\n",
    "from maxim.logger.components.trace import TraceConfig\n",
    "from maxim.logger.components.generation import GenerationConfig\n",
    "from uuid import uuid4\n",
    "\n",
    "# Retrieve API keys from environment variables\n",
    "MAXIM_API_KEY = os.getenv(\"MAXIM_API_KEY\")\n",
    "LOG_REPOSITORY_ID = os.getenv(\"LOG_REPOSITORY_ID\")\n",
    "OPENAI_API_KEY = os.getenv(\"OPENAI_API_KEY\")\n",
    "\n",
    "# Define the OpenAI model\n",
    "MODEL_NAME = \"gpt-4o-mini\"\n",
    "\n",
    "# Set up Maxim logger configuration\n",
    "logger_config = LoggerConfig(id=LOG_REPOSITORY_ID)\n",
    "logger = Logger(config=logger_config, api_key=MAXIM_API_KEY, base_url=\"https://app.getmaxim.ai\")"
   ]
  },
  {
   "cell_type": "markdown",
   "metadata": {},
   "source": [
    "## Create a session and adding a trace"
   ]
  },
  {
   "cell_type": "code",
   "execution_count": null,
   "metadata": {
    "vscode": {
     "languageId": "plaintext"
    }
   },
   "outputs": [],
   "source": [
    "# Set up a unique session and trace for the application\n",
    "session_id = str(uuid4())\n",
    "session_config = SessionConfig(id=session_id)\n",
    "session = logger.session(session_config)\n",
    "\n",
    "trace_id = str(uuid4())\n",
    "trace_config = TraceConfig(id=trace_id)\n",
    "trace = session.trace(trace_config)\n",
    "\n",
    "# Set up the OpenAI client\n",
    "openai.api_key = OPENAI_API_KEY"
   ]
  },
  {
   "cell_type": "markdown",
   "metadata": {},
   "source": [
    "## Adding llm call and response to the trace"
   ]
  },
  {
   "cell_type": "code",
   "execution_count": null,
   "metadata": {
    "vscode": {
     "languageId": "plaintext"
    }
   },
   "outputs": [],
   "source": [
    "# Initialize generation configuration\n",
    "generation_id = str(uuid4())\n",
    "messages = [\n",
    "    {\"role\": \"system\", \"content\": \"You are a helpful assistant.\"},\n",
    "    {\"role\": \"user\", \"content\": \"Write a haiku about recursion in programming.\"},\n",
    "]\n",
    "\n",
    "generation_config = GenerationConfig(\n",
    "    id=generation_id,\n",
    "    name=\"generation\",\n",
    "    provider=\"openai\",\n",
    "    model=MODEL_NAME,\n",
    "    messages=messages\n",
    ")\n",
    "generation = trace.generation(generation_config)\n",
    "\n",
    "try:\n",
    "    # Create a chat completion request\n",
    "    response = openai.chat.completions.create(\n",
    "        model=MODEL_NAME,\n",
    "        messages=messages,\n",
    "    )\n",
    "    \n",
    "    # Extract response text and usage\n",
    "    response_text = response.choices[0].message.content\n",
    "    usage = response.usage\n",
    "\n",
    "    # Log the generation result with tokens\n",
    "    generation.result({\n",
    "        \"id\": generation_id,\n",
    "        \"object\": \"chat.completion\",\n",
    "        \"created\": int(time()),\n",
    "        \"model\": MODEL_NAME,\n",
    "        \"choices\": [\n",
    "            {\n",
    "                \"index\": 0,\n",
    "                \"text\": response_text,\n",
    "                \"logprobs\": None,\n",
    "                \"finish_reason\": response.choices[0].finish_reason,\n",
    "            },\n",
    "        ],\n",
    "        \"usage\": {\n",
    "            \"prompt_tokens\": usage.prompt_tokens,\n",
    "            \"completion_tokens\": usage.completion_tokens,\n",
    "            \"total_tokens\": usage.total_tokens,\n",
    "        },\n",
    "    })\n",
    "\n",
    "    # Print the response\n",
    "    print(\"OpenAI's Response:\")\n",
    "    print(response_text)\n",
    "    print(\"\\nToken Usage:\")\n",
    "    print(f\"Prompt tokens: {usage.prompt_tokens}\")\n",
    "    print(f\"Completion tokens: {usage.completion_tokens}\")\n",
    "    print(f\"Total tokens: {usage.total_tokens}\")\n",
    "\n",
    "    generation.end()\n",
    "\n",
    "finally:\n",
    "    # Clean up the logger session\n",
    "    trace.end()\n",
    "    logger.cleanup()"
   ]
  }
 ],
 "metadata": {
  "language_info": {
   "name": "python"
  }
 },
 "nbformat": 4,
 "nbformat_minor": 2
}
