{
 "cells": [
  {
   "cell_type": "markdown",
   "metadata": {},
   "source": [
    "# Setting up variables"
   ]
  },
  {
   "cell_type": "code",
   "execution_count": 1,
   "metadata": {},
   "outputs": [],
   "source": [
    "import os\n",
    "import dotenv\n",
    "\n",
    "dotenv.load_dotenv()\n",
    "# Define the model name\n",
    "MODEL_NAME = \"claude-3-5-sonnet-20241022\"\n",
    "ANTHROPIC_API_KEY = os.getenv(\"ANTHROPIC_API_KEY\")"
   ]
  },
  {
   "cell_type": "markdown",
   "metadata": {},
   "source": [
    "## Initialize Maxim SDK"
   ]
  },
  {
   "cell_type": "code",
   "execution_count": null,
   "metadata": {},
   "outputs": [],
   "source": [
    "from maxim import Maxim\n",
    "# It picks up MAXIM_API_KEY and MAXIM_LOG_REPO_ID from environment variables\n",
    "logger = Maxim().logger()"
   ]
  },
  {
   "cell_type": "markdown",
   "metadata": {},
   "source": [
    "## Wrap anthropic client with MaximAnthropicClient"
   ]
  },
  {
   "cell_type": "code",
   "execution_count": null,
   "metadata": {},
   "outputs": [],
   "source": [
    "# Set up Maxim logger configuration\n",
    "from uuid import uuid4\n",
    "from anthropic import Anthropic  # Import required constants\n",
    "from maxim.logger.anthropic import MaximAnthropicClient\n",
    "\n",
    "client = MaximAnthropicClient(Anthropic(api_key=ANTHROPIC_API_KEY), logger)\n",
    "\n",
    "user_input = \"What was the capital of France in 1800s?\"\n",
    "\n",
    "# Call Claude and log the response\n",
    "response = client.messages.create(\n",
    "    model=\"claude-3-5-sonnet-20241022\",\n",
    "    max_tokens=1024,\n",
    "    messages=[{\"role\": \"user\", \"content\": user_input}],\n",
    "    extra_headers={\"x-maxim-trace-id\": str(uuid4())}    \n",
    ")\n",
    "# Extract the plain text from the response\n",
    "print(response)"
   ]
  }
 ],
 "metadata": {
  "kernelspec": {
   "display_name": ".venv",
   "language": "python",
   "name": "python3"
  },
  "language_info": {
   "codemirror_mode": {
    "name": "ipython",
    "version": 3
   },
   "file_extension": ".py",
   "mimetype": "text/x-python",
   "name": "python",
   "nbconvert_exporter": "python",
   "pygments_lexer": "ipython3",
   "version": "3.12.8"
  }
 },
 "nbformat": 4,
 "nbformat_minor": 2
}
