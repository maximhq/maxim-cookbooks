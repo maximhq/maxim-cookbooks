{
 "cells": [
  {
   "cell_type": "markdown",
   "metadata": {},
   "source": [
    "## Tutorial to trace OpenAI agents SDK on Maxim\n"
   ]
  },
  {
   "cell_type": "markdown",
   "metadata": {},
   "source": [
    "### Defining the agent\n",
    "\n",
    "We are using this English and Spanish speaking agent which is picked up by triage agent based on the question asked."
   ]
  },
  {
   "cell_type": "code",
   "execution_count": 1,
   "metadata": {},
   "outputs": [],
   "source": [
    "from agents import Agent, add_trace_processor, Runner\n",
    "\n",
    "spanish_agent = Agent(\n",
    "    name=\"Spanish agent\",\n",
    "    instructions=\"You only speak Spanish.\",\n",
    ")\n",
    "\n",
    "english_agent = Agent(\n",
    "    name=\"English agent\",\n",
    "    instructions=\"You only speak English\",\n",
    ")\n",
    "\n",
    "triage_agent = Agent(\n",
    "    name=\"Triage agent\",\n",
    "    instructions=\"Handoff to the appropriate agent based on the language of the request.\",\n",
    "    handoffs=[spanish_agent, english_agent],\n",
    ")"
   ]
  },
  {
   "cell_type": "markdown",
   "metadata": {},
   "source": [
    "### Initializing Maxim SDK\n",
    "\n",
    "3 lines to initialize. It picks up `MAXIM_API_KEY` and `MAXIM_LOG_REPO_ID` from ENV variables. You can pass them as parameters if you would like to. Learn more [here](https://www.getmaxim.ai/docs/observe/concepts#log-repository).\n"
   ]
  },
  {
   "cell_type": "code",
   "execution_count": 2,
   "metadata": {},
   "outputs": [],
   "source": [
    "from maxim import Maxim,Config\n",
    "from maxim.logger.openai.agents import MaximOpenAIAgentsTracingProcessor\n",
    "# Creating a new logger instance\n",
    "# It automatically initializes using MAXIM_API_KEY and MAXIM_LOG_REPO_ID from env variables.\n",
    "logger = Maxim(Config()).logger()"
   ]
  },
  {
   "cell_type": "markdown",
   "metadata": {},
   "source": [
    "### Running the agent"
   ]
  },
  {
   "cell_type": "code",
   "execution_count": 3,
   "metadata": {},
   "outputs": [],
   "source": [
    "# Add the trace processor to the agents\n",
    "add_trace_processor(MaximOpenAIAgentsTracingProcessor(logger))\n",
    "# Running the agents\n",
    "result = await Runner.run(triage_agent, input=\"Hola, ¿cómo estás?\")"
   ]
  },
  {
   "cell_type": "markdown",
   "metadata": {},
   "source": [
    "![OpenAI Agents SDK](assets/openai-agents-sdk.gif)"
   ]
  }
 ],
 "metadata": {
  "kernelspec": {
   "display_name": ".venv",
   "language": "python",
   "name": "python3"
  },
  "language_info": {
   "codemirror_mode": {
    "name": "ipython",
    "version": 3
   },
   "file_extension": ".py",
   "mimetype": "text/x-python",
   "name": "python",
   "nbconvert_exporter": "python",
   "pygments_lexer": "ipython3",
   "version": "3.12.8"
  }
 },
 "nbformat": 4,
 "nbformat_minor": 2
}
