{
 "cells": [
  {
   "cell_type": "markdown",
   "metadata": {},
   "source": [
    "# Manual tracing for OpenAI LLM calls using Maxim SDK\n"
   ]
  },
  {
   "cell_type": "markdown",
   "metadata": {},
   "source": [
    "## Initialize SDK\n"
   ]
  },
  {
   "cell_type": "code",
   "execution_count": 1,
   "metadata": {},
   "outputs": [],
   "source": [
    "import os\n",
    "from time import time\n",
    "\n",
    "from maxim import Maxim, LoggerConfig,Config\n",
    "from maxim.logger import SessionConfig, TraceConfig, GenerationConfig\n",
    "from uuid import uuid4\n",
    "\n",
    "# Retrieve API keys from environment variables\n",
    "MAXIM_API_KEY = os.getenv(\"MAXIM_API_KEY\")\n",
    "LOG_REPOSITORY_ID = os.getenv(\"LOG_REPOSITORY_ID\")\n",
    "OPENAI_API_KEY = os.getenv(\"OPENAI_API_KEY\")\n",
    "\n",
    "# Set up Maxim logger configuration\n",
    "\n",
    "maxim = Maxim(Config(api_key=MAXIM_API_KEY))\n",
    "logger = maxim.logger(LoggerConfig(id=LOG_REPOSITORY_ID))"
   ]
  },
  {
   "cell_type": "markdown",
   "metadata": {},
   "source": [
    "## Creating a session for tracing multi-turn interactions\n",
    "\n",
    "Session represents an entire conversation. More info [here](https://www.getmaxim.ai/docs/observe/concepts#session)"
   ]
  },
  {
   "cell_type": "code",
   "execution_count": 2,
   "metadata": {},
   "outputs": [],
   "source": [
    "# Set up a unique session and trace for the application\n",
    "session_id = str(uuid4())\n",
    "session_config = SessionConfig(id=session_id)\n",
    "session = logger.session(session_config)"
   ]
  },
  {
   "cell_type": "markdown",
   "metadata": {},
   "source": [
    "## Create a trace and add it to the session\n",
    "\n",
    "A trace represents one round trip between user <-> agent. More info [here]()"
   ]
  },
  {
   "cell_type": "code",
   "execution_count": 3,
   "metadata": {},
   "outputs": [],
   "source": [
    "trace_id = str(uuid4())\n",
    "trace_config = TraceConfig(id=trace_id)\n",
    "trace = session.trace(trace_config)"
   ]
  },
  {
   "cell_type": "code",
   "execution_count": 4,
   "metadata": {},
   "outputs": [
    {
     "name": "stdout",
     "output_type": "stream",
     "text": [
      "32b598d9-4ac1-4c99-ae7c-3e38c99b59be\n",
      "32b598d9-4ac1-4c99-ae7c-3e38c99b59be {'name': 'test', 'tags': {'test': 'test'}, 'startTimestamp': datetime.datetime(2025, 4, 7, 13, 23, 40, 28226, tzinfo=datetime.timezone.utc)}\n"
     ]
    }
   ],
   "source": [
    "from maxim.logger import SpanConfig\n",
    "span_id = str(uuid4())\n",
    "print(span_id)\n",
    "span = logger.trace_add_span(trace_id,SpanConfig(id=span_id,name=\"test\",tags={\"test\":\"test\"}))\n",
    "print(span.id,span.data())"
   ]
  },
  {
   "cell_type": "code",
   "execution_count": 12,
   "metadata": {},
   "outputs": [],
   "source": [
    "# Initialize generation configuration\n",
    "generation_id = str(uuid4())\n",
    "messages = [\n",
    "    {\"role\": \"system\", \"content\": \"You are a helpful assistant.\"},\n",
    "    {\"role\": \"user\", \"content\": \"Write a haiku about recursion in programming.\"},\n",
    "]\n",
    "generation_config = GenerationConfig(\n",
    "    id=generation_id,\n",
    "    name=\"generation\",\n",
    "    provider=\"openai\",\n",
    "    model=\"gpt-4o-mini\",\n",
    "    messages=messages\n",
    ")\n",
    "generation = trace.generation(generation_config)"
   ]
  },
  {
   "cell_type": "code",
   "execution_count": null,
   "metadata": {},
   "outputs": [],
   "source": [
    "from openai import OpenAI\n",
    "\n",
    "client = OpenAI(api_key=OPENAI_API_KEY)\n",
    "\n",
    "try:\n",
    "    # Create a chat completion request\n",
    "    response = client.chat.completions.create(\n",
    "        model=\"gpt-4o-mini\",\n",
    "        messages=messages,        \n",
    "    )\n",
    "    # Extract response text and usage\n",
    "    response_text = response.choices[0].message.content\n",
    "    usage = response.usage\n",
    "    \n",
    "    print(response_text,usage)\n",
    "\n",
    "    # Log the generation result with tokens\n",
    "    generation.result(response)\n",
    "    generation.end()\n",
    "finally:\n",
    "    trace.end()\n",
    "    logger.cleanup()"
   ]
  }
 ],
 "metadata": {
  "kernelspec": {
   "display_name": ".venv",
   "language": "python",
   "name": "python3"
  },
  "language_info": {
   "codemirror_mode": {
    "name": "ipython",
    "version": 3
   },
   "file_extension": ".py",
   "mimetype": "text/x-python",
   "name": "python",
   "nbconvert_exporter": "python",
   "pygments_lexer": "ipython3",
   "version": "3.10.16"
  }
 },
 "nbformat": 4,
 "nbformat_minor": 2
}
