{
 "cells": [
  {
   "cell_type": "markdown",
   "metadata": {},
   "source": [
    "## Trace bedrock SDK inferences on Maxim\n",
    "\n",
    "This notebook demonstrates how to integrate Maxim with AWS Bedrock to trace and monitor LLM inferences.\n",
    "It shows how to:\n",
    "1. Set up environment variables for Maxim and AWS Bedrock\n",
    "2. Initialize the AWS Bedrock client\n",
    "3. Send prompts to Claude models via Bedrock\n",
    "4. Capture and log these interactions with Maxim for monitoring and analysis"
   ]
  },
  {
   "cell_type": "code",
   "execution_count": 1,
   "metadata": {},
   "outputs": [],
   "source": [
    "import os\n",
    "from dotenv import load_dotenv\n",
    "\n",
    "# Load environment variables from .env file\n",
    "load_dotenv()\n",
    "\n",
    "# Access environment variables\n",
    "MAXIM_API_KEY = os.getenv('MAXIM_API_KEY')\n",
    "MAXIM_LOG_REPO_ID = os.getenv('MAXIM_LOG_REPO_ID')\n",
    "AWS_MODEL_ARN = os.getenv('AWS_MODEL_ARN')\n",
    "AWS_REGION = os.getenv('AWS_REGION')\n",
    "AWS_ACCESS_KEY_ID = os.getenv('AWS_ACCESS_KEY_ID')\n",
    "AWS_SECRET_ACCESS_KEY = os.getenv('AWS_SECRET_ACCESS_KEY')"
   ]
  },
  {
   "cell_type": "markdown",
   "metadata": {},
   "source": [
    "## Initialize Maxim SDK"
   ]
  },
  {
   "cell_type": "code",
   "execution_count": 2,
   "metadata": {},
   "outputs": [],
   "source": [
    "from maxim import Maxim,Config\n",
    "from maxim.logger import SessionConfig\n",
    "# Creating a new logger instance\n",
    "# It automatically initializes using MAXIM_API_KEY and MAXIM_LOG_REPO_ID from env variables.\n",
    "logger = Maxim(Config(raise_exceptions=False)).logger()"
   ]
  },
  {
   "cell_type": "markdown",
   "metadata": {},
   "source": [
    "## Initialize boto"
   ]
  },
  {
   "cell_type": "code",
   "execution_count": 3,
   "metadata": {},
   "outputs": [
    {
     "name": "stdout",
     "output_type": "stream",
     "text": [
      "Initializing MaximBedrockAsyncClient\n"
     ]
    }
   ],
   "source": [
    "import boto3\n",
    "from maxim.logger.bedrock import MaximBedrockClient\n",
    "model_arn = AWS_MODEL_ARN \n",
    "bedrock_client = boto3.client('bedrock-runtime', region_name=AWS_REGION, aws_access_key_id=AWS_ACCESS_KEY_ID, aws_secret_access_key=AWS_SECRET_ACCESS_KEY)\n",
    "maxim_bedrock_client = MaximBedrockClient(logger, bedrock_client)"
   ]
  },
  {
   "cell_type": "markdown",
   "metadata": {},
   "source": [
    "## Get response"
   ]
  },
  {
   "cell_type": "code",
   "execution_count": 4,
   "metadata": {},
   "outputs": [
    {
     "name": "stdout",
     "output_type": "stream",
     "text": [
      "\n",
      " Non-streaming response received: {'ResponseMetadata': {'RequestId': 'e6fbe133-4795-4fff-8e88-d6bdee51e823', 'HTTPStatusCode': 200, 'HTTPHeaders': {'date': 'Sat, 19 Apr 2025 19:33:26 GMT', 'content-type': 'application/json', 'content-length': '679', 'connection': 'keep-alive', 'x-amzn-requestid': 'e6fbe133-4795-4fff-8e88-d6bdee51e823'}, 'RetryAttempts': 0}, 'output': {'message': {'role': 'assistant', 'content': [{'text': 'George Washington was the first president of the United States, serving from 1789 to 1797. He was born on February 22, 1732, in Westmoreland County, Virginia, on a plantation along the Potomac River. He is often referred to as the \"Father of His Country\" for his crucial role in the founding of the United States and leading the Continental Army during the American Revolutionary War.'}]}}, 'stopReason': 'end_turn', 'usage': {'inputTokens': 23, 'outputTokens': 91, 'totalTokens': 114}, 'metrics': {'latencyMs': 1765}} \n",
      "\n"
     ]
    }
   ],
   "source": [
    "prompt = \"Who was the first president of the United States? and where was he born?\"\n",
    "\n",
    "# Prepare messages in the Converse API format\n",
    "messages = [\n",
    "    {\n",
    "        \"role\": \"user\",\n",
    "        \"content\": [{\"text\": prompt}],  # Content is a list, use {\"text\": ...} for text\n",
    "    }\n",
    "]\n",
    "inference_config = {\"maxTokens\": 100, \"temperature\": 0.7}\n",
    "\n",
    "try:\n",
    "    # No need for await here since we're using the synchronous client\n",
    "    response_dict = maxim_bedrock_client.converse(\n",
    "        messages=messages,\n",
    "        modelId=model_arn,\n",
    "        inferenceConfig=inference_config,\n",
    "        # Add other parameters like system if needed\n",
    "    )\n",
    "    print(\"\\n Non-streaming response received:\", response_dict, \"\\n\")    \n",
    "except Exception as e:\n",
    "    print(f\"Error during non-streaming call: {type(e).__name__} - {e}\")"
   ]
  }
 ],
 "metadata": {
  "kernelspec": {
   "display_name": ".venv",
   "language": "python",
   "name": "python3"
  },
  "language_info": {
   "codemirror_mode": {
    "name": "ipython",
    "version": 3
   },
   "file_extension": ".py",
   "mimetype": "text/x-python",
   "name": "python",
   "nbconvert_exporter": "python",
   "pygments_lexer": "ipython3",
   "version": "3.12.8"
  }
 },
 "nbformat": 4,
 "nbformat_minor": 2
}
