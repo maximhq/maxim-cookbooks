{
 "cells": [
  {
   "cell_type": "markdown",
   "metadata": {},
   "source": [
    "## Trace bedrock SDK inferences on Maxim\n",
    "\n",
    "This notebook demonstrates how to integrate Maxim with AWS Bedrock to trace and monitor LLM inferences.\n",
    "It shows how to:\n",
    "1. Set up environment variables for Maxim and AWS Bedrock\n",
    "2. Initialize the AWS Bedrock client\n",
    "3. Send prompts to Claude models via Bedrock\n",
    "4. Capture and log these interactions with Maxim for monitoring and analysis"
   ]
  },
  {
   "cell_type": "code",
   "execution_count": 1,
   "metadata": {},
   "outputs": [],
   "source": [
    "import os\n",
    "from dotenv import load_dotenv\n",
    "\n",
    "# Load environment variables from .env file\n",
    "load_dotenv()\n",
    "\n",
    "# Access environment variables\n",
    "MAXIM_API_KEY = os.getenv('MAXIM_API_KEY')\n",
    "MAXIM_LOG_REPO_ID = os.getenv('MAXIM_LOG_REPO_ID')\n",
    "AWS_MODEL_ARN = os.getenv('AWS_MODEL_ARN')\n",
    "AWS_REGION = os.getenv('AWS_REGION')\n",
    "AWS_ACCESS_KEY_ID = os.getenv('AWS_ACCESS_KEY_ID')\n",
    "AWS_SECRET_ACCESS_KEY = os.getenv('AWS_SECRET_ACCESS_KEY')"
   ]
  },
  {
   "cell_type": "markdown",
   "metadata": {},
   "source": [
    "## Initialize Maxim SDK"
   ]
  },
  {
   "cell_type": "code",
   "execution_count": 2,
   "metadata": {},
   "outputs": [],
   "source": [
    "from maxim import Maxim,Config\n",
    "# Creating a new logger instance\n",
    "# It automatically initializes using MAXIM_API_KEY and MAXIM_LOG_REPO_ID from env variables.\n",
    "logger = Maxim(Config()).logger()"
   ]
  },
  {
   "cell_type": "markdown",
   "metadata": {},
   "source": [
    "## Initialize boto"
   ]
  },
  {
   "cell_type": "code",
   "execution_count": null,
   "metadata": {},
   "outputs": [],
   "source": [
    "import boto3\n",
    "from maxim.logger.bedrock import MaximBedrockClient\n",
    "\n",
    "model_arn = AWS_MODEL_ARN \n",
    "bedrock_client = boto3.client('bedrock-runtime', region_name=AWS_REGION, aws_access_key_id=AWS_ACCESS_KEY_ID, aws_secret_access_key=AWS_SECRET_ACCESS_KEY)\n",
    "maxim_bedrock_client = MaximBedrockClient(logger, bedrock_client)"
   ]
  },
  {
   "cell_type": "markdown",
   "metadata": {},
   "source": [
    "## Get response"
   ]
  },
  {
   "cell_type": "code",
   "execution_count": null,
   "metadata": {},
   "outputs": [],
   "source": [
    "prompt = \"Write a very short poem about the city of Bengaluru.\"\n",
    "\n",
    "# Prepare messages in the Converse API format\n",
    "messages = [\n",
    "    {\n",
    "        \"role\": \"user\",\n",
    "        \"content\": [{\"text\": prompt}],  # Content is a list, use {\"text\": ...} for text\n",
    "    }\n",
    "]\n",
    "inference_config = {\"maxTokens\": 100, \"temperature\": 0.7}\n",
    "\n",
    "try:\n",
    "    # No need for await here since we're using the synchronous client\n",
    "    response_dict = maxim_bedrock_client.converse(\n",
    "        messages=messages,\n",
    "        modelId=model_arn,\n",
    "        inferenceConfig=inference_config,\n",
    "        # Add other parameters like system if needed\n",
    "    )\n",
    "    print(\"\\n Non-streaming response received:\", response_dict, \"\\n\")    \n",
    "except Exception as e:\n",
    "    print(f\"Error during non-streaming call: {type(e).__name__} - {e}\")"
   ]
  }
 ],
 "metadata": {
  "kernelspec": {
   "display_name": ".venv",
   "language": "python",
   "name": "python3"
  },
  "language_info": {
   "codemirror_mode": {
    "name": "ipython",
    "version": 3
   },
   "file_extension": ".py",
   "mimetype": "text/x-python",
   "name": "python",
   "nbconvert_exporter": "python",
   "pygments_lexer": "ipython3",
   "version": "3.12.8"
  }
 },
 "nbformat": 4,
 "nbformat_minor": 2
}
