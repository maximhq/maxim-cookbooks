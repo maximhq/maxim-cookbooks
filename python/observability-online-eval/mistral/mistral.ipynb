{
 "cells": [
  {
   "cell_type": "markdown",
   "metadata": {},
   "source": [
    "# Maxim's Tracing on Mistral Models\n",
    " \n",
    "This notebook demonstrates how to implement Maxim's tracing capabilities on Mistral AI's language models. "
   ]
  },
  {
   "cell_type": "markdown",
   "metadata": {},
   "source": [
    "# Initialize maxim and env variables"
   ]
  },
  {
   "cell_type": "code",
   "execution_count": null,
   "metadata": {},
   "outputs": [],
   "source": [
    "from dotenv import load_dotenv\n",
    "from maxim import Maxim\n",
    "\n",
    "load_dotenv()\n",
    "\n",
    "# This automatically picks up MAXIM_API_KEY and MAXIM_LOG_REPO_ID from the environment variables.\n",
    "logger = Maxim().logger()"
   ]
  },
  {
   "cell_type": "markdown",
   "metadata": {},
   "source": [
    "# Wrap Mistral client with MaximMistralClient"
   ]
  },
  {
   "cell_type": "code",
   "execution_count": null,
   "metadata": {},
   "outputs": [],
   "source": [
    "from mistralai import Mistral\n",
    "from maxim.logger.mistral import MaximMistralClient\n",
    "import os\n",
    "\n",
    "\n",
    "with MaximMistralClient(Mistral(\n",
    "    api_key=os.getenv(\"MISTRAL_API_KEY\", \"\"),\n",
    "),logger) as mistral:\n",
    "\n",
    "    res = mistral.chat.complete(model=\"mistral-small-latest\", messages=[\n",
    "        {\n",
    "            \"content\": \"Who is the best French painter? Answer in one short sentence.\",\n",
    "            \"role\": \"user\",\n",
    "        },\n",
    "    ])\n",
    "\n",
    "    # Handle response\n",
    "    print(res)"
   ]
  },
  {
   "cell_type": "markdown",
   "metadata": {},
   "source": [
    "## Async call"
   ]
  },
  {
   "cell_type": "code",
   "execution_count": null,
   "metadata": {},
   "outputs": [],
   "source": [
    "# Example: Mistral async chat completion without using asyncio\n",
    "\n",
    "async with MaximMistralClient(Mistral(\n",
    "    api_key=os.getenv('MISTRAL_API_KEY', ''),\n",
    "), logger) as mistral:\n",
    "    # Use the async client method with .result() to block until complete\n",
    "    response = await mistral.chat.complete_async(\n",
    "        model='mistral-small-latest',\n",
    "        messages=[\n",
    "            {\n",
    "                'role': 'user',\n",
    "                'content': 'Explain the difference between async and sync programming in Python in one sentence.'\n",
    "            }\n",
    "        ]\n",
    "    )    \n",
    "    print(response)\n",
    "\n",
    "\n"
   ]
  }
 ],
 "metadata": {
  "kernelspec": {
   "display_name": ".venv",
   "language": "python",
   "name": "python3"
  },
  "language_info": {
   "codemirror_mode": {
    "name": "ipython",
    "version": 3
   },
   "file_extension": ".py",
   "mimetype": "text/x-python",
   "name": "python",
   "nbconvert_exporter": "python",
   "pygments_lexer": "ipython3",
   "version": "3.12.8"
  }
 },
 "nbformat": 4,
 "nbformat_minor": 2
}
