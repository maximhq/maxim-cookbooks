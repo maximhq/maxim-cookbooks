{
 "cells": [
  {
   "cell_type": "markdown",
   "metadata": {},
   "source": [
    "## Initializing Maxim "
   ]
  },
  {
   "cell_type": "code",
   "execution_count": null,
   "metadata": {},
   "outputs": [],
   "source": [
    "import dotenv\n",
    "from maxim import Maxim\n",
    "\n",
    "dotenv.load_dotenv()\n",
    "\n",
    "logger = Maxim().logger()"
   ]
  },
  {
   "cell_type": "markdown",
   "metadata": {},
   "source": [
    "## Attaching local file to a trace"
   ]
  },
  {
   "cell_type": "code",
   "execution_count": null,
   "metadata": {},
   "outputs": [],
   "source": [
    "from uuid import uuid4\n",
    "from maxim.logger import FileAttachment,UrlAttachment\n",
    "\n",
    "trace = logger.trace({\"id\": str(uuid4())})\n",
    "trace.set_input(\"test input\")\n",
    "trace.add_attachment(FileAttachment(path=\"./files/wav_audio.wav\"))\n",
    "span = trace.span({\"id\": str(uuid4()),\"name\":\"test span\"})\n",
    "span.add_attachment(UrlAttachment(url=\"https://images.unsplash.com/photo-1520004434532-668416a08753?q=80&w=2670&auto=format&fit=crop&ixlib=rb-4.1.0&ixid=M3wxMjA3fDB8MHxwaG90by1wYWdlfHx8fGVufDB8fHx8fA%3D%3D\", mime_type=\"image/*\"))\n",
    "span.add_attachment(FileAttachment(path=\"./files/text_file.txt\"))\n",
    "span.add_attachment(FileAttachment(path=\"./files/wav_audio.wav\"))\n",
    "span.add_attachment(FileAttachment(path=\"./files/png_image.png\"))\n",
    "trace.set_output(\"test output\")\n",
    "trace.end()\n",
    "logger.flush()"
   ]
  },
  {
   "cell_type": "markdown",
   "metadata": {},
   "source": [
    "## Attaching text file binary data to a trace"
   ]
  },
  {
   "cell_type": "code",
   "execution_count": null,
   "metadata": {},
   "outputs": [],
   "source": [
    "from uuid import uuid4\n",
    "from maxim.logger import FileDataAttachment\n",
    "\n",
    "trace = logger.trace({\"id\": str(uuid4())})\n",
    "trace.set_input(\"test input\")\n",
    "file = open(\"./files/text_file.txt\", \"rb\")\n",
    "trace.add_attachment(FileDataAttachment(data=file.read()))\n",
    "trace.set_output(\"test output\")\n",
    "trace.end()\n",
    "logger.flush()"
   ]
  },
  {
   "cell_type": "markdown",
   "metadata": {},
   "source": [
    "## Attaching audio file blob to trace"
   ]
  },
  {
   "cell_type": "code",
   "execution_count": null,
   "metadata": {},
   "outputs": [],
   "source": [
    "from uuid import uuid4\n",
    "from maxim.logger import FileDataAttachment\n",
    "\n",
    "trace = logger.trace({\"id\": str(uuid4())})\n",
    "trace.set_input(\"test input\")\n",
    "file = open(\"./files/wav_audio.wav\", \"rb\")\n",
    "trace.add_attachment(FileDataAttachment(data=file.read()))\n",
    "trace.set_output(\"test output\")\n",
    "trace.end()\n",
    "logger.flush()"
   ]
  }
 ],
 "metadata": {
  "kernelspec": {
   "display_name": ".venv",
   "language": "python",
   "name": "python3"
  },
  "language_info": {
   "codemirror_mode": {
    "name": "ipython",
    "version": 3
   },
   "file_extension": ".py",
   "mimetype": "text/x-python",
   "name": "python",
   "nbconvert_exporter": "python",
   "pygments_lexer": "ipython3",
   "version": "3.12.8"
  }
 },
 "nbformat": 4,
 "nbformat_minor": 2
}
