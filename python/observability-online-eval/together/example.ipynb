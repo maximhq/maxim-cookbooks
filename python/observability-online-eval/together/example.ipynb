{
 "cells": [
  {
   "cell_type": "markdown",
   "id": "a9cd232c",
   "metadata": {},
   "source": [
    "## Import Statements"
   ]
  },
  {
   "cell_type": "code",
   "execution_count": 1,
   "id": "5d086958",
   "metadata": {},
   "outputs": [],
   "source": [
    "import os\n",
    "from together import Together\n",
    "from dotenv import load_dotenv\n",
    "from maxim import Maxim\n",
    "from maxim.logger.together import instrument_together"
   ]
  },
  {
   "cell_type": "markdown",
   "id": "18d3c6d9",
   "metadata": {},
   "source": [
    "## Configure Together & Maxim"
   ]
  },
  {
   "cell_type": "code",
   "execution_count": 2,
   "id": "e745105b",
   "metadata": {},
   "outputs": [],
   "source": [
    "TOGETHER_API_KEY = os.getenv('TOGETHER_API_KEY')\n",
    "MAXIM_API_KEY = os.getenv('MAXIM_API_KEY')\n",
    "MAXIM_LOG_REPO_ID = os.getenv('MAXIM_LOG_REPO_ID')"
   ]
  },
  {
   "cell_type": "code",
   "execution_count": 3,
   "id": "2a072dcc",
   "metadata": {},
   "outputs": [
    {
     "name": "stdout",
     "output_type": "stream",
     "text": [
      "\u001b[32m[MaximSDK] Initializing Maxim AI(v3.10.8)\u001b[0m\n"
     ]
    }
   ],
   "source": [
    "# Load environment variables from .env file\n",
    "load_dotenv()\n",
    "\n",
    "instrument_together(Maxim().logger())"
   ]
  },
  {
   "cell_type": "markdown",
   "id": "777baaa3",
   "metadata": {},
   "source": [
    "## Make a Simple Chat Completion Request"
   ]
  },
  {
   "cell_type": "code",
   "execution_count": 4,
   "id": "5ca8d298",
   "metadata": {},
   "outputs": [
    {
     "name": "stdout",
     "output_type": "stream",
     "text": [
      "The city that never sleeps - New York! There are countless fun things to do in the Big Apple. Here are some ideas to get you started:\n",
      "\n",
      "**Iconic Landmarks:**\n",
      "\n",
      "1. **Statue of Liberty and Ellis Island**: Take a ferry to Liberty Island to see the iconic statue up close and visit the Ellis Island Immigration Museum.\n",
      "2. **Central Park**: A tranquil oasis in the middle of Manhattan, offering walking paths, lakes, and plenty of people-watching opportunities.\n",
      "3. **Times Square**: The heart of New York's entertainment district, known for its bright lights, giant billboards, and lively street performers.\n",
      "4. **Empire State Building**: For a panoramic view of the city, head to the observation deck of this iconic skyscraper.\n",
      "\n",
      "**Museums and Galleries:**\n",
      "\n",
      "1. **The Metropolitan Museum of Art**: One of the world's largest and most famous museums, with a collection that spans over 5,000 years of human history.\n",
      "2. **American Museum of Natural History**: Explore the wonders of the natural world, from dinosaurs to space exploration.\n",
      "3. **The Museum of Modern Art (MoMA)**: A must-visit for art lovers, with a collection that includes works by Warhol, Pollock, and Picasso.\n",
      "4. **Guggenheim Museum**: Designed by Frank Lloyd Wright, this museum features an impressive collection of modern and contemporary art.\n",
      "\n",
      "**Performing Arts:**\n",
      "\n",
      "1. **Broadway Shows**: Catch a performance of a hit musical or play on the Great White Way.\n",
      "2. **Lincoln Center**: Home to the New York City Ballet, the Metropolitan Opera, and the New York Philharmonic.\n",
      "3. **Carnegie Hall**: One of the world's most famous concert venues, hosting a wide range of performances.\n",
      "4. **Comedy Clubs**: Laugh out loud at iconic clubs like Carolines on Broadway or the Comedy Cellar.\n",
      "\n",
      "**Food and Drink:**\n",
      "\n",
      "1. **Try a classic New York-style pizza**: Visit Lombardi's, Joe's Pizza, or Patsy's Pizzeria for a slice of heaven.\n",
      "2. **Bagels**: Ess-a-Bagel, H&H Bagels, or Russ & Daughters Cafe are just a few of the many iconic bagel shops.\n",
      "3. **Deli sandwiches**: Katz's Delicatessen, Carnegie Deli, or Russ & Daughters Cafe serve up classic Jewish deli fare.\n",
      "4. **Explore Chinatown and Little Italy**: Sample the flavors of these vibrant neighborhoods, from dumplings to cannoli.\n",
      "\n",
      "**Outdoor Activities:**\n",
      "\n",
      "1. **Walk across the Brooklyn Bridge**: Take in the stunning views of the Manhattan skyline and the East River.\n",
      "2. **Rent a bike**: Explore the city on two wheels, following bike lanes and scenic routes.\n",
      "3. **Visit the High Line**: An elevated park built on an old rail line, offering great views of the Hudson River.\n",
      "4. **Take a stroll through Prospect Park**: A beautiful green space in Brooklyn, perfect for a picnic or a leisurely walk.\n",
      "\n",
      "**Shopping:**\n",
      "\n",
      "1. **Fifth Avenue**: Luxury shopping at its finest, with iconic department stores like Saks Fifth Avenue and Bergdorf Goodman.\n",
      "2. **SoHo**: Trendy boutiques and art galleries line the streets of this fashionable neighborhood.\n",
      "3. **Brooklyn Flea**: A weekend market featuring local vendors selling everything from vintage clothing to artisanal goods.\n",
      "4. **Grand Central Market**: A bustling marketplace with a variety of food stalls and shops.\n",
      "\n",
      "These are just a few of the many fun things to do in New York. Whether you're interested in history, art, food, or entertainment, the city has something for everyone.\n"
     ]
    }
   ],
   "source": [
    "from together import Together\n",
    "\n",
    "client = Together(api_key=TOGETHER_API_KEY)\n",
    "\n",
    "response = client.chat.completions.create(\n",
    "    model=\"meta-llama/Meta-Llama-3.1-8B-Instruct-Turbo\",\n",
    "    messages=[{\"role\": \"user\", \"content\": \"What are some fun things to do in New York?\"}],\n",
    ")\n",
    "\n",
    "print(response.choices[0].message.content)"
   ]
  },
  {
   "cell_type": "markdown",
   "id": "b5150d6d",
   "metadata": {},
   "source": [
    "## Streaming Request"
   ]
  },
  {
   "cell_type": "code",
   "execution_count": 5,
   "id": "cc0f5826",
   "metadata": {},
   "outputs": [
    {
     "name": "stdout",
     "output_type": "stream",
     "text": [
      "The city that never sleeps - New York! There are countless fun things to do in the Big Apple. Here are some ideas to get you started:\n",
      "\n",
      "**Iconic Landmarks:**\n",
      "\n",
      "1. **Statue of Liberty and Ellis Island**: Take a ferry to Liberty Island to see the iconic statue up close and visit the Ellis Island Immigration Museum.\n",
      "2. **Central Park**: A tranquil oasis in the middle of Manhattan, offering walking paths, lakes, and plenty of people-watching opportunities.\n",
      "3. **Times Square**: The heart of New York's entertainment district, known for its bright lights, giant billboards, and lively street performers.\n",
      "4. **Empire State Building**: For a panoramic view of the city, head to the observation deck of this iconic skyscraper.\n",
      "\n",
      "**Museums and Galleries:**\n",
      "\n",
      "1. **The Metropolitan Museum of Art**: One of the world's largest and most famous museums, with a collection that spans over 5,000 years of human history.\n",
      "2. **American Museum of Natural History**: Explore the wonders of the natural world, from dinosaurs to space exploration.\n",
      "3. **The Museum of Modern Art (MoMA)**: A must-visit for art lovers, with a collection that includes works by Warhol, Pollock, and Picasso.\n",
      "4. **9/11 Memorial & Museum**: A poignant tribute to the victims of the 9/11 attacks, featuring two massive reflecting pools and a museum with artifacts and stories.\n",
      "\n",
      "**Food and Drink:**\n",
      "\n",
      "1. **Try a classic New York-style pizza**: Visit Lombardi's, Joe's Pizza, or Patsy's Pizzeria for a slice of heaven.\n",
      "2. **Bagels**: Ess-a-Bagel, Russ & Daughters Cafe, or H&H Bagels are just a few of the many iconic bagel shops.\n",
      "3. **Deli sandwiches**: Katz's Delicatessen, Carnegie Deli, or Russ & Daughters Cafe serve up classic Jewish deli fare.\n",
      "4. **Explore Chinatown and Little Italy**: For a taste of international cuisine, head to these vibrant neighborhoods.\n",
      "\n",
      "**Theater and Performance:**\n",
      "\n",
      "1. **Broadway shows**: Catch a performance of a hit musical or play on the Great White Way.\n",
      "2. **Off-Broadway and Off-Off-Broadway**: Discover new talent and innovative productions in smaller theaters.\n",
      "3. **Comedy clubs**: Laugh out loud at iconic clubs like Carolines on Broadway or the Comedy Cellar.\n",
      "4. **Music venues**: From jazz clubs like Blue Note to rock venues like Madison Square Garden, there's always live music to be found.\n",
      "\n",
      "**Shopping:**\n",
      "\n",
      "1. **Fifth Avenue**: Luxury shopping at its finest, with flagship stores like Saks Fifth Avenue and Tiffany & Co.\n",
      "2. **SoHo**: Trendy boutiques and art galleries line the streets of this fashionable neighborhood.\n",
      "3. **Brooklyn Flea**: A weekend market featuring local vendors selling everything from vintage clothing to artisanal goods.\n",
      "4. **Grand Central Market**: A historic market offering a variety of food, flowers, and souvenirs.\n",
      "\n",
      "**Outdoor Activities:**\n",
      "\n",
      "1. **Walk across the Brooklyn Bridge**: Take in the stunning views of the Manhattan skyline and the East River.\n",
      "2. **Rent a bike**: Explore the city on two wheels, with bike-share programs like Citi Bike.\n",
      "3. **Visit the High Line**: An elevated park built on an old rail line, offering great views of the Hudson River.\n",
      "4. **Kayak or paddleboard**: Rent equipment and explore the city's waterways.\n",
      "\n",
      "These are just a few of the many fun things to do in New York. Whether you're interested in history, art, food, or entertainment, there's something for everyone in the city that never sleeps!"
     ]
    }
   ],
   "source": [
    "stream = client.chat.completions.create(\n",
    "  model=\"meta-llama/Meta-Llama-3.1-8B-Instruct-Turbo\",\n",
    "  messages=[{\"role\": \"user\", \"content\": \"What are some fun things to do in New York?\"}],\n",
    "  stream=True,\n",
    ")\n",
    "\n",
    "for chunk in stream:\n",
    "  print(chunk.choices[0].delta.content or \"\", end=\"\", flush=True)"
   ]
  },
  {
   "cell_type": "markdown",
   "id": "72a24155",
   "metadata": {},
   "source": [
    "## Async Requests"
   ]
  },
  {
   "cell_type": "code",
   "execution_count": 6,
   "id": "610a5096",
   "metadata": {},
   "outputs": [
    {
     "name": "stdout",
     "output_type": "stream",
     "text": [
      "San Francisco is a vibrant and diverse city with a wide range of activities and attractions to suit all interests. Here are some of the top things to do in San Francisco:\n",
      "\n",
      "1. **Explore Fisherman's Wharf**: This bustling waterfront district is known for its seafood restaurants, street performers, and stunning views of the Bay Bridge and Alcatraz Island.\n",
      "2. **Visit Alcatraz Island**: Take a ferry to the infamous former prison turned national park, where you can explore the cellblock, hear the stories of former inmates, and enjoy the stunning views of the city.\n",
      "3. **Walk across the Golden Gate Bridge**: This iconic suspension bridge offers breathtaking views of the city and the Bay, and is a must-do experience for any visitor to San Francisco.\n",
      "4. **Explore Chinatown**: San Francisco's Chinatown is one of the largest and oldest in the United States, with colorful streets, vibrant markets, and delicious food.\n",
      "5. **Visit the de Young Museum**: This fine arts museum features a diverse collection of art and cultural exhibitions from around the world, including works from Africa, Oceania, and the Americas.\n",
      "6. **Take a cable car ride**: San Francisco's historic cable cars are a fun and iconic way to see the city, with routes that take you through some of the city's most scenic neighborhoods.\n",
      "7. **Visit the Exploratorium**: This interactive science museum is a great place to learn about science and technology through hands-on exhibits and experiments.\n",
      "8. **Explore Haight-Ashbury**: This historic neighborhood is known for its hippie culture and counterculture movement of the 1960s, with colorful shops, cafes, and street art.\n",
      "9. **Visit the San Francisco Museum of Modern Art (SFMOMA)**: This modern art museum features a diverse collection of contemporary art, including works by artists such as Frida Kahlo and Mark Rothko.\n",
      "10. **Take a stroll through Golden Gate Park**: This massive urban park is home to several museums, gardens, and lakes, and offers a peaceful escape from the hustle and bustle of the city.\n",
      "11. **Visit the Painted Ladies**: These colorful Victorian houses are a iconic symbol of San Francisco's architecture and are a must-see for any visitor.\n",
      "12. **Go shopping in Union Square**: This bustling shopping district is home to some of the city's best department stores, boutiques, and specialty shops.\n",
      "13. **Take a food tour**: San Francisco is known for its diverse culinary scene, with a wide range of cuisines and restaurants to choose from.\n",
      "14. **Visit the Ferry Building Marketplace**: This historic ferry terminal has been transformed into a bustling marketplace with food stalls, restaurants, and shops.\n",
      "15. **Go hiking in the Presidio**: This former military base turned national park offers stunning views of the city and the Bay, as well as hiking trails and scenic overlooks.\n",
      "\n",
      "These are just a few of the many things to do in San Francisco. Whether you're interested in history, culture, food, or outdoor activities, there's something for everyone in this vibrant and diverse city.\n",
      "Paris is the capital city of France.\n"
     ]
    }
   ],
   "source": [
    "import asyncio\n",
    "from together import AsyncTogether\n",
    "\n",
    "async_client = AsyncTogether(api_key=TOGETHER_API_KEY)\n",
    "messages = [\n",
    "    \"What are the top things to do in San Francisco?\",\n",
    "    \"What country is Paris in?\",\n",
    "]\n",
    "\n",
    "async def async_chat_completion(messages):\n",
    "    async_client = AsyncTogether(api_key=TOGETHER_API_KEY)\n",
    "    tasks = [\n",
    "        async_client.chat.completions.create(\n",
    "            model=\"meta-llama/Meta-Llama-3.1-8B-Instruct-Turbo\",\n",
    "            messages=[{\"role\": \"user\", \"content\": message}],\n",
    "        )\n",
    "        for message in messages\n",
    "    ]\n",
    "    responses = await asyncio.gather(*tasks)\n",
    "\n",
    "    for response in responses:\n",
    "        print(response.choices[0].message.content)\n",
    "\n",
    "await async_chat_completion(messages)"
   ]
  }
 ],
 "metadata": {
  "kernelspec": {
   "display_name": ".venv",
   "language": "python",
   "name": "python3"
  },
  "language_info": {
   "codemirror_mode": {
    "name": "ipython",
    "version": 3
   },
   "file_extension": ".py",
   "mimetype": "text/x-python",
   "name": "python",
   "nbconvert_exporter": "python",
   "pygments_lexer": "ipython3",
   "version": "3.13.5"
  }
 },
 "nbformat": 4,
 "nbformat_minor": 5
}
