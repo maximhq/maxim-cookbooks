{
 "cells": [
  {
   "cell_type": "markdown",
   "id": "a9cd232c",
   "metadata": {},
   "source": [
    "## Import Statements"
   ]
  },
  {
   "cell_type": "code",
   "execution_count": 1,
   "id": "5d086958",
   "metadata": {},
   "outputs": [],
   "source": [
    "import os\n",
    "from together import Together\n",
    "from dotenv import load_dotenv\n",
    "from maxim import Maxim\n",
    "from maxim.logger.together import instrument_together"
   ]
  },
  {
   "cell_type": "markdown",
   "id": "18d3c6d9",
   "metadata": {},
   "source": [
    "## Configure Together & Maxim"
   ]
  },
  {
   "cell_type": "code",
   "execution_count": null,
   "id": "e4cb258e",
   "metadata": {},
   "outputs": [],
   "source": [
    "# Load environment variables from .env file\n",
    "load_dotenv()"
   ]
  },
  {
   "cell_type": "code",
   "execution_count": null,
   "id": "2a072dcc",
   "metadata": {},
   "outputs": [],
   "source": [
    "TOGETHER_API_KEY = os.getenv('TOGETHER_API_KEY')\n",
    "MAXIM_API_KEY = os.getenv('MAXIM_API_KEY')\n",
    "MAXIM_LOG_REPO_ID = os.getenv('MAXIM_LOG_REPO_ID')"
   ]
  },
  {
   "cell_type": "code",
   "execution_count": null,
   "id": "2a072dcc",
   "metadata": {},
   "outputs": [
    {
     "name": "stdout",
     "output_type": "stream",
     "text": [
      "\u001b[32m[MaximSDK] Initializing Maxim AI(v3.10.8)\u001b[0m\n"
     ]
    }
   ],
   "source": [
    "instrument_together(Maxim().logger())"
   ]
  },
  {
   "cell_type": "markdown",
   "id": "777baaa3",
   "metadata": {},
   "source": [
    "## Make a Simple Chat Completion Request"
   ]
  },
  {
   "cell_type": "code",
   "execution_count": 6,
   "id": "5ca8d298",
   "metadata": {},
   "outputs": [
    {
     "name": "stdout",
     "output_type": "stream",
     "text": [
      "The city that never sleeps - New York! There are countless fun things to do in the Big Apple, but here are some of the top attractions and activities:\n",
      "\n",
      "**Iconic Landmarks:**\n",
      "\n",
      "1. **Statue of Liberty and Ellis Island**: Take a ferry to Liberty Island to see the iconic statue up close and visit the Ellis Island Immigration Museum.\n",
      "2. **Central Park**: A tranquil oasis in the middle of Manhattan, offering walking paths, lakes, and plenty of people-watching opportunities.\n",
      "3. **Times Square**: The heart of New York's entertainment district, known for its bright lights, giant billboards, and lively atmosphere.\n",
      "4. **Empire State Building**: For a panoramic view of the city, head to the observation deck of this iconic skyscraper.\n",
      "\n",
      "**Museums and Galleries:**\n",
      "\n",
      "1. **The Metropolitan Museum of Art**: One of the world's largest and most famous museums, with a vast collection of art and artifacts from around the world.\n",
      "2. **American Museum of Natural History**: Explore the wonders of the natural world, from dinosaurs to space exploration.\n",
      "3. **Guggenheim Museum**: Designed by Frank Lloyd Wright, this museum features an impressive collection of modern and contemporary art.\n",
      "4. **9/11 Memorial & Museum**: A poignant tribute to the victims of the 9/11 attacks, with two massive reflecting pools and a museum featuring artifacts and stories from that day.\n",
      "\n",
      "**Performing Arts:**\n",
      "\n",
      "1. **Broadway Shows**: Catch a performance of a hit musical or play on the Great White Way.\n",
      "2. **Lincoln Center**: Home to the New York City Ballet, the Metropolitan Opera, and the Juilliard School.\n",
      "3. **Carnegie Hall**: One of the world's most famous concert venues, hosting a wide range of performances.\n",
      "4. **Comedy Clubs**: Laugh out loud at iconic clubs like Carolines on Broadway or the Comedy Cellar.\n",
      "\n",
      "**Food and Drink:**\n",
      "\n",
      "1. **Try a Classic New York Pizza**: Visit iconic pizzerias like Lombardi's or Joe's Pizza for a slice of classic NYC-style pizza.\n",
      "2. **Bagels and Lox**: Sample a classic Jewish deli breakfast at Russ & Daughters Cafe or Ess-a-Bagel.\n",
      "3. **Dine at a Michelin-Starred Restaurant**: Treat yourself to a fine dining experience at one of the many Michelin-starred restaurants in the city.\n",
      "4. **Explore Chinatown and Little Italy**: Discover the flavors and cultures of these vibrant neighborhoods.\n",
      "\n",
      "**Outdoor Activities:**\n",
      "\n",
      "1. **Walk across the Brooklyn Bridge**: Take in the stunning views of the Manhattan skyline and the East River.\n",
      "2. **Rent a Bike**: Explore the city on two wheels, following bike lanes and scenic routes.\n",
      "3. **Visit the High Line**: An elevated park built on an old rail line, offering great views of the city.\n",
      "4. **Take a Boat Tour**: Explore the city's waterways and landmarks from the water.\n",
      "\n",
      "**Shopping:**\n",
      "\n",
      "1. **Fifth Avenue**: Luxury shopping at its finest, with iconic department stores like Saks Fifth Avenue and Bergdorf Goodman.\n",
      "2. **SoHo**: Trendy boutiques and art galleries in this charming neighborhood.\n",
      "3. **Greenwich Village**: Quirky shops and vintage stores in this historic neighborhood.\n",
      "4. **Brooklyn Flea**: A weekend market featuring local vendors and artisanal goods.\n",
      "\n",
      "These are just a few of the many fun things to do in New York. Whether you're interested in history, art, food, or entertainment, the city has something for everyone.\n"
     ]
    }
   ],
   "source": [
    "from together import Together\n",
    "\n",
    "client = Together(api_key=TOGETHER_API_KEY)\n",
    "\n",
    "response = client.chat.completions.create(\n",
    "    model=\"meta-llama/Meta-Llama-3.1-8B-Instruct-Turbo\",\n",
    "    messages=[{\"role\": \"user\", \"content\": \"What are some fun things to do in New York?\"}],\n",
    ")\n",
    "\n",
    "print(response.choices[0].message.content)"
   ]
  },
  {
   "cell_type": "markdown",
   "id": "b5150d6d",
   "metadata": {},
   "source": [
    "## Streaming Request"
   ]
  },
  {
   "cell_type": "code",
   "execution_count": 8,
   "id": "cc0f5826",
   "metadata": {},
   "outputs": [
    {
     "name": "stdout",
     "output_type": "stream",
     "text": [
      "The city that never sleeps - New York! There are countless fun things to do in the Big Apple. Here are some ideas to get you started:\n",
      "\n",
      "**Iconic Landmarks:**\n",
      "\n",
      "1. **Statue of Liberty and Ellis Island**: Take a ferry to Liberty Island to see the iconic statue up close and visit the Ellis Island Immigration Museum.\n",
      "2. **Central Park**: A tranquil oasis in the middle of Manhattan, offering walking paths, lakes, and plenty of people-watching opportunities.\n",
      "3. **Times Square**: The heart of New York's entertainment district, known for its bright lights, giant billboards, and lively street performers.\n",
      "4. **Empire State Building**: For a panoramic view of the city, head to the observation deck of this iconic skyscraper.\n",
      "\n",
      "**Museums and Galleries:**\n",
      "\n",
      "1. **The Metropolitan Museum of Art**: One of the world's largest and most famous museums, with a collection that spans over 5,000 years of human history.\n",
      "2. **The Museum of Modern Art (MoMA)**: A must-visit for art lovers, with a collection that includes works by Warhol, Picasso, and Matisse.\n",
      "3. **American Museum of Natural History**: Explore the wonders of the natural world, from dinosaurs to space exploration.\n",
      "4. **Guggenheim Museum**: Designed by Frank Lloyd Wright, this museum is a work of art in itself, with a unique spiral design.\n",
      "\n",
      "**Performing Arts:**\n",
      "\n",
      "1. **Broadway Shows**: Catch a performance of a hit musical or play on the Great White Way.\n",
      "2. **Lincoln Center**: Home to the New York City Ballet, the Metropolitan Opera, and the New York Philharmonic.\n",
      "3. **Carnegie Hall**: One of the world's most famous concert venues, hosting a wide range of performances.\n",
      "4. **Comedy Clubs**: Laugh out loud at iconic clubs like Carolines on Broadway or the Comedy Cellar.\n",
      "\n",
      "**Food and Drink:**\n",
      "\n",
      "1. **Try a classic New York-style pizza**: Lombardi's, Joe's Pizza, or Patsy's are all must-visits.\n",
      "2. **Bagels**: Ess-a-Bagel or Russ & Daughters Cafe are great places to try a classic bagel with cream cheese.\n",
      "3. **Deli sandwiches**: Katz's Delicatessen or Carnegie Deli are iconic spots for a classic pastrami sandwich.\n",
      "4. **Explore Chinatown and Little Italy**: Try authentic Chinese or Italian cuisine in these vibrant neighborhoods.\n",
      "\n",
      "**Outdoor Activities:**\n",
      "\n",
      "1. **Walk across the Brooklyn Bridge**: Take in the stunning views of the Manhattan skyline and the East River.\n",
      "2. **Rent a bike**: Explore the city on two wheels, or take a bike tour to see the sights.\n",
      "3. **Visit the High Line**: An elevated park built on an old rail line, offering great views of the city.\n",
      "4. **Go to a Yankees game**: Catch a baseball game at Yankee Stadium, one of the most iconic stadiums in the country.\n",
      "\n",
      "**Shopping:**\n",
      "\n",
      "1. **Fifth Avenue**: Luxury shopping at its finest, with iconic department stores like Saks Fifth Avenue and Bergdorf Goodman.\n",
      "2. **SoHo**: Trendy boutiques and art galleries line the streets of this fashionable neighborhood.\n",
      "3. **Greenwich Village**: Explore the charming streets of this historic neighborhood, with its unique shops and cafes.\n",
      "4. **Brooklyn Flea**: A weekend market featuring local vendors selling everything from vintage clothing to artisanal foods.\n",
      "\n",
      "These are just a few of the many fun things to do in New York. Whether you're interested in art, history, food, or entertainment, there's something for everyone in the city that never sleeps."
     ]
    }
   ],
   "source": [
    "stream = client.chat.completions.create(\n",
    "  model=\"meta-llama/Meta-Llama-3.1-8B-Instruct-Turbo\",\n",
    "  messages=[{\"role\": \"user\", \"content\": \"What are some fun things to do in New York?\"}],\n",
    "  stream=True,\n",
    ")\n",
    "\n",
    "for chunk in stream:\n",
    "  print(chunk.choices[0].delta.content or \"\", end=\"\", flush=True)"
   ]
  },
  {
   "cell_type": "markdown",
   "id": "72a24155",
   "metadata": {},
   "source": [
    "## Async Requests"
   ]
  },
  {
   "cell_type": "code",
   "execution_count": 9,
   "id": "610a5096",
   "metadata": {},
   "outputs": [
    {
     "name": "stdout",
     "output_type": "stream",
     "text": [
      "San Francisco is a vibrant and diverse city with a wide range of activities and attractions to suit all interests. Here are some of the top things to do in San Francisco:\n",
      "\n",
      "1. **Explore Fisherman's Wharf**: This bustling waterfront district is home to seafood restaurants, street performers, and stunning views of the Bay Bridge and Alcatraz Island.\n",
      "2. **Visit Alcatraz Island**: Take a ferry to the infamous former prison turned national park, where you can explore the cellblock, hear the stories of former inmates, and enjoy the stunning views of the San Francisco Bay.\n",
      "3. **Walk across the Golden Gate Bridge**: This iconic suspension bridge offers breathtaking views of the city and the bay, and is a must-do experience for any visitor to San Francisco.\n",
      "4. **Discover Chinatown**: San Francisco's Chinatown is one of the largest and oldest in the United States, with colorful streets, vibrant markets, and delicious food.\n",
      "5. **Visit the de Young Museum**: This fine arts museum features a diverse collection of art and cultural exhibitions from around the world, including works from Africa, Oceania, and the Americas.\n",
      "6. **Explore the Haight-Ashbury neighborhood**: This historic neighborhood was the epicenter of the 1960s counterculture movement, and is now home to vintage shops, cafes, and music venues.\n",
      "7. **Take a cable car ride**: San Francisco's iconic cable cars are a fun and nostalgic way to see the city, with routes that take you through some of the most scenic neighborhoods.\n",
      "8. **Visit the Exploratorium**: This interactive science museum features over 600 exhibits that allow visitors to explore the natural world and the human experience.\n",
      "9. **Go hiking in Golden Gate Park**: This massive urban park offers a variety of hiking trails, lakes, and gardens, and is a great place to escape the hustle and bustle of the city.\n",
      "10. **Enjoy the food scene**: San Francisco is known for its diverse and vibrant food scene, with popular dishes like sourdough bread, Dungeness crab, and Mission-style burritos.\n",
      "11. **Visit the Painted Ladies**: These colorful Victorian houses are one of the most photographed landmarks in San Francisco, and are a must-see for any visitor.\n",
      "12. **Take a ferry to Sausalito**: This charming waterfront town is just a short ferry ride from San Francisco, and offers stunning views of the bay and the city skyline.\n",
      "13. **Visit the San Francisco Museum of Modern Art (SFMOMA)**: This world-class museum features a diverse collection of modern and contemporary art, including works by artists like Frida Kahlo and Mark Rothko.\n",
      "14. **Go shopping in Union Square**: This bustling shopping district is home to high-end boutiques, department stores, and street performers.\n",
      "15. **Attend a sports game**: San Francisco is home to several professional sports teams, including the 49ers (football), the Giants (baseball), and the Warriors (basketball).\n",
      "16. **Visit the Palace of Fine Arts**: This stunning building was constructed for the 1915 Panama-Pacific Exposition, and is now a popular spot for photos and events.\n",
      "17. **Take a stroll through the Presidio**: This former military base turned national park offers stunning views of the city and the bay, as well as hiking trails and scenic overlooks.\n",
      "18. **Visit the Walt Disney Family Museum**: This museum showcases the life and career of Walt Disney, with interactive exhibits and a collection of Disney memorabilia.\n",
      "19. **Go to a concert or show**: San Francisco is home to a thriving arts and culture scene, with numerous theaters, concert halls, and music venues.\n",
      "20. **Take a day trip to nearby Napa Valley**: This world-renowned wine region is just a short drive from San Francisco, and offers wine tastings, vineyard tours, and stunning scenery.\n",
      "\n",
      "These are just a few of the many things to do in San Francisco. Whether you're interested in history, culture, food, or outdoor activities, there's something for everyone in this vibrant and diverse city.\n",
      "Paris is the capital city of France. It is located in the northern part of the country, along the Seine River.\n"
     ]
    }
   ],
   "source": [
    "import asyncio\n",
    "from together import AsyncTogether\n",
    "\n",
    "async_client = AsyncTogether(api_key=TOGETHER_API_KEY)\n",
    "messages = [\n",
    "    \"What are the top things to do in San Francisco?\",\n",
    "    \"What country is Paris in?\",\n",
    "]\n",
    "\n",
    "async def async_chat_completion(messages):\n",
    "    async_client = AsyncTogether(api_key=TOGETHER_API_KEY)\n",
    "    tasks = [\n",
    "        async_client.chat.completions.create(\n",
    "            model=\"meta-llama/Meta-Llama-3.1-8B-Instruct-Turbo\",\n",
    "            messages=[{\"role\": \"user\", \"content\": message}],\n",
    "        )\n",
    "        for message in messages\n",
    "    ]\n",
    "    responses = await asyncio.gather(*tasks)\n",
    "\n",
    "    for response in responses:\n",
    "        print(response.choices[0].message.content)\n",
    "\n",
    "await async_chat_completion(messages)"
   ]
  },
  {
   "cell_type": "code",
   "execution_count": null,
   "id": "2ac2fc71",
   "metadata": {},
   "outputs": [],
   "source": []
  }
 ],
 "metadata": {
  "kernelspec": {
   "display_name": ".venv",
   "language": "python",
   "name": "python3"
  },
  "language_info": {
   "codemirror_mode": {
    "name": "ipython",
    "version": 3
   },
   "file_extension": ".py",
   "mimetype": "text/x-python",
   "name": "python",
   "nbconvert_exporter": "python",
   "pygments_lexer": "ipython3",
   "version": "3.13.5"
  }
 },
 "nbformat": 4,
 "nbformat_minor": 5
}
