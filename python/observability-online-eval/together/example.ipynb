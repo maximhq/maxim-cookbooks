{
 "cells": [
  {
   "cell_type": "markdown",
   "id": "a9cd232c",
   "metadata": {},
   "source": [
    "## Import Statements"
   ]
  },
  {
   "cell_type": "code",
   "execution_count": null,
   "id": "5d086958",
   "metadata": {},
   "outputs": [],
   "source": [
    "import os\n",
    "from together import Together\n",
    "from dotenv import load_dotenv\n",
    "from maxim import Maxim\n",
    "from maxim.logger.together import instrument_together"
   ]
  },
  {
   "cell_type": "markdown",
   "id": "18d3c6d9",
   "metadata": {},
   "source": [
    "## Configure Together & Maxim"
   ]
  },
  {
   "cell_type": "code",
   "execution_count": 24,
   "id": "2a072dcc",
   "metadata": {},
   "outputs": [
    {
     "name": "stdout",
     "output_type": "stream",
     "text": [
      "\u001b[32m[MaximSDK] Initializing Maxim AI(v3.10.8)\u001b[0m\n"
     ]
    }
   ],
   "source": [
    "# Load environment variables from .env file\n",
    "load_dotenv()\n",
    "\n",
    "instrument_together(Maxim().logger())"
   ]
  },
  {
   "cell_type": "code",
   "execution_count": 25,
   "id": "da795e5a",
   "metadata": {},
   "outputs": [],
   "source": [
    "TOGETHER_API_KEY = os.getenv('TOGETHER_API_KEY')\n",
    "MAXIM_API_KEY = os.getenv('MAXIM_API_KEY')\n",
    "MAXIM_LOG_REPO_ID = os.getenv('MAXIM_LOG_REPO_ID')"
   ]
  },
  {
   "cell_type": "markdown",
   "id": "777baaa3",
   "metadata": {},
   "source": [
    "## Make a Simple Chat Completion Request"
   ]
  },
  {
   "cell_type": "code",
   "execution_count": 15,
   "id": "5ca8d298",
   "metadata": {},
   "outputs": [
    {
     "name": "stdout",
     "output_type": "stream",
     "text": [
      "The city that never sleeps - New York! There are countless fun things to do in the Big Apple, but here are some popular and iconic activities to consider:\n",
      "\n",
      "1. **Visit the Statue of Liberty and Ellis Island**: Take a ferry to Liberty Island to see the iconic statue up close and visit the Ellis Island Immigration Museum to learn about the history of immigration in the United States.\n",
      "2. **Explore the Metropolitan Museum of Art**: One of the world's largest and most famous museums, the Met features a vast collection of art and artifacts from around the world.\n",
      "3. **Walk across the Brooklyn Bridge**: Take in the stunning views of the Manhattan skyline and the East River while walking across this iconic bridge.\n",
      "4. **See a Broadway show**: New York is the hub of American theater, and there's no better place to see a live performance than on Broadway.\n",
      "5. **Visit Central Park**: This 843-acre green oasis in the middle of Manhattan offers a peaceful escape from the hustle and bustle of the city.\n",
      "6. **Take a food tour**: New York is a melting pot of cuisines, and there are countless food tours available to sample the best of the city's culinary scene.\n",
      "7. **Visit the 9/11 Memorial & Museum**: A poignant tribute to the victims of the 9/11 attacks, the memorial features two large reflecting pools surrounded by the names of those who were killed.\n",
      "8. **Go shopping on Fifth Avenue**: From high-end designer boutiques to iconic department stores like Saks Fifth Avenue and Bergdorf Goodman, Fifth Avenue is a shopper's paradise.\n",
      "9. **Visit the Top of the Rock Observation Deck**: For a panoramic view of the city, head to the Top of the Rock, which offers stunning views of the Manhattan skyline.\n",
      "10. **Take a stroll through Chinatown and Little Italy**: These vibrant neighborhoods offer a taste of the city's diverse cultural heritage, with colorful street art, delicious food, and lively markets.\n",
      "11. **Visit the American Museum of Natural History**: One of the largest and most famous natural history museums in the world, the AMNH features a vast collection of artifacts and exhibits on topics like dinosaurs, space, and human evolution.\n",
      "12. **Go to a TV show taping**: New York is home to many TV shows, and you can often attend a live taping of a show like Saturday Night Live, The Tonight Show, or Good Morning America.\n",
      "13. **Visit the High Line**: An elevated park built on an old rail line, the High Line offers stunning views of the Hudson River and the city.\n",
      "14. **Take a boat tour of the city**: See the city from a different perspective with a boat tour of the harbor or a sunset cruise.\n",
      "15. **Visit the Museum of Modern Art (MoMA)**: One of the world's premier modern art museums, MoMA features a vast collection of works by artists like Warhol, Pollock, and Picasso.\n",
      "16. **Go to a Yankees game**: Catch a baseball game at Yankee Stadium, one of the most iconic sports venues in the world.\n",
      "17. **Visit the New York Public Library**: A stunning Beaux-Arts building with a beautiful reading room and a vast collection of books and artifacts.\n",
      "18. **Take a walk through Times Square**: The heart of New York's entertainment district, Times Square is a bustling area with bright lights, giant billboards, and lively street performers.\n",
      "19. **Visit the Guggenheim Museum**: Designed by Frank Lloyd Wright, the Guggenheim is one of the most famous museums in the world, featuring a unique spiral design and a vast collection of modern and contemporary art.\n",
      "20. **Go to a comedy club**: New York is the hub of American comedy, and there are countless comedy clubs where you can see up-and-coming comedians and established stars.\n",
      "\n",
      "These are just a few of the many fun things to do in New York. Whether you're interested in art, history, food, or entertainment, there's something for everyone in the city that never sleeps.\n"
     ]
    }
   ],
   "source": [
    "from together import Together\n",
    "\n",
    "client = Together(api_key=TOGETHER_API_KEY)\n",
    "\n",
    "response = client.chat.completions.create(\n",
    "    model=\"meta-llama/Meta-Llama-3.1-8B-Instruct-Turbo\",\n",
    "    messages=[{\"role\": \"user\", \"content\": \"What are some fun things to do in New York?\"}],\n",
    ")\n",
    "\n",
    "print(response.choices[0].message.content)"
   ]
  },
  {
   "cell_type": "markdown",
   "id": "b5150d6d",
   "metadata": {},
   "source": [
    "## Streaming Request"
   ]
  },
  {
   "cell_type": "code",
   "execution_count": 16,
   "id": "cc0f5826",
   "metadata": {},
   "outputs": [
    {
     "name": "stdout",
     "output_type": "stream",
     "text": [
      "The city that never sleeps - New York! There are countless fun things to do in the Big Apple. Here are some ideas to get you started:\n",
      "\n",
      "**Iconic Landmarks:**\n",
      "\n",
      "1. **Statue of Liberty and Ellis Island**: Take a ferry to Liberty Island to see the iconic statue up close and visit the Ellis Island Immigration Museum.\n",
      "2. **Central Park**: A tranquil oasis in the middle of Manhattan, perfect for walking, picnicking, or people-watching.\n",
      "3. **Empire State Building**: For a panoramic view of the city, head to the observation deck of this iconic skyscraper.\n",
      "4. **Times Square**: The heart of New York's entertainment district, known for its bright lights, giant billboards, and lively atmosphere.\n",
      "\n",
      "**Museums and Galleries:**\n",
      "\n",
      "1. **The Metropolitan Museum of Art**: One of the world's largest and most famous museums, with a vast collection of art and artifacts from around the world.\n",
      "2. **American Museum of Natural History**: Explore the wonders of the natural world, from dinosaurs to space exploration.\n",
      "3. **The Museum of Modern Art (MoMA)**: A world-renowned museum of modern and contemporary art.\n",
      "4. **Guggenheim Museum**: Designed by Frank Lloyd Wright, this museum is a work of art in itself.\n",
      "\n",
      "**Performing Arts:**\n",
      "\n",
      "1. **Broadway Shows**: Catch a performance of a hit musical or play on the Great White Way.\n",
      "2. **Lincoln Center**: Home to the New York City Ballet, the Metropolitan Opera, and the New York Philharmonic.\n",
      "3. **Carnegie Hall**: One of the world's most famous concert venues, hosting a wide range of performances.\n",
      "4. **Comedy Clubs**: Laugh out loud at iconic comedy clubs like Carolines on Broadway or the Comedy Cellar.\n",
      "\n",
      "**Food and Drink:**\n",
      "\n",
      "1. **Try a Classic New York Pizza**: Visit iconic pizzerias like Lombardi's or Joe's Pizza.\n",
      "2. **Bagels and Lox**: Indulge in a classic Jewish deli breakfast at Russ & Daughters Cafe or Ess-a-Bagel.\n",
      "3. **Dine at a Michelin-Starred Restaurant**: Treat yourself to a fine dining experience at one of New York's many Michelin-starred restaurants.\n",
      "4. **Explore the Food Markets**: Visit Chelsea Market, Smorgasburg, or the Brooklyn Flea for a taste of the city's diverse culinary scene.\n",
      "\n",
      "**Outdoor Activities:**\n",
      "\n",
      "1. **Walk across the Brooklyn Bridge**: Take in the stunning views of the Manhattan skyline and the East River.\n",
      "2. **Rent a Bike**: Explore the city on two wheels, following bike lanes and scenic routes.\n",
      "3. **Visit the High Line**: An elevated park built on an old rail line, offering great views of the city.\n",
      "4. **Take a Stroll in Brooklyn Heights**: Enjoy the charming streets, historic homes, and stunning views of the Manhattan skyline.\n",
      "\n",
      "**Shopping:**\n",
      "\n",
      "1. **Fifth Avenue**: Luxury shopping at its finest, with iconic department stores like Saks Fifth Avenue and Bergdorf Goodman.\n",
      "2. **SoHo**: Trendy boutiques, art galleries, and independent shops.\n",
      "3. **Brooklyn Flea**: A weekend market featuring local vendors, artisanal goods, and vintage treasures.\n",
      "4. **Smorgasburg**: A food market with a variety of vendors, from artisanal cheeses to gourmet grilled cheese.\n",
      "\n",
      "These are just a few of the many fun things to do in New York. Whether you're interested in art, history, food, or entertainment, there's something for everyone in the city that never sleeps!"
     ]
    }
   ],
   "source": [
    "stream = client.chat.completions.create(\n",
    "  model=\"meta-llama/Meta-Llama-3.1-8B-Instruct-Turbo\",\n",
    "  messages=[{\"role\": \"user\", \"content\": \"What are some fun things to do in New York?\"}],\n",
    "  stream=True,\n",
    ")\n",
    "\n",
    "for chunk in stream:\n",
    "  print(chunk.choices[0].delta.content or \"\", end=\"\", flush=True)"
   ]
  },
  {
   "cell_type": "markdown",
   "id": "72a24155",
   "metadata": {},
   "source": [
    "## Async Requests"
   ]
  },
  {
   "cell_type": "code",
   "execution_count": 19,
   "id": "610a5096",
   "metadata": {},
   "outputs": [
    {
     "name": "stdout",
     "output_type": "stream",
     "text": [
      "San Francisco is a vibrant and diverse city with a wide range of activities and attractions to suit all interests. Here are some of the top things to do in San Francisco:\n",
      "\n",
      "1. **Explore Fisherman's Wharf**: This bustling waterfront district is known for its seafood restaurants, street performers, and stunning views of the Bay Bridge and Alcatraz Island.\n",
      "2. **Visit Alcatraz Island**: Take a ferry to the infamous former prison turned national park, where you can explore the cellblock, hear the stories of former inmates, and enjoy the stunning views of the San Francisco Bay.\n",
      "3. **Walk across the Golden Gate Bridge**: This iconic suspension bridge offers breathtaking views of the city and the bay, and is a must-do experience for any visitor to San Francisco.\n",
      "4. **Explore Chinatown**: San Francisco's Chinatown is one of the largest and oldest in the United States, with vibrant streets, colorful markets, and delicious food.\n",
      "5. **Visit the de Young Museum**: This fine arts museum features a diverse collection of art and cultural exhibitions from around the world, including works from Africa, Oceania, and the Americas.\n",
      "6. **Take a cable car ride**: San Francisco's historic cable cars are a fun and iconic way to see the city, with routes that take you through some of the city's most scenic neighborhoods.\n",
      "7. **Visit the Exploratorium**: This interactive science museum is a great place to learn and have fun, with hands-on exhibits and experiments that will delight visitors of all ages.\n",
      "8. **Explore Haight-Ashbury**: This historic neighborhood is known for its hippie culture and counterculture movement of the 1960s, with colorful shops, cafes, and street art.\n",
      "9. **Visit the San Francisco Museum of Modern Art (SFMOMA)**: This modern art museum features a diverse collection of contemporary art, including works by artists such as Frida Kahlo and Mark Rothko.\n",
      "10. **Take a stroll through Golden Gate Park**: This massive urban park is home to several museums, gardens, and lakes, and offers a peaceful escape from the hustle and bustle of the city.\n",
      "11. **Visit the Painted Ladies**: These colorful Victorian houses are a iconic symbol of San Francisco, and are a must-see for any visitor to the city.\n",
      "12. **Go shopping in Union Square**: This bustling shopping district is home to some of the city's best department stores, boutiques, and restaurants.\n",
      "13. **Take a food tour**: San Francisco is known for its diverse culinary scene, with a wide range of cuisines and restaurants to try.\n",
      "14. **Visit the Walt Disney Family Museum**: This museum is dedicated to the life and legacy of Walt Disney, with interactive exhibits and artifacts that will delight visitors of all ages.\n",
      "15. **Take a day trip to nearby attractions**: San Francisco is surrounded by beautiful natural attractions, including Muir Woods, Sausalito, and the Napa Valley wine country.\n",
      "\n",
      "These are just a few of the many things to do in San Francisco. Whether you're interested in history, art, food, or outdoor activities, there's something for everyone in this vibrant and diverse city.\n",
      "Paris is the capital city of France.\n"
     ]
    }
   ],
   "source": [
    "import asyncio\n",
    "from together import AsyncTogether\n",
    "\n",
    "async_client = AsyncTogether(api_key=TOGETHER_API_KEY)\n",
    "messages = [\n",
    "    \"What are the top things to do in San Francisco?\",\n",
    "    \"What country is Paris in?\",\n",
    "]\n",
    "\n",
    "async def async_chat_completion(messages):\n",
    "    async_client = AsyncTogether(api_key=TOGETHER_API_KEY)\n",
    "    tasks = [\n",
    "        async_client.chat.completions.create(\n",
    "            model=\"meta-llama/Meta-Llama-3.1-8B-Instruct-Turbo\",\n",
    "            messages=[{\"role\": \"user\", \"content\": message}],\n",
    "        )\n",
    "        for message in messages\n",
    "    ]\n",
    "    responses = await asyncio.gather(*tasks)\n",
    "\n",
    "    for response in responses:\n",
    "        print(response.choices[0].message.content)\n",
    "\n",
    "await async_chat_completion(messages)"
   ]
  },
  {
   "cell_type": "code",
   "execution_count": null,
   "id": "1109b41c",
   "metadata": {},
   "outputs": [],
   "source": []
  }
 ],
 "metadata": {
  "kernelspec": {
   "display_name": ".venv",
   "language": "python",
   "name": "python3"
  },
  "language_info": {
   "codemirror_mode": {
    "name": "ipython",
    "version": 3
   },
   "file_extension": ".py",
   "mimetype": "text/x-python",
   "name": "python",
   "nbconvert_exporter": "python",
   "pygments_lexer": "ipython3",
   "version": "3.13.5"
  }
 },
 "nbformat": 4,
 "nbformat_minor": 5
}
