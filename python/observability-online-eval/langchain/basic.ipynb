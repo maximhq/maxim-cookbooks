{
 "cells": [
  {
   "cell_type": "markdown",
   "metadata": {},
   "source": [
    "## Langchain + OpenAI LLM tracing using Maxim + Langchain"
   ]
  },
  {
   "cell_type": "code",
   "execution_count": null,
   "metadata": {},
   "outputs": [],
   "source": [
    "\n",
    "from dotenv import load_dotenv\n",
    "# Load environment variables from .env file\n",
    "load_dotenv()"
   ]
  },
  {
   "cell_type": "code",
   "execution_count": 2,
   "metadata": {},
   "outputs": [],
   "source": [
    "import os\n",
    "\n",
    "OPENAI_API_KEY = os.getenv(\"OPENAI_API_KEY\")"
   ]
  },
  {
   "cell_type": "markdown",
   "metadata": {},
   "source": [
    "Here we will initialize MaximLangchainTracer"
   ]
  },
  {
   "cell_type": "code",
   "execution_count": null,
   "metadata": {},
   "outputs": [],
   "source": [
    "from maxim import Maxim\n",
    "\n",
    "logger = Maxim().logger()"
   ]
  },
  {
   "cell_type": "markdown",
   "metadata": {},
   "source": [
    "Setting up langchain call"
   ]
  },
  {
   "cell_type": "code",
   "execution_count": null,
   "metadata": {},
   "outputs": [],
   "source": [
    "import json\n",
    "import uuid\n",
    "from langchain_openai import ChatOpenAI\n",
    "from maxim.logger.langchain import MaximLangchainTracer\n",
    "from langchain_core.tools import tool\n",
    "\n",
    "langchain_tracer = MaximLangchainTracer(logger)\n",
    "\n",
    "MODEL_NAME = \"gpt-4o\"\n",
    "llm = ChatOpenAI(model=MODEL_NAME, api_key=OPENAI_API_KEY)\n",
    "\n",
    "\n",
    "# Define a simple tool\n",
    "@tool\n",
    "def search_tool(query: str) -> str:\n",
    "     \"\"\"\n",
    "     Search the web for the latest news.\n",
    "\n",
    "    Args:\n",
    "        query: first int        \n",
    "    \"\"\"\n",
    "     return f\"Search results for: {query}\"\n",
    "\n",
    "\n",
    "user_input = \"latest football news\"\n",
    "system_message = \"You are a helpful assistant.\"\n",
    "\n",
    "llm_with_tools = llm.bind_tools([search_tool])\n",
    "trace_id = str(uuid.uuid4())\n",
    "trace = logger.trace({\"id\": trace_id, \"name\": \"langchain_trace\"})\n",
    "trace.end()\n",
    "# Make the API call to Claude using LangChain\n",
    "messages = [(\"system\", system_message), (\"human\", user_input)]\n",
    "response = llm_with_tools.invoke(messages,config={\"callbacks\":[langchain_tracer],\"metadata\":{\"maxim\":{\"trace_id\":trace.id}}})\n",
    "print(response)\n",
    "response_text = response.content\n",
    "search_toll_call = trace.tool_call({\"id\": str(uuid.uuid4()),\"name\": \"search_tool\",\"args\":json.dumps({\"query\":user_input})})\n",
    "# execute the tool\n",
    "final_tool_call_response = \"this is tool result\"\n",
    "search_toll_call.result(final_tool_call_response)\n",
    "print(response_text)\n",
    "trace.set_output(final_tool_call_response)\n",
    "\n",
    "\n",
    "# service 2\n",
    "trace = logger.trace({\"id\": trace_id, \"name\": \"langchain_trace\"})\n",
    "span_id=str(uuid.uuid4())\n",
    "span = trace.span({\"id\": span_id,\"name\": \"langchain_span\"})\n",
    "\n",
    "response = llm_with_tools.invoke(messages,config={\"callbacks\":[langchain_tracer],\"metadata\":{\"maxim\":{\"span_id\":span_id}}})\n",
    "span.event(str(uuid.uuid4()),\"langchain_event\")\n",
    "span.end()\n"
   ]
  },
  {
   "cell_type": "code",
   "execution_count": null,
   "metadata": {},
   "outputs": [],
   "source": [
    "langchain_tracer = MaximLangchainTracer(logger)\n",
    "\n",
    "MODEL_NAME = \"gpt-4o\"\n",
    "llm = ChatOpenAI(model=MODEL_NAME, api_key=OPENAI_API_KEY, streaming=True)\n",
    "\n",
    "user_input = \"Describe big bang theory\"\n",
    "system_message = \"You are a helpful assistant.\"\n",
    "# Make the API call using LangChain with streaming\n",
    "messages = [(\"system\", system_message), (\"human\", user_input)]\n",
    "\n",
    "# Stream the response\n",
    "response_text = \"\"\n",
    "for chunk in llm.stream(messages, config={\"callbacks\":[langchain_tracer]}):\n",
    "    pass\n",
    "\n",
    "print(\"\\n\\nFull response:\", response_text)"
   ]
  }
 ],
 "metadata": {
  "kernelspec": {
   "display_name": ".venv",
   "language": "python",
   "name": "python3"
  },
  "language_info": {
   "codemirror_mode": {
    "name": "ipython",
    "version": 3
   },
   "file_extension": ".py",
   "mimetype": "text/x-python",
   "name": "python",
   "nbconvert_exporter": "python",
   "pygments_lexer": "ipython3",
   "version": "3.9.13"
  }
 },
 "nbformat": 4,
 "nbformat_minor": 2
}
