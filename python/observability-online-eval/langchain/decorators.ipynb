{
 "cells": [
  {
   "cell_type": "markdown",
   "metadata": {},
   "source": [
    "# Maxim SDK tracing using Langchain Decorators"
   ]
  },
  {
   "cell_type": "code",
   "execution_count": 1,
   "metadata": {},
   "outputs": [],
   "source": [
    "# Load environment variables from .env file\n",
    "import os\n",
    "from dotenv import load_dotenv\n",
    "\n",
    "# Load environment variables at the beginning of the notebook\n",
    "load_dotenv()\n",
    "\n",
    "maxim_api_key = os.environ.get(\"MAXIM_API_KEY\", \"\")\n",
    "log_repo_id = os.environ.get(\"MAXIM_LOG_REPO_ID\", \"\")\n",
    "openai_key = os.environ.get(\"OPENAI_API_KEY\", \"\")\n",
    "weaviate_url = os.environ.get(\"WEAVIATE_URL\", \"\")\n",
    "weaviate_key = os.environ.get(\"WEAVIATE_API_KEY\", \"\")"
   ]
  },
  {
   "cell_type": "code",
   "execution_count": 2,
   "metadata": {},
   "outputs": [],
   "source": [
    "from maxim import Config, Maxim\n",
    "from maxim.logger import LoggerConfig\n",
    "from maxim.decorators.langchain import langchain_callback, langchain_llm_call\n",
    "\n",
    "\n",
    "logger = Maxim(Config()).logger(LoggerConfig(id=log_repo_id))"
   ]
  },
  {
   "cell_type": "code",
   "execution_count": 3,
   "metadata": {},
   "outputs": [
    {
     "name": "stderr",
     "output_type": "stream",
     "text": [
      "/var/folders/p0/3mgzlyg541g1j9s2d1wskc040000gn/T/ipykernel_87080/622684663.py:7: LangChainDeprecationWarning: The class `ChatOpenAI` was deprecated in LangChain 0.0.10 and will be removed in 1.0. An updated version of the class exists in the :class:`~langchain-openai package and should be used instead. To use it run `pip install -U :class:`~langchain-openai` and import as `from :class:`~langchain_openai import ChatOpenAI``.\n",
      "  llm = ChatOpenAI(api_key=openai_key, model=\"gpt-4o-mini\")\n"
     ]
    },
    {
     "name": "stdout",
     "output_type": "stream",
     "text": [
      "The capital of France is Paris. However, if you have any questions about movies, feel free to ask!\n"
     ]
    }
   ],
   "source": [
    "import json\n",
    "from maxim.decorators import current_retrieval, current_trace, retrieval, trace\n",
    "from langchain.chat_models.openai import ChatOpenAI\n",
    "from langchain.tools import tool\n",
    "from langchain_community.vectorstores import Weaviate\n",
    "\n",
    "llm = ChatOpenAI(api_key=openai_key, model=\"gpt-4o-mini\")\n",
    "\n",
    "\n",
    "@retrieval(name=\"weaviate-call\")\n",
    "def retrieve_docs(query: str):    \n",
    "    current_retrieval().input(query)\n",
    "    response_objects = [\n",
    "        {\n",
    "            \"properties\": {\n",
    "                \"title\": \"Movie Database Entry 1\",\n",
    "                \"year\": 2022,\n",
    "                \"description\": \"Sample movie description\",\n",
    "                \"genres\": [\"Action\"],\n",
    "                \"actors\": [\"Actor 1\", \"Actor 2\"],\n",
    "                \"director\": \"Director Name\"\n",
    "            }\n",
    "        },\n",
    "        {\n",
    "            \"properties\": {\n",
    "                \"title\": \"Movie Database Entry 2\",\n",
    "                \"year\": 2021,\n",
    "                \"description\": \"Sample movie description\",\n",
    "                \"genres\": [\"Drama\"],\n",
    "                \"actors\": [\"Actor 3\", \"Actor 4\"],\n",
    "                \"director\": \"Director Name\"\n",
    "            }\n",
    "        },\n",
    "        {\n",
    "            \"properties\": {\n",
    "                \"title\": \"Movie Database Entry 3\",\n",
    "                \"year\": 2020,\n",
    "                \"description\": \"Sample movie description\",\n",
    "                \"genres\": [\"Comedy\"],\n",
    "                \"actors\": [\"Actor 5\", \"Actor 6\"],\n",
    "                \"director\": \"Director Name\"\n",
    "            }\n",
    "        }\n",
    "    ]\n",
    "    return response_objects\n",
    "\n",
    "\n",
    "@langchain_llm_call(name=\"llm-call\")\n",
    "def execute(query: str):\n",
    "    context = retrieve_docs(query)\n",
    "    messages = [\n",
    "        (\n",
    "            \"system\",\n",
    "            f\"You answer questions about movies. Use provided list of movies to refine the response.\\n\\n List of movies: {json.dumps(context)}\\n Respond in proper markdown format\",\n",
    "        ),\n",
    "        (\"human\", query),\n",
    "    ]\n",
    "    result = llm.invoke(messages, config={\"callbacks\": [langchain_callback()]})\n",
    "    return result.content\n",
    "\n",
    "\n",
    "@trace(logger=logger, name=\"movie-chat-v1\")\n",
    "def generate(query: str):\n",
    "    return execute(query)\n",
    "    \n",
    "\n",
    "query = \"What is the capital of France?\"\n",
    "result = generate(query)\n",
    "print(result)"
   ]
  }
 ],
 "metadata": {
  "kernelspec": {
   "display_name": ".venv",
   "language": "python",
   "name": "python3"
  },
  "language_info": {
   "codemirror_mode": {
    "name": "ipython",
    "version": 3
   },
   "file_extension": ".py",
   "mimetype": "text/x-python",
   "name": "python",
   "nbconvert_exporter": "python",
   "pygments_lexer": "ipython3",
   "version": "3.9.13"
  }
 },
 "nbformat": 4,
 "nbformat_minor": 2
}
