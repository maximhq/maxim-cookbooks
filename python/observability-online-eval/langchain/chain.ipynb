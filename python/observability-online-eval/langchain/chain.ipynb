{
 "cells": [
  {
   "cell_type": "markdown",
   "metadata": {},
   "source": [
    "## Langchain + OpenAI LLM tracing using Maxim + Langchain"
   ]
  },
  {
   "cell_type": "code",
   "execution_count": null,
   "metadata": {},
   "outputs": [],
   "source": [
    "from dotenv import load_dotenv\n",
    "# Load environment variables from .env file\n",
    "load_dotenv()"
   ]
  },
  {
   "cell_type": "code",
   "execution_count": 2,
   "metadata": {},
   "outputs": [],
   "source": [
    "import os\n",
    "import logging\n",
    "\n",
    "LOG_REPOSITORY_ID = os.getenv(\"MAXIM_LOG_REPO_ID\")\n",
    "OPENAI_API_KEY = os.getenv(\"OPENAI_API_KEY\")\n",
    "\n",
    "# Set global debug level for logging\n",
    "# Options: DEBUG, INFO, WARNING, ERROR, CRITICAL\n",
    "# logging.basicConfig(level=logging.DEBUG)"
   ]
  },
  {
   "cell_type": "code",
   "execution_count": null,
   "metadata": {},
   "outputs": [],
   "source": [
    "from maxim import Maxim\n",
    "\n",
    "logger = Maxim().logger()"
   ]
  },
  {
   "cell_type": "markdown",
   "metadata": {},
   "source": [
    "## Chain with stream"
   ]
  },
  {
   "cell_type": "code",
   "execution_count": null,
   "metadata": {},
   "outputs": [],
   "source": [
    "import time\n",
    "import json\n",
    "\n",
    "from langchain_openai import ChatOpenAI\n",
    "from langchain_core.output_parsers import JsonOutputParser\n",
    "from langchain.prompts import ChatPromptTemplate\n",
    "from maxim.logger.langchain import MaximLangchainTracer\n",
    "\n",
    "langchain_tracer = MaximLangchainTracer(logger)\n",
    "\n",
    "MODEL_NAME = \"gpt-4o-mini\"\n",
    "llm = ChatOpenAI(model=MODEL_NAME, api_key=OPENAI_API_KEY,streaming=True)\n",
    "\n",
    "# Define the prompt template\n",
    "prompt = ChatPromptTemplate.from_messages(\n",
    "    [(\"system\", \"You are a helpful assistant.\"), (\"human\", \"{input}\")]\n",
    ")\n",
    "\n",
    "# Create a chain using pipe\n",
    "chain = prompt | llm | JsonOutputParser()\n",
    "\n",
    "# Run the chain with callbacks for tracing\n",
    "user_input = (\n",
    "    \"give me a basic json response. dont add anything else, just the json. not even ```\"\n",
    ")\n",
    "response = \"\"\n",
    "chunk_index = 0\n",
    "start_time = time.time()\n",
    "for event in chain.stream(\n",
    "    input=user_input,\n",
    "    config={\n",
    "        \"callbacks\": [langchain_tracer],\n",
    "        \"metadata\":{\"maxim\":{\"trace_tags\": {\"test\":\"test-123\"}}}\n",
    "    },\n",
    "):\n",
    "    if chunk_index == 0:\n",
    "        time_to_first_chunk = time.time() - start_time\n",
    "    response = json.dumps(event)\n",
    "    last_chunk = json.dumps(event)\n",
    "    chunk_index += 1\n",
    "time_to_last_chunk = time.time() - start_time\n",
    "logger.flush()\n",
    "print(response)"
   ]
  },
  {
   "cell_type": "markdown",
   "metadata": {},
   "source": [
    "## Chain with invoke"
   ]
  },
  {
   "cell_type": "code",
   "execution_count": null,
   "metadata": {},
   "outputs": [],
   "source": [
    "import time\n",
    "import json\n",
    "\n",
    "from langchain_openai import ChatOpenAI\n",
    "from langchain_core.output_parsers import JsonOutputParser\n",
    "from langchain.prompts import ChatPromptTemplate\n",
    "from maxim.logger.langchain import MaximLangchainTracer\n",
    "\n",
    "langchain_tracer = MaximLangchainTracer(logger)\n",
    "\n",
    "MODEL_NAME = \"gpt-4o-mini\"\n",
    "llm = ChatOpenAI(model=MODEL_NAME, api_key=OPENAI_API_KEY,streaming=True)\n",
    "\n",
    "# Define the prompt template\n",
    "prompt = ChatPromptTemplate.from_messages(\n",
    "    [(\"system\", \"You are a helpful assistant.\"), (\"human\", \"{input}\")]\n",
    ")\n",
    "\n",
    "# Create a chain using pipe\n",
    "chain = prompt | llm | JsonOutputParser()\n",
    "\n",
    "# Run the chain with callbacks for tracing\n",
    "user_input = (\n",
    "    \"give me a basic json response. dont add anything else, just the json. not even ```\"\n",
    ")\n",
    "response = \"\"\n",
    "chunk_index = 0\n",
    "start_time = time.time()\n",
    "response = chain.invoke(\n",
    "    input=user_input,\n",
    "    config={\n",
    "        \"callbacks\": [langchain_tracer],\n",
    "        \"metadata\":{\"maxim\":{\"trace_tags\": {}}}\n",
    "    },\n",
    ")\n",
    "\n",
    "logger.flush()\n",
    "print(response)"
   ]
  }
 ],
 "metadata": {
  "kernelspec": {
   "display_name": ".venv",
   "language": "python",
   "name": "python3"
  },
  "language_info": {
   "codemirror_mode": {
    "name": "ipython",
    "version": 3
   },
   "file_extension": ".py",
   "mimetype": "text/x-python",
   "name": "python",
   "nbconvert_exporter": "python",
   "pygments_lexer": "ipython3",
   "version": "3.9.13"
  }
 },
 "nbformat": 4,
 "nbformat_minor": 2
}
