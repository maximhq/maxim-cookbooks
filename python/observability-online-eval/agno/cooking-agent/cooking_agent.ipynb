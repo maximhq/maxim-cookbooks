{
  "cells": [
    {
      "cell_type": "raw",
      "metadata": {
        "vscode": {
          "languageId": "raw"
        }
      },
      "source": [
        "# Agno Cooking Agent 🍝\n",
        "\n",
        "A lightweight, high-performance cooking agent built with the **Agno framework** that can extract recipe information from natural language and generate detailed cooking instructions.\n",
        "\n",
        "## Features\n",
        "- **⚡ Ultra-fast**: ~2μs agent instantiation (10,000x faster than CrewAI)\n",
        "- **🪶 Lightweight**: ~3.75 KiB memory usage (50x less than CrewAI) \n",
        "- **🧠 Smart Extraction**: Parses dish names, serving sizes, and file paths\n",
        "- **👨‍🍳 Expert Recipes**: Generates detailed cooking instructions\n",
        "- **💾 File Management**: Automatically saves recipes to files\n",
        "- **📊 Observability**: Integrated with Maxim for monitoring\n",
        "\n",
        "Let's build our cooking agent step by step!\n"
      ]
    },
    {
      "cell_type": "raw",
      "metadata": {
        "vscode": {
          "languageId": "raw"
        }
      },
      "source": [
        "## 📦 Step 1: Import Dependencies\n",
        "\n",
        "First, let's import all the necessary libraries for our Agno cooking agent.\n"
      ]
    },
    {
      "cell_type": "code",
      "execution_count": 1,
      "metadata": {},
      "outputs": [
        {
          "name": "stdout",
          "output_type": "stream",
          "text": [
            "✅ All dependencies imported successfully!\n"
          ]
        },
        {
          "data": {
            "text/plain": [
              "True"
            ]
          },
          "execution_count": 1,
          "metadata": {},
          "output_type": "execute_result"
        }
      ],
      "source": [
        "from agno.agent import Agent\n",
        "from agno.models.openai import OpenAIChat\n",
        "from agno.tools import tool\n",
        "from dotenv import load_dotenv\n",
        "import os\n",
        "from pydantic import BaseModel\n",
        "from typing import Any, Dict\n",
        "import json\n",
        "\n",
        "from maxim import Maxim\n",
        "\n",
        "print(\"✅ All dependencies imported successfully!\")\n",
        "\n",
        "load_dotenv()"
      ]
    },
    {
      "cell_type": "raw",
      "metadata": {
        "vscode": {
          "languageId": "raw"
        }
      },
      "source": [
        "## 🔧 Step 2: Environment Setup\n",
        "\n",
        "Configure API keys and initialize the OpenAI model with Maxim logging integration.\n"
      ]
    },
    {
      "cell_type": "code",
      "execution_count": null,
      "metadata": {},
      "outputs": [
        {
          "name": "stdout",
          "output_type": "stream",
          "text": [
            "\u001b[32m[MaximSDK] Initializing Maxim AI(v3.9.6)\u001b[0m\n",
            "\u001b[32m[MaximSDK] Using info logging level.\u001b[0m\n",
            "\u001b[32m[MaximSDK] For debug logs, set global logging level to debug logging.basicConfig(level=logging.DEBUG).\u001b[0m\n"
          ]
        },
        {
          "name": "stderr",
          "output_type": "stream",
          "text": [
            "[MaximSDK] Key 'model' is not serializable and will be removed from data\n",
            "[MaximSDK] Key 'model' is not serializable and will be removed from data\n",
            "[MaximSDK] Key 'model' is not serializable and will be removed from data\n",
            "[MaximSDK] Key 'model' is not serializable and will be removed from data\n"
          ]
        }
      ],
      "source": [
        "# Initialize Maxim logger if credentials are provided\n",
        "\n",
        "logger = Maxim({}).logger({})\n",
        "\n",
        "# Instrumenting Agno\n",
        "from maxim.logger.agno import instrument_agno\n",
        "\n",
        "instrument_agno(logger)"
      ]
    },
    {
      "cell_type": "code",
      "execution_count": 4,
      "metadata": {},
      "outputs": [
        {
          "name": "stdout",
          "output_type": "stream",
          "text": [
            "✅ OpenAI model configured successfully!\n"
          ]
        }
      ],
      "source": [
        "# Setup OpenAI model\n",
        "llm = OpenAIChat(name=\"gpt-4o-mini\", api_key=os.environ[\"OPENAI_API_KEY\"])\n",
        "\n",
        "print(\"✅ OpenAI model configured successfully!\")"
      ]
    },
    {
      "cell_type": "raw",
      "metadata": {
        "vscode": {
          "languageId": "raw"
        }
      },
      "source": [
        "## 📋 Step 3: Define Data Models\n",
        "\n",
        "Create Pydantic models for structured data handling.\n"
      ]
    },
    {
      "cell_type": "code",
      "execution_count": 3,
      "metadata": {},
      "outputs": [
        {
          "name": "stdout",
          "output_type": "stream",
          "text": [
            "✅ Data models defined successfully!\n"
          ]
        }
      ],
      "source": [
        "# Pydantic models for structured output\n",
        "class ExtractFormat(BaseModel):\n",
        "    \"\"\"Model for extracted recipe information\"\"\"\n",
        "    dish_name: str = \"\"\n",
        "    number_served: int = 5\n",
        "    file_name: str = \"\"\n",
        "\n",
        "class ChefFormat(BaseModel):\n",
        "    \"\"\"Model for recipe data\"\"\"\n",
        "    recipe_data: str\n",
        "\n",
        "print(\"✅ Data models defined successfully!\")\n"
      ]
    },
    {
      "cell_type": "raw",
      "metadata": {
        "vscode": {
          "languageId": "raw"
        }
      },
      "source": [
        "## 🛠️ Step 4: Create Custom Tools\n",
        "\n",
        "Define custom tools that our agents can use, like file writing.\n"
      ]
    },
    {
      "cell_type": "code",
      "execution_count": 5,
      "metadata": {},
      "outputs": [
        {
          "name": "stdout",
          "output_type": "stream",
          "text": [
            "✅ Custom tools created successfully!\n"
          ]
        }
      ],
      "source": [
        "# File writing tool\n",
        "@tool(show_result=True)\n",
        "def write_file(filename: str, content: str) -> str:\n",
        "    \"\"\"Write content to a file.\"\"\"\n",
        "    try:\n",
        "        with open(filename, 'w', encoding='utf-8') as f:\n",
        "            f.write(content)\n",
        "        return f\"✅ Successfully wrote content to {filename}\"\n",
        "    except Exception as e:\n",
        "        return f\"❌ Error writing to file: {str(e)}\"\n",
        "\n",
        "print(\"✅ Custom tools created successfully!\")\n"
      ]
    },
    {
      "cell_type": "raw",
      "metadata": {
        "vscode": {
          "languageId": "raw"
        }
      },
      "source": [
        "## 🔍 Step 5: Create Extraction Agent\n",
        "\n",
        "This agent specializes in parsing user input to extract dish names, serving sizes, and file paths.\n"
      ]
    },
    {
      "cell_type": "code",
      "execution_count": 6,
      "metadata": {},
      "outputs": [
        {
          "name": "stdout",
          "output_type": "stream",
          "text": [
            "✅ Extraction Agent created successfully!\n",
            "📝 Agent Name: Extraction Agent\n",
            "🎯 Agent Role: Extract the names of dishes, files, and the quantity or numbers from given input\n"
          ]
        }
      ],
      "source": [
        "# Extraction Agent\n",
        "extraction_agent = Agent(\n",
        "    name=\"Extraction Agent\",\n",
        "    role=\"Extract the names of dishes, files, and the quantity or numbers from given input\",\n",
        "    model=llm,\n",
        "    instructions=[\n",
        "        \"You are expert in structuring any prose, and extracting information\",\n",
        "        \"You are brief and to the point\",\n",
        "        \"Extract dish_name, number_served, and file_name from the user input\",\n",
        "        \"Return the information in JSON format\"\n",
        "    ],\n",
        "    description=\"Extract details like dish_name, file_name and number of people to be served\",\n",
        "    response_model=ExtractFormat,\n",
        "    markdown=True,\n",
        "    show_tool_calls=True\n",
        ")\n",
        "\n",
        "print(\"✅ Extraction Agent created successfully!\")\n",
        "print(f\"📝 Agent Name: {extraction_agent.name}\")\n",
        "print(f\"🎯 Agent Role: {extraction_agent.role}\")\n"
      ]
    },
    {
      "cell_type": "raw",
      "metadata": {
        "vscode": {
          "languageId": "raw"
        }
      },
      "source": [
        "## 👨‍🍳 Step 6: Create Chef Agent\n",
        "\n",
        "This agent generates detailed recipes with ingredients, instructions, and cooking tips.\n"
      ]
    },
    {
      "cell_type": "code",
      "execution_count": 7,
      "metadata": {},
      "outputs": [
        {
          "name": "stdout",
          "output_type": "stream",
          "text": [
            "✅ Chef Agent created successfully!\n",
            "📝 Agent Name: Chef Agent\n",
            "🎯 Agent Role: Write recipes for the dishes asked by the users\n",
            "🛠️ Available Tools: 1 tool(s)\n"
          ]
        }
      ],
      "source": [
        "# Chef Agent\n",
        "chef_agent = Agent(\n",
        "    name=\"Chef Agent\", \n",
        "    role=\"Write recipes for the dishes asked by the users\",\n",
        "    model=llm,\n",
        "    tools=[write_file],\n",
        "    instructions=[\n",
        "        \"You are a Michelin star rated Master chef with culinary skills ranging from western to eastern region\",\n",
        "        \"You are brief and to the point\",\n",
        "        \"Provide short to the point recipes with quantity of ingredients\",\n",
        "        \"Write step by step guide for making the dish\",\n",
        "        \"Format the recipe in markdown\",\n",
        "        \"If a filename is provided, use the write_file tool to save the recipe\"\n",
        "    ],\n",
        "    description=\"Provide recipes with ingredients and cooking instructions\",\n",
        "    response_model=ChefFormat,\n",
        "    markdown=True,\n",
        "    show_tool_calls=True\n",
        ")\n",
        "\n",
        "print(\"✅ Chef Agent created successfully!\")\n",
        "print(f\"📝 Agent Name: {chef_agent.name}\")\n",
        "print(f\"🎯 Agent Role: {chef_agent.role}\")\n",
        "print(f\"🛠️ Available Tools: {len(chef_agent.tools)} tool(s)\")\n"
      ]
    },
    {
      "cell_type": "raw",
      "metadata": {
        "vscode": {
          "languageId": "raw"
        }
      },
      "source": [
        "## 📞 Step 7: Define Callback Functions\n",
        "\n",
        "Create callback functions for monitoring and debugging our agents' progress.\n"
      ]
    },
    {
      "cell_type": "code",
      "execution_count": 8,
      "metadata": {},
      "outputs": [
        {
          "name": "stdout",
          "output_type": "stream",
          "text": [
            "✅ Callback functions defined successfully!\n"
          ]
        }
      ],
      "source": [
        "# Callback functions for monitoring\n",
        "def on_extraction_complete(result: Dict[str, Any], **kwargs):\n",
        "    \"\"\"Callback for extraction completion\"\"\"\n",
        "    print(\"\\n\" + \"=\"*30)\n",
        "    print(\"🔍 EXTRACTION COMPLETE\")\n",
        "    print(\"=\"*30)\n",
        "    print(f\"📊 Extraction Result: {result}\")\n",
        "    \n",
        "    if hasattr(result, 'dish_name'):\n",
        "        # It's a Pydantic model\n",
        "        print(f\"🍽️  Dish Name: {result.dish_name or 'N/A'}\")\n",
        "        print(f\"👥 Number to serve: {result.number_served or 'N/A'}\")\n",
        "        print(f\"📁 File Name: {result.file_name or 'N/A'}\")\n",
        "    elif isinstance(result, dict):\n",
        "        # It's a dictionary\n",
        "        print(f\"🍽️  Dish Name: {result.get('dish_name', 'N/A')}\")\n",
        "        print(f\"👥 Number to serve: {result.get('number_served', 'N/A')}\")\n",
        "        print(f\"📁 File Name: {result.get('file_name', 'N/A')}\")\n",
        "    print(\"=\"*30)\n",
        "\n",
        "def on_recipe_complete(result: Dict[str, Any], **kwargs):\n",
        "    \"\"\"Callback for recipe completion\"\"\"\n",
        "    print(\"\\n\" + \"=\"*30)\n",
        "    print(\"👨‍🍳 RECIPE COMPLETE\")\n",
        "    print(\"=\"*30)\n",
        "    print(\"🎉 Recipe has been generated successfully!\")\n",
        "    print(\"=\"*30)\n",
        "\n",
        "print(\"✅ Callback functions defined successfully!\")\n"
      ]
    },
    {
      "cell_type": "raw",
      "metadata": {
        "vscode": {
          "languageId": "raw"
        }
      },
      "source": [
        "## 🤝 Step 8: Create Agent Team\n",
        "\n",
        "Build a team that orchestrates the two agents to work together sequentially.\n"
      ]
    },
    {
      "cell_type": "code",
      "execution_count": 9,
      "metadata": {},
      "outputs": [
        {
          "name": "stdout",
          "output_type": "stream",
          "text": [
            "🤝 CookingAgentTeam initialized!\n",
            "✅ Cooking Agent Team ready for action!\n"
          ]
        }
      ],
      "source": [
        "class CookingAgentTeam:\n",
        "    \"\"\"Cooking agent team that handles extraction and recipe generation\"\"\"\n",
        "    \n",
        "    def __init__(self):\n",
        "        self.extraction_agent = extraction_agent\n",
        "        self.chef_agent = chef_agent\n",
        "        print(\"🤝 CookingAgentTeam initialized!\")\n",
        "        \n",
        "    def process_request(self, user_input: str) -> Dict[str, Any]:\n",
        "        \"\"\"Process cooking request through extraction and recipe generation\"\"\"\n",
        "        \n",
        "        print(f\"📝 Processing request: {user_input}\")\n",
        "        print(\"-\" * 50)\n",
        "        \n",
        "        # Step 1: Extract information\n",
        "        print(\"🔍 Step 1: Extracting information from request...\")\n",
        "        extraction_result = self.extraction_agent.run(user_input)\n",
        "        \n",
        "        # Handle the result properly\n",
        "        if hasattr(extraction_result, 'content'):\n",
        "            extracted_data = extraction_result.content\n",
        "        else:\n",
        "            extracted_data = extraction_result\n",
        "            \n",
        "        # Parse JSON if it's a string\n",
        "        if isinstance(extracted_data, str):\n",
        "            try:\n",
        "                extracted_data = json.loads(extracted_data)\n",
        "            except json.JSONDecodeError:\n",
        "                extracted_data = {\n",
        "                    \"dish_name\": \"Unknown Dish\",\n",
        "                    \"number_served\": 4,\n",
        "                    \"file_name\": \"\"\n",
        "                }\n",
        "        \n",
        "        on_extraction_complete(extracted_data)\n",
        "        \n",
        "        # Step 2: Generate recipe\n",
        "        print(\"👨‍🍳 Step 2: Generating recipe...\")\n",
        "        \n",
        "        # Handle both Pydantic model and dictionary cases\n",
        "        if hasattr(extracted_data, 'dish_name'):\n",
        "            # It's a Pydantic model\n",
        "            dish_name = extracted_data.dish_name or 'the requested dish'\n",
        "            number_served = extracted_data.number_served or 4\n",
        "            file_name = extracted_data.file_name or \"\"\n",
        "        else:\n",
        "            # It's a dictionary (fallback)\n",
        "            dish_name = extracted_data.get('dish_name', 'the requested dish')\n",
        "            number_served = extracted_data.get('number_served', 4)\n",
        "            file_name = extracted_data.get('file_name', \"\")\n",
        "        \n",
        "        recipe_prompt = f\"\"\"\n",
        "        Create a detailed recipe for {dish_name} \n",
        "        to serve {number_served} people.\n",
        "        \n",
        "        Include:\n",
        "        - List of ingredients with precise quantities\n",
        "        - Step-by-step cooking instructions\n",
        "        - Cooking time and difficulty level\n",
        "        - Any special tips or variations\n",
        "        \n",
        "        Format the recipe in markdown.\n",
        "        \n",
        "        {f\"Save the recipe to file: {file_name}\" if file_name else \"\"}\n",
        "        \"\"\"\n",
        "        \n",
        "        recipe_result = self.chef_agent.run(recipe_prompt)\n",
        "        \n",
        "        # Handle the result properly\n",
        "        if hasattr(recipe_result, 'content'):\n",
        "            recipe_data = recipe_result.content\n",
        "        else:\n",
        "            recipe_data = recipe_result\n",
        "            \n",
        "        on_recipe_complete(recipe_data)\n",
        "        \n",
        "        return {\n",
        "            \"extraction\": extracted_data,\n",
        "            \"recipe\": recipe_data,\n",
        "            \"status\": \"completed\"\n",
        "        }\n",
        "\n",
        "# Initialize the cooking team\n",
        "cooking_team = CookingAgentTeam()\n",
        "print(\"✅ Cooking Agent Team ready for action!\")\n"
      ]
    },
    {
      "cell_type": "raw",
      "metadata": {
        "vscode": {
          "languageId": "raw"
        }
      },
      "source": [
        "## 🔧 IMPORTANT: Fix Applied!\n",
        "\n",
        "**The AttributeError has been fixed!** The issue was using `.get()` method on Pydantic models instead of accessing attributes directly.\n",
        "\n",
        "### ✅ What was fixed:\n",
        "- Updated `CookingAgentTeam.process_request()` method to handle both Pydantic models and dictionaries\n",
        "- Fixed callback functions to work with both data types\n",
        "- Added proper type checking using `hasattr()`\n",
        "\n",
        "### 🚀 To run the fixed version:\n",
        "1. **Option 1**: Run the cell below (Cell 20) - it recreates the cooking team with the fixed code\n",
        "2. **Option 2**: Restart kernel and run all cells from the beginning\n",
        "\n",
        "---\n"
      ]
    },
    {
      "cell_type": "raw",
      "metadata": {
        "vscode": {
          "languageId": "raw"
        }
      },
      "source": [
        "## 🧪 Step 9: Test the Cooking Agent\n",
        "\n",
        "Let's test our cooking agent with some example requests!\n"
      ]
    },
    {
      "cell_type": "code",
      "execution_count": 11,
      "metadata": {},
      "outputs": [
        {
          "name": "stdout",
          "output_type": "stream",
          "text": [
            "🍝 Testing Cooking Agent...\n",
            "============================================================\n",
            "📝 Input: I want a recipe for Spaghetti Carbonara to serve 4 people save to ./carbonara.md\n",
            "============================================================\n",
            "📝 Processing request: I want a recipe for Spaghetti Carbonara to serve 4 people save to ./carbonara.md\n",
            "--------------------------------------------------\n",
            "🔍 Step 1: Extracting information from request...\n",
            "\n",
            "==============================\n",
            "🔍 EXTRACTION COMPLETE\n",
            "==============================\n",
            "📊 Extraction Result: dish_name='Spaghetti Carbonara' number_served=4 file_name='./carbonara.md'\n",
            "🍽️  Dish Name: Spaghetti Carbonara\n",
            "👥 Number to serve: 4\n",
            "📁 File Name: ./carbonara.md\n",
            "==============================\n",
            "👨‍🍳 Step 2: Generating recipe...\n"
          ]
        },
        {
          "data": {
            "text/html": [
              "<pre style=\"white-space:pre;overflow-x:auto;line-height:normal;font-family:Menlo,'DejaVu Sans Mono',consolas,'Courier New',monospace\"><span style=\"color: #808000; text-decoration-color: #808000\">WARNING </span> Failed to parse cleaned JSON: Expecting value: line <span style=\"color: #008080; text-decoration-color: #008080; font-weight: bold\">1</span> column <span style=\"color: #008080; text-decoration-color: #008080; font-weight: bold\">1</span> <span style=\"font-weight: bold\">(</span>char <span style=\"color: #008080; text-decoration-color: #008080; font-weight: bold\">0</span><span style=\"font-weight: bold\">)</span>                                   \n",
              "</pre>\n"
            ],
            "text/plain": [
              "\u001b[33mWARNING \u001b[0m Failed to parse cleaned JSON: Expecting value: line \u001b[1;36m1\u001b[0m column \u001b[1;36m1\u001b[0m \u001b[1m(\u001b[0mchar \u001b[1;36m0\u001b[0m\u001b[1m)\u001b[0m                                   \n"
            ]
          },
          "metadata": {},
          "output_type": "display_data"
        },
        {
          "name": "stdout",
          "output_type": "stream",
          "text": [
            "\n",
            "==============================\n",
            "👨‍🍳 RECIPE COMPLETE\n",
            "==============================\n",
            "🎉 Recipe has been generated successfully!\n",
            "==============================\n",
            "\n",
            "============================================================\n",
            "📋 FINAL RESULT\n",
            "============================================================\n",
            "✅ Status: completed\n",
            "📊 Extracted Info: dish_name='Spaghetti Carbonara' number_served=4 file_name='./carbonara.md'\n",
            "📝 Recipe Generated: ✅\n",
            "============================================================\n",
            "\n",
            "🎉 Cooking agent test completed successfully!\n"
          ]
        }
      ],
      "source": [
        "def test_cooking_agent():\n",
        "    \"\"\"Test function to demonstrate the cooking agent functionality\"\"\"\n",
        "    \n",
        "    # Test case 1: Simple recipe request\n",
        "    test_input = \"I want a recipe for Spaghetti Carbonara to serve 4 people save to ./carbonara.md\"\n",
        "    \n",
        "    print(\"🍝 Testing Cooking Agent...\")\n",
        "    print(\"=\"*60)\n",
        "    print(f\"📝 Input: {test_input}\")\n",
        "    print(\"=\"*60)\n",
        "    \n",
        "    # Process the request\n",
        "    result = cooking_team.process_request(test_input)\n",
        "    \n",
        "    print(\"\\n\" + \"=\"*60)\n",
        "    print(\"📋 FINAL RESULT\")\n",
        "    print(\"=\"*60)\n",
        "    print(f\"✅ Status: {result['status']}\")\n",
        "    print(f\"📊 Extracted Info: {result['extraction']}\")\n",
        "    print(f\"📝 Recipe Generated: {'✅' if result['recipe'] else '❌'}\")\n",
        "    print(\"=\"*60)\n",
        "    \n",
        "    return result\n",
        "\n",
        "# Run the test\n",
        "result = test_cooking_agent()\n",
        "print(\"\\n🎉 Cooking agent test completed successfully!\")\n"
      ]
    },
    {
      "cell_type": "raw",
      "metadata": {
        "vscode": {
          "languageId": "raw"
        }
      },
      "source": [
        "## 🎮 Step 10: Interactive Examples\n",
        "\n",
        "Try different recipe requests! Modify the `user_request` variable below and run the cell.\n"
      ]
    },
    {
      "cell_type": "code",
      "execution_count": null,
      "metadata": {},
      "outputs": [],
      "source": [
        "# 🎯 Try different recipe requests!\n",
        "# Modify this variable and run the cell to test different recipes\n",
        "\n",
        "user_request = \"Give me a recipe for Chicken Tikka Masala for 6 people save to tikka_masala.md\"\n",
        "\n",
        "# Other examples you can try:\n",
        "# user_request = \"I need a simple recipe for Chocolate Pancakes for 2 people\"\n",
        "# user_request = \"How do I make Beef Tacos for 8 people save to tacos.md\"\n",
        "# user_request = \"Recipe for Vegetarian Pasta Primavera serving 5\"\n",
        "# user_request = \"I want to make Homemade Pizza for 4 people save to pizza_recipe.md\"\n",
        "\n",
        "print(f\"🍽️ Processing: {user_request}\")\n",
        "print(\"-\" * 70)\n",
        "\n",
        "# Process the request\n",
        "custom_result = cooking_team.process_request(user_request)\n",
        "\n",
        "extraction_data = custom_result['extraction']\n",
        "\n",
        "# Handle both Pydantic model and dictionary cases\n",
        "if hasattr(extraction_data, 'dish_name'):\n",
        "    # It's a Pydantic model\n",
        "    dish_name = extraction_data.dish_name\n",
        "    number_served = extraction_data.number_served\n",
        "    file_name = extraction_data.file_name\n",
        "else:\n",
        "    # It's a dictionary\n",
        "    dish_name = extraction_data.get('dish_name', 'Unknown')\n",
        "    number_served = extraction_data.get('number_served', 'Unknown')\n",
        "    file_name = extraction_data.get('file_name', '')\n",
        "\n",
        "print(f\"\\n✨ Recipe for {dish_name} is ready!\")\n",
        "print(f\"👥 Serves: {number_served} people\")\n",
        "\n",
        "if file_name:\n",
        "    print(f\"📁 Saved to: {file_name}\")\n",
        "else:\n",
        "    print(\"📁 No file specified - recipe displayed only\")\n"
      ]
    },
    {
      "cell_type": "raw",
      "metadata": {},
      "source": [
        "## 🎉 Summary\n",
        "\n",
        "Congratulations! You've successfully built a high-performance cooking agent using the Agno framework!\n",
        "\n",
        "### 🚀 What We've Built\n",
        "- **Extraction Agent**: Parses user requests to extract dish names, serving sizes, and file paths\n",
        "- **Chef Agent**: Generates detailed recipes with ingredients and cooking instructions\n",
        "- **Team Orchestration**: Coordinates both agents to work together seamlessly\n",
        "- **File Management**: Automatically saves recipes to specified files\n",
        "- **Monitoring**: Built-in callbacks for tracking agent progress\n",
        "\n",
        "### 📊 Performance Benefits\n",
        "- **⚡ Ultra-fast**: ~2μs agent instantiation (10,000x faster than CrewAI)\n",
        "- **🪶 Lightweight**: ~3.75 KiB memory usage (50x less than CrewAI)\n",
        "- **🎯 Structured**: Pydantic models ensure consistent data handling\n",
        "- **🛠️ Extensible**: Easy to add new tools and capabilities\n",
        "\n",
        "### 🔧 Next Steps\n",
        "1. **Customize Instructions**: Modify agent instructions for different cooking styles\n",
        "2. **Add Tools**: Create tools for nutrition calculation, meal planning, etc.\n",
        "3. **Enhance Monitoring**: Integrate with Maxim for advanced observability\n",
        "4. **Scale Up**: Deploy multiple agents for different cuisines or dietary restrictions\n",
        "\n",
        "### 🌟 Key Agno Features Demonstrated\n",
        "- Agent creation and configuration\n",
        "- Custom tool development\n",
        "- Structured output handling\n",
        "- Sequential agent orchestration\n",
        "- Real-time monitoring and callbacks\n",
        "\n",
        "---\n",
        "\n",
        "*Happy cooking with AI! 🍳✨*\n"
      ]
    }
  ],
  "metadata": {
    "kernelspec": {
      "display_name": ".venv",
      "language": "python",
      "name": "python3"
    },
    "language_info": {
      "codemirror_mode": {
        "name": "ipython",
        "version": 3
      },
      "file_extension": ".py",
      "mimetype": "text/x-python",
      "name": "python",
      "nbconvert_exporter": "python",
      "pygments_lexer": "ipython3",
      "version": "3.12.8"
    }
  },
  "nbformat": 4,
  "nbformat_minor": 2
}
