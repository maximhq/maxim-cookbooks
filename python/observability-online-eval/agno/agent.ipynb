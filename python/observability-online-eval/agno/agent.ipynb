{
 "cells": [
  {
   "cell_type": "markdown",
   "metadata": {},
   "source": [
    "## Set up the environment by importing necessary libraries and modules required for the financial conversational agent.\n"
   ]
  },
  {
   "cell_type": "code",
   "execution_count": null,
   "metadata": {},
   "outputs": [],
   "source": [
    "from dotenv import load_dotenv\n",
    "from agno.agent import Agent\n",
    "# from agno.models.google.gemini import Gemini\n",
    "from agno.models.openai import OpenAIChat\n",
    "from agno.tools.googlesearch import GoogleSearchTools\n",
    "from agno.tools.yfinance import YFinanceTools\n",
    "from maxim import Maxim\n",
    "from maxim.logger.agno import instrument_agno"
   ]
  },
  {
   "cell_type": "markdown",
   "metadata": {},
   "source": [
    "## Load environment variables from a .env file and instruments the agno agent with Maxim's logger for enhanced observability.\n"
   ]
  },
  {
   "cell_type": "code",
   "execution_count": null,
   "metadata": {},
   "outputs": [],
   "source": [
    "# Load environment variables from .env file\n",
    "load_dotenv()\n",
    "\n",
    "instrument_agno(Maxim().logger())"
   ]
  },
  {
   "cell_type": "markdown",
   "metadata": {},
   "source": [
    "## Define the Web Search Agent, which uses an LLM and Google Search tools to fetch financial information from the web.\n"
   ]
  },
  {
   "cell_type": "code",
   "execution_count": null,
   "metadata": {},
   "outputs": [],
   "source": [
    "# Web Search Agent: Fetches financial information from the web\n",
    "web_search_agent = Agent(\n",
    "    name=\"Web Agent\",\n",
    "    role=\"Search the web for information\",\n",
    "    # model=Gemini(id=\"gemini-2.0-flash-001\"),\n",
    "    model=OpenAIChat(id=\"gpt-4o\"),\n",
    "    tools=[GoogleSearchTools()],\n",
    "    instructions=\"Always include sources\",\n",
    "    show_tool_calls=True,\n",
    "    markdown=True,\n",
    ")"
   ]
  },
  {
   "cell_type": "markdown",
   "metadata": {},
   "source": [
    "## Define the Finance Agent, which uses an LLM and YFinance tools to retrieve financial data such as stock prices, analyst recommendations, and company information.\n"
   ]
  },
  {
   "cell_type": "code",
   "execution_count": null,
   "metadata": {},
   "outputs": [],
   "source": [
    "finance_agent = Agent(\n",
    "    name=\"Finance Agent\",\n",
    "    role=\"Get financial data\",\n",
    "    # model=Gemini(id=\"gemini-2.0-flash-001\"),\n",
    "    model=OpenAIChat(id=\"gpt-4o\"),\n",
    "    tools=[YFinanceTools(stock_price=True, analyst_recommendations=True, company_info=True)],\n",
    "    instructions=\"Use tables to display data\",\n",
    "    markdown=True,\n",
    ")\n"
   ]
  },
  {
   "cell_type": "markdown",
   "metadata": {},
   "source": [
    "## Aggregate both agents into a multi-agent system that can answer user questions about stocks, companies, and financial data by leveraging both web search and financial data tools.\n"
   ]
  },
  {
   "cell_type": "code",
   "execution_count": null,
   "metadata": {},
   "outputs": [],
   "source": [
    "# Aggregate both agents into a multi-agent system\n",
    "multi_ai_agent = Agent(\n",
    "    team=[web_search_agent, finance_agent],\n",
    "    # model=Gemini(id=\"gemini-2.0-flash-001\"),\n",
    "    model=OpenAIChat(id=\"gpt-4o\"),\n",
    "    instructions=\"You are a helpful financial assistant. Answer user questions about stocks, companies, and financial data.\",\n",
    "    show_tool_calls=True,\n",
    "    markdown=True\n",
    ")"
   ]
  },
  {
   "cell_type": "markdown",
   "metadata": {},
   "source": [
    "## The following cell defines the main interactive loop for the financial conversational agent, allowing users to input queries and receive responses from the multi-agent system.\n"
   ]
  },
  {
   "cell_type": "code",
   "execution_count": null,
   "metadata": {},
   "outputs": [],
   "source": [
    "if __name__ == \"__main__\":\n",
    "    print(\"Welcome to the Financial Conversational Agent! Type 'exit' to quit.\")\n",
    "    messages = []\n",
    "    while True:\n",
    "        print(\"********************************\")\n",
    "        user_input = input(\"You: \")\n",
    "        if user_input.strip().lower() in [\"exit\", \"quit\"]:\n",
    "            print(\"Goodbye!\")\n",
    "            break\n",
    "        messages.append({\"role\": \"user\", \"content\": user_input})\n",
    "        conversation = \"\\n\".join([\n",
    "            (\"User: \" + m[\"content\"]) if m[\"role\"] == \"user\" else (\"Agent: \" + m[\"content\"]) for m in messages\n",
    "        ])\n",
    "        response = multi_ai_agent.run(\n",
    "            f\"Conversation so far:\\n{conversation}\\n\\nRespond to the latest user message.\"\n",
    "        )\n",
    "        agent_reply = getattr(response, \"content\", response)\n",
    "        print(\"---------------------------------\")\n",
    "        print(\"Agent:\", agent_reply)\n",
    "        messages.append({\"role\": \"agent\", \"content\": str(agent_reply)})"
   ]
  }
 ],
 "metadata": {
  "kernelspec": {
   "display_name": "Python 3",
   "language": "python",
   "name": "python3"
  },
  "language_info": {
   "name": "python",
   "version": "3.12.11"
  }
 },
 "nbformat": 4,
 "nbformat_minor": 2
}
