{
 "cells": [
  {
   "cell_type": "markdown",
   "id": "860641fa",
   "metadata": {},
   "source": [
    "## Streaming Example"
   ]
  },
  {
   "cell_type": "code",
   "execution_count": 1,
   "id": "68e5b977",
   "metadata": {},
   "outputs": [],
   "source": [
    "import os\n",
    "import asyncio\n",
    "from dotenv import load_dotenv\n",
    "\n",
    "# Load environment variables from .env file\n",
    "load_dotenv()\n",
    "\n",
    "# Import Maxim components and instrument once at the top\n",
    "from maxim import Maxim\n",
    "from maxim.logger.pydantic_ai import instrument_pydantic_ai"
   ]
  },
  {
   "cell_type": "markdown",
   "id": "7b34467f",
   "metadata": {},
   "source": [
    "### Setup Maxim Logger"
   ]
  },
  {
   "cell_type": "code",
   "execution_count": 2,
   "id": "6164b4d1",
   "metadata": {},
   "outputs": [
    {
     "name": "stdout",
     "output_type": "stream",
     "text": [
      "\u001b[32m[MaximSDK] Initializing Maxim AI(v3.10.8)\u001b[0m\n"
     ]
    }
   ],
   "source": [
    "# Set up Maxim logger\n",
    "api_key = os.getenv(\"MAXIM_API_KEY\")\n",
    "repo_id = os.getenv(\"MAXIM_LOG_REPO_ID\")\n",
    "\n",
    "if not api_key:\n",
    "    print(\"Please set MAXIM_API_KEY environment variable\")\n",
    "    exit(1)\n",
    "\n",
    "if not repo_id:\n",
    "    print(\"Please set MAXIM_LOG_REPO_ID environment variable\")\n",
    "    exit(1)\n",
    "\n",
    "maxim = Maxim()\n",
    "maxim_logger = maxim.logger()\n"
   ]
  },
  {
   "cell_type": "markdown",
   "id": "7bca0afc",
   "metadata": {},
   "source": [
    "### Instrumentation by Maxim for Pydantic AI"
   ]
  },
  {
   "cell_type": "code",
   "execution_count": 3,
   "id": "f98cde38",
   "metadata": {},
   "outputs": [
    {
     "name": "stdout",
     "output_type": "stream",
     "text": [
      "Initializing Maxim instrumentation for Pydantic AI...\n",
      "Instrumentation complete!\n"
     ]
    }
   ],
   "source": [
    "# Instrument Pydantic AI once at the top\n",
    "print(\"Initializing Maxim instrumentation for Pydantic AI...\")\n",
    "instrument_pydantic_ai(maxim_logger, debug=True)\n",
    "print(\"Instrumentation complete!\")\n",
    "\n",
    "# Import Pydantic AI components\n",
    "try:\n",
    "    from pydantic_ai import Agent, RunContext\n",
    "    PYDANTIC_AI_AVAILABLE = True\n",
    "except ImportError:\n",
    "    print(\"Pydantic AI not available. Please install it first:\")\n",
    "    print(\"pip install pydantic-ai\")\n",
    "    exit(1)\n"
   ]
  },
  {
   "cell_type": "markdown",
   "id": "dd9c62fd",
   "metadata": {},
   "source": [
    "### Create Agents"
   ]
  },
  {
   "cell_type": "code",
   "execution_count": 4,
   "id": "6440a19f",
   "metadata": {},
   "outputs": [],
   "source": [
    "def create_streaming_agent():\n",
    "    \"\"\"Create a Pydantic AI agent with streaming capabilities.\"\"\"\n",
    "    agent = Agent(\n",
    "        model=\"openai:gpt-4o-mini\",\n",
    "        name=\"Streaming Agent\",\n",
    "        instructions=\"You are a helpful assistant that can provide detailed explanations and perform calculations.\"\n",
    "    )\n",
    "    \n",
    "    @agent.tool\n",
    "    def add_numbers(ctx: RunContext, a: float, b: float) -> float:\n",
    "        \"\"\"Add two numbers together.\"\"\"\n",
    "        print(f\"[Tool] Adding {a} + {b}\")\n",
    "        return a + b\n",
    "    \n",
    "    @agent.tool\n",
    "    def multiply_numbers(ctx: RunContext, a: float, b: float) -> float:\n",
    "        \"\"\"Multiply two numbers together.\"\"\"\n",
    "        print(f\"[Tool] Multiplying {a} * {b}\")\n",
    "        return a * b\n",
    "    \n",
    "    @agent.tool\n",
    "    def explain_concept(ctx: RunContext, topic: str) -> str:\n",
    "        \"\"\"Provide a brief explanation of a concept.\"\"\"\n",
    "        print(f\"[Tool] Explaining concept: {topic}\")\n",
    "        return f\"Here's a brief explanation of {topic}: It's an important concept in its field.\"\n",
    "    \n",
    "    return agent\n",
    "\n"
   ]
  },
  {
   "cell_type": "markdown",
   "id": "e7650745",
   "metadata": {},
   "source": [
    "### Run the Agents"
   ]
  },
  {
   "cell_type": "code",
   "execution_count": 11,
   "id": "8d355310",
   "metadata": {},
   "outputs": [],
   "source": [
    "\n",
    "async def run_streaming_example():\n",
    "    \"\"\"Run the streaming agent example.\"\"\"\n",
    "    print(\"=== Streaming Agent Example ===\")\n",
    "    \n",
    "    # Create the agent\n",
    "    agent = create_streaming_agent()\n",
    "    \n",
    "    # Use streaming mode for detailed explanations\n",
    "    print(\"Running streaming explanation...\")\n",
    "    async with agent.run_stream(\"Explain what is 2 + 2 in detail and then calculate 5 * 6\") as stream:\n",
    "        print(\"Streaming in progress...\")\n",
    "        # The stream will complete automatically when the context manager exits\n",
    "        print(\"Streaming completed\")\n",
    "    \n",
    "    # Run another streaming example\n",
    "    print(\"Running streaming concept explanation...\")\n",
    "    async with agent.run_stream(\"Explain the concept of machine learning and then add 10 + 15\") as stream:\n",
    "        print(\"Streaming concept explanation in progress...\")\n",
    "        print(\"Streaming concept explanation completed\")\n",
    "    \n",
    "    # Run a simple synchronous example for comparison\n",
    "    print(\"Running synchronous calculation for comparison...\")\n",
    "    result = agent.run(\"What is 7 * 8?\")\n",
    "    print(f\"Synchronous Result: {result}\")\n",
    "    \n",
    "    print(\"Streaming agent example completed!\")\n"
   ]
  },
  {
   "cell_type": "code",
   "execution_count": 12,
   "id": "c9f07d8a",
   "metadata": {},
   "outputs": [],
   "source": [
    "def run_sync_example():\n",
    "    \"\"\"Run a synchronous example for comparison.\"\"\"\n",
    "    print(\"=== Synchronous Agent Example (for comparison) ===\")\n",
    "    \n",
    "    agent = create_streaming_agent()\n",
    "    \n",
    "    # Run multiple synchronous operations\n",
    "    print(\"Running first calculation...\")\n",
    "    result = agent.run(\"What is 12 + 18?\")\n",
    "    print(f\"Result: {result}\")\n",
    "    \n",
    "    print(\"Running second calculation...\")\n",
    "    result = agent.run(\"Calculate 6 * 9\")\n",
    "    print(f\"Result: {result}\")\n",
    "    \n",
    "    print(\"Synchronous example completed!\")\n",
    "\n"
   ]
  },
  {
   "cell_type": "code",
   "execution_count": null,
   "id": "22e49c2c",
   "metadata": {},
   "outputs": [],
   "source": [
    "async def main():\n",
    "    \"\"\"Main function to run streaming examples.\"\"\"\n",
    "    # Run streaming example\n",
    "    await run_streaming_example()\n",
    "    \n",
    "    # Run synchronous example for comparison\n",
    "    run_sync_example()  # Remove await since this is a synchronous function\n",
    "\n",
    "\n",
    "# In Jupyter notebooks, we need to use await directly instead of asyncio.run()\n",
    "# since the notebook already has a running event loop\n",
    "await main()"
   ]
  }
 ],
 "metadata": {
  "kernelspec": {
   "display_name": ".venv",
   "language": "python",
   "name": "python3"
  },
  "language_info": {
   "codemirror_mode": {
    "name": "ipython",
    "version": 3
   },
   "file_extension": ".py",
   "mimetype": "text/x-python",
   "name": "python",
   "nbconvert_exporter": "python",
   "pygments_lexer": "ipython3",
   "version": "3.13.5"
  }
 },
 "nbformat": 4,
 "nbformat_minor": 5
}
