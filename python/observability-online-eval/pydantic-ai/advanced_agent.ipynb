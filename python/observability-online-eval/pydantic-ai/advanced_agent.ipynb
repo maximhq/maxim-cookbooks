{
 "cells": [
  {
   "cell_type": "markdown",
   "id": "f1b28f74",
   "metadata": {},
   "source": [
    "## Create an Advanced Pydantic AI Agent"
   ]
  },
  {
   "cell_type": "code",
   "execution_count": 1,
   "id": "2ee0e989",
   "metadata": {},
   "outputs": [],
   "source": [
    "import os\n",
    "from typing import List\n",
    "from dotenv import load_dotenv\n",
    "\n",
    "# Load environment variables from .env file\n",
    "load_dotenv()\n",
    "\n",
    "# Import Maxim components and instrument once at the top\n",
    "from maxim import Maxim\n",
    "from maxim.logger.pydantic_ai import instrument_pydantic_ai\n"
   ]
  },
  {
   "cell_type": "markdown",
   "id": "375e1328",
   "metadata": {},
   "source": [
    "### Create a Maxim Logger"
   ]
  },
  {
   "cell_type": "code",
   "execution_count": 2,
   "id": "ec81f577",
   "metadata": {},
   "outputs": [
    {
     "name": "stdout",
     "output_type": "stream",
     "text": [
      "\u001b[32m[MaximSDK] Initializing Maxim AI(v3.10.8)\u001b[0m\n"
     ]
    }
   ],
   "source": [
    "# Set up Maxim logger\n",
    "api_key = os.getenv(\"MAXIM_API_KEY\")\n",
    "repo_id = os.getenv(\"MAXIM_LOG_REPO_ID\")\n",
    "\n",
    "if not api_key:\n",
    "    print(\"Please set MAXIM_API_KEY environment variable\")\n",
    "    exit(1)\n",
    "\n",
    "if not repo_id:\n",
    "    print(\"Please set MAXIM_LOG_REPO_ID environment variable\")\n",
    "    exit(1)\n",
    "\n",
    "maxim = Maxim()\n",
    "maxim_logger = maxim.logger()\n"
   ]
  },
  {
   "cell_type": "markdown",
   "id": "8c21f5d6",
   "metadata": {},
   "source": [
    "### Maxim Instrumentation for Pydantic AI"
   ]
  },
  {
   "cell_type": "code",
   "execution_count": 3,
   "id": "99ebc892",
   "metadata": {},
   "outputs": [
    {
     "name": "stdout",
     "output_type": "stream",
     "text": [
      "Initializing Maxim instrumentation for Pydantic AI...\n",
      "Instrumentation complete!\n"
     ]
    }
   ],
   "source": [
    "# Instrument Pydantic AI once at the top\n",
    "print(\"Initializing Maxim instrumentation for Pydantic AI...\")\n",
    "instrument_pydantic_ai(maxim_logger, debug=True)\n",
    "print(\"Instrumentation complete!\")\n",
    "\n",
    "# Import Pydantic AI components\n",
    "try:\n",
    "    from pydantic_ai import Agent, RunContext\n",
    "    PYDANTIC_AI_AVAILABLE = True\n",
    "except ImportError:\n",
    "    print(\"Pydantic AI not available. Please install it first:\")\n",
    "    print(\"pip install pydantic-ai\")\n",
    "    exit(1)\n",
    "\n"
   ]
  },
  {
   "cell_type": "markdown",
   "id": "4d1cb534",
   "metadata": {},
   "source": [
    "### Create an Advanced Example"
   ]
  },
  {
   "cell_type": "code",
   "execution_count": 4,
   "id": "1b2565c4",
   "metadata": {},
   "outputs": [],
   "source": [
    "def create_advanced_agent():\n",
    "    \"\"\"Create an advanced Pydantic AI agent with complex tools.\"\"\"\n",
    "    agent = Agent(\n",
    "        model=\"openai:gpt-4o-mini\",\n",
    "        name=\"Advanced Analysis Agent\",\n",
    "        instructions=\"You are an advanced assistant that can perform various analysis tasks.\"\n",
    "    )\n",
    "    \n",
    "    @agent.tool\n",
    "    def analyze_text(ctx: RunContext, text: str) -> dict:\n",
    "        \"\"\"Analyze text and return statistics.\"\"\"\n",
    "        print(f\"[Tool] Analyzing text: {text[:50]}...\")\n",
    "        words = text.split()\n",
    "        return {\n",
    "            \"word_count\": len(words),\n",
    "            \"character_count\": len(text),\n",
    "            \"average_word_length\": sum(len(word) for word in words) / len(words) if words else 0\n",
    "        }\n",
    "    \n",
    "    @agent.tool\n",
    "    def generate_list(ctx: RunContext, topic: str, count: int = 5) -> List[str]:\n",
    "        \"\"\"Generate a list of items related to a topic.\"\"\"\n",
    "        print(f\"[Tool] Generating list of {count} items for topic: {topic}\")\n",
    "        # This is a simple example - in practice, you might use an LLM call here\n",
    "        return [f\"{topic} item {i+1}\" for i in range(count)]\n",
    "    \n",
    "    @agent.tool\n",
    "    def calculate_statistics(ctx: RunContext, numbers: List[float]) -> dict:\n",
    "        \"\"\"Calculate basic statistics for a list of numbers.\"\"\"\n",
    "        print(f\"[Tool] Calculating statistics for {len(numbers)} numbers\")\n",
    "        if not numbers:\n",
    "            return {\"error\": \"No numbers provided\"}\n",
    "        \n",
    "        return {\n",
    "            \"sum\": sum(numbers),\n",
    "            \"average\": sum(numbers) / len(numbers),\n",
    "            \"min\": min(numbers),\n",
    "            \"max\": max(numbers),\n",
    "            \"count\": len(numbers)\n",
    "        }\n",
    "    \n",
    "    return agent\n"
   ]
  },
  {
   "cell_type": "markdown",
   "id": "e06f7b0c",
   "metadata": {},
   "source": [
    "### Run the Agent"
   ]
  },
  {
   "cell_type": "code",
   "execution_count": null,
   "id": "2e72ef3a",
   "metadata": {},
   "outputs": [],
   "source": [
    "async def run_advanced_example():\n",
    "    \"\"\"Run the advanced agent example.\"\"\"\n",
    "    print(\"=== Advanced Analysis Agent Example ===\")\n",
    "    \n",
    "    # Create the agent\n",
    "    agent = create_advanced_agent()\n",
    "    \n",
    "    # Run text analysis\n",
    "    print(\"Running text analysis...\")\n",
    "    result = await agent.run(\"Analyze this text: 'The quick brown fox jumps over the lazy dog.'\")\n",
    "    print(f\"Text Analysis Result: {result}\")\n",
    "    \n",
    "    # Run list generation\n",
    "    print(\"Running list generation...\")\n",
    "    result = await agent.run(\"Generate a list of 3 programming languages\")\n",
    "    print(f\"List Generation Result: {result}\")\n",
    "    \n",
    "    # Run statistics calculation\n",
    "    print(\"Running statistics calculation...\")\n",
    "    result = await agent.run(\"Calculate statistics for the numbers [10, 20, 30, 40, 50]\")\n",
    "    print(f\"Statistics Result: {result}\")\n",
    "    \n",
    "    # Run combined task\n",
    "    print(\"Running combined task...\")\n",
    "    result = await agent.run(\"Analyze the text 'Python is awesome' and then generate a list of 2 related programming concepts\")\n",
    "    print(f\"Combined Task Result: {result}\")\n",
    "    \n",
    "    print(\"Advanced agent example completed!\")\n",
    "\n",
    "\n",
    "if __name__ == \"__main__\":\n",
    "    await run_advanced_example()"
   ]
  }
 ],
 "metadata": {
  "kernelspec": {
   "display_name": ".venv",
   "language": "python",
   "name": "python3"
  },
  "language_info": {
   "codemirror_mode": {
    "name": "ipython",
    "version": 3
   },
   "file_extension": ".py",
   "mimetype": "text/x-python",
   "name": "python",
   "nbconvert_exporter": "python",
   "pygments_lexer": "ipython3",
   "version": "3.13.5"
  }
 },
 "nbformat": 4,
 "nbformat_minor": 5
}
