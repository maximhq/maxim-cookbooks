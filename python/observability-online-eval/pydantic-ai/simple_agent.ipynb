{
 "cells": [
  {
   "cell_type": "markdown",
   "id": "36412b94",
   "metadata": {},
   "source": [
    "## Simple Agent using Pydantic AI"
   ]
  },
  {
   "cell_type": "code",
   "execution_count": 1,
   "id": "8f41af38",
   "metadata": {},
   "outputs": [],
   "source": [
    "\n",
    "import os\n",
    "from dotenv import load_dotenv\n",
    "\n",
    "# Load environment variables from .env file\n",
    "load_dotenv()\n",
    "\n",
    "# Import Maxim components and instrument once at the top\n",
    "from maxim import Maxim\n",
    "from maxim.logger.pydantic_ai import instrument_pydantic_ai\n"
   ]
  },
  {
   "cell_type": "markdown",
   "id": "a3420441",
   "metadata": {},
   "source": [
    "### Setup Maxim Logger"
   ]
  },
  {
   "cell_type": "code",
   "execution_count": 2,
   "id": "b2965d6e",
   "metadata": {},
   "outputs": [
    {
     "name": "stdout",
     "output_type": "stream",
     "text": [
      "\u001b[32m[MaximSDK] Initializing Maxim AI(v3.10.8)\u001b[0m\n"
     ]
    }
   ],
   "source": [
    "# Set up Maxim logger\n",
    "api_key = os.getenv(\"MAXIM_API_KEY\")\n",
    "repo_id = os.getenv(\"MAXIM_LOG_REPO_ID\")\n",
    "\n",
    "if not api_key:\n",
    "    print(\"Please set MAXIM_API_KEY environment variable\")\n",
    "    exit(1)\n",
    "\n",
    "if not repo_id:\n",
    "    print(\"Please set MAXIM_LOG_REPO_ID environment variable\")\n",
    "    exit(1)\n",
    "\n",
    "maxim = Maxim()\n",
    "maxim_logger = maxim.logger()\n"
   ]
  },
  {
   "cell_type": "markdown",
   "id": "0e2cabb3",
   "metadata": {},
   "source": [
    "### Maxim Instrumentation for Pydantic AI"
   ]
  },
  {
   "cell_type": "code",
   "execution_count": 3,
   "id": "6d755c68",
   "metadata": {},
   "outputs": [
    {
     "name": "stdout",
     "output_type": "stream",
     "text": [
      "Initializing Maxim instrumentation for Pydantic AI...\n",
      "Instrumentation complete!\n"
     ]
    }
   ],
   "source": [
    "# Instrument Pydantic AI once at the top\n",
    "print(\"Initializing Maxim instrumentation for Pydantic AI...\")\n",
    "instrument_pydantic_ai(maxim_logger, debug=True)\n",
    "print(\"Instrumentation complete!\")\n",
    "\n",
    "# Import Pydantic AI components\n",
    "try:\n",
    "    from pydantic_ai import Agent, RunContext\n",
    "    PYDANTIC_AI_AVAILABLE = True\n",
    "except ImportError:\n",
    "    print(\"Pydantic AI not available. Please install it first:\")\n",
    "    print(\"pip install pydantic-ai\")\n",
    "    exit(1)\n"
   ]
  },
  {
   "cell_type": "markdown",
   "id": "4708682f",
   "metadata": {},
   "source": [
    "### Create a Simple Agent with Tool Calls"
   ]
  },
  {
   "cell_type": "code",
   "execution_count": 4,
   "id": "3998c862",
   "metadata": {},
   "outputs": [],
   "source": [
    "\n",
    "def create_simple_agent():\n",
    "    \"\"\"Create a simple Pydantic AI agent with math tools.\"\"\"\n",
    "    agent = Agent(\n",
    "        model=\"openai:gpt-4o-mini\",\n",
    "        name=\"Simple Math Agent\",\n",
    "        instructions=\"You are a helpful assistant that can perform calculations.\"\n",
    "    )\n",
    "    \n",
    "    @agent.tool\n",
    "    def add_numbers(ctx: RunContext, a: float, b: float) -> float:\n",
    "        \"\"\"Add two numbers together.\"\"\"\n",
    "        print(f\"[Tool] Adding {a} + {b}\")\n",
    "        return a + b\n",
    "    \n",
    "    @agent.tool\n",
    "    def multiply_numbers(ctx: RunContext, a: float, b: float) -> float:\n",
    "        \"\"\"Multiply two numbers together.\"\"\"\n",
    "        print(f\"[Tool] Multiplying {a} * {b}\")\n",
    "        return a * b\n",
    "    \n",
    "    return agent\n"
   ]
  },
  {
   "cell_type": "markdown",
   "id": "9beb05d1",
   "metadata": {},
   "source": [
    "### Run the Agent & push logs to Maxim"
   ]
  },
  {
   "cell_type": "code",
   "execution_count": null,
   "id": "67403364",
   "metadata": {},
   "outputs": [],
   "source": [
    "import asyncio\n",
    "\n",
    "async def run_simple_example():\n",
    "    \"\"\"Run the simple agent example.\"\"\"\n",
    "    print(\"=== Simple Math Agent Example ===\")\n",
    "    \n",
    "    # Create the agent\n",
    "    agent = create_simple_agent()\n",
    "    \n",
    "    # Run multiple calculations\n",
    "    print(\"Running first calculation...\")\n",
    "    result = await agent.run(\"What is 15 + 27?\")\n",
    "    print(f\"Result: {result}\")\n",
    "    \n",
    "    print(\"Running second calculation...\")\n",
    "    result = await agent.run(\"Calculate 8 * 12\")\n",
    "    print(f\"Result: {result}\")\n",
    "    \n",
    "    print(\"Running third calculation...\")\n",
    "    result = await agent.run(\"What is 25 + 17 and then multiply that result by 3?\")\n",
    "    print(f\"Result: {result}\")\n",
    "    \n",
    "    print(\"Simple agent example completed!\")\n",
    "\n",
    "\n",
    "# Run the async function in a notebook environment\n",
    "await run_simple_example()"
   ]
  }
 ],
 "metadata": {
  "language_info": {
   "name": "python"
  }
 },
 "nbformat": 4,
 "nbformat_minor": 5
}
