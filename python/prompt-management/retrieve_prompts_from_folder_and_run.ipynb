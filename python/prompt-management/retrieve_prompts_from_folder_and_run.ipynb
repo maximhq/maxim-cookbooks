{
 "cells": [
  {
   "cell_type": "markdown",
   "metadata": {},
   "source": [
    "## Prompt management using Maxim Bifrost LLM gateway\n",
    "\n",
    "In this cookbook, we will see, how you can quickly iterate and optimize your prompts without a single line of change of code. \n",
    "\n",
    "Here,\n",
    "\n",
    "1. We have prompt called \"Assistant\" which is hosted on Maxim.\n",
    "2. The corresponding `PROMPT_ID` is set as env variable.\n",
    "3. We have generated API_KEY for Maxim and is already set as env variable called `MAXIM_API_KEY`."
   ]
  },
  {
   "cell_type": "code",
   "execution_count": 1,
   "metadata": {},
   "outputs": [],
   "source": [
    "import os\n",
    "\n",
    "# Load environment variables from .env file\n",
    "from dotenv import load_dotenv\n",
    "\n",
    "# Load the .env file\n",
    "load_dotenv()\n",
    "\n",
    "\n",
    "# get environment variables\n",
    "api_key = os.environ[\"MAXIM_API_KEY\"]\n",
    "prompt_id = os.environ[\"PROMPT_ID\"]\n",
    "folder_id = os.environ[\"FOLDER_ID\"]"
   ]
  },
  {
   "cell_type": "markdown",
   "metadata": {},
   "source": [
    "### Initialize Maxim SDK"
   ]
  },
  {
   "cell_type": "code",
   "execution_count": 2,
   "metadata": {},
   "outputs": [],
   "source": [
    "from maxim import Config, Maxim\n",
    "\n",
    "# setting up maxim\n",
    "config = Config(api_key=api_key, prompt_management=True)"
   ]
  },
  {
   "cell_type": "markdown",
   "metadata": {},
   "source": [
    "### Getting the deployed prompts in a folder"
   ]
  },
  {
   "cell_type": "code",
   "execution_count": null,
   "metadata": {},
   "outputs": [
    {
     "name": "stdout",
     "output_type": "stream",
     "text": [
      "Found 2 prompts in the folder\n",
      "id: cm7k39edz00hmiilzu5na40cq\n",
      "mesages: [Message(role='system', content='you are a helpful assistant', tool_calls=None)]\n",
      "id: cm7u1uu0u04x514ah52gguwh6\n",
      "mesages: [Message(role='system', content='You are a helpful assistant. Make sure your tone is helpful and always ask if you can do anything else after answering the question.', tool_calls=None)]\n"
     ]
    }
   ],
   "source": [
    "from maxim.models import QueryBuilder\n",
    "\n",
    "maxim = Maxim(config=config)\n",
    "\n",
    "env = \"prod\"\n",
    "tenantId = \"123\"\n",
    "\n",
    "prompts = maxim.get_prompts(\n",
    "\tQueryBuilder()\n",
    "\t.and_()\n",
    "\t.folder(folder_id)\n",
    "\t.deployment_var(\"Environment\", \"prod\")\n",
    "\t.build())\n",
    "\n",
    "# Check if we found any prompts\n",
    "if not prompts:\n",
    "  print(f\"No prompts found for folder_id: {folder_id} with environment: {env}\")\n",
    "else:\n",
    "  print(f\"Found {len(prompts)} prompts in the folder\")\n"
   ]
  },
  {
   "cell_type": "markdown",
   "metadata": {},
   "source": [
    "## Running retrieved prompts"
   ]
  },
  {
   "cell_type": "code",
   "execution_count": 4,
   "metadata": {},
   "outputs": [
    {
     "name": "stdout",
     "output_type": "stream",
     "text": [
      "id: cm7k39edz00hmiilzu5na40cq\n",
      "Response: [Choice(index=0, message=Message(role='assistant', content='The second president of the United States was John Adams. He served from 1797 to 1801.', tool_calls=None), finish_reason='stop')]\n",
      "id: cm7u1uu0u04x514ah52gguwh6\n",
      "Response: [Choice(index=0, message=Message(role='model', content='The second president of the United States was John Adams.\\n\\nIs there anything else you need help with?\\n', tool_calls=None), finish_reason='stop')]\n"
     ]
    }
   ],
   "source": [
    "# Iterate over all prompts\n",
    "for i, prompt in enumerate(prompts):    \n",
    "    print(f\"id: {prompt.prompt_id}\")\n",
    "    response = prompt.run(\"Who was the second president of the United States?\")\n",
    "    print(f\"\"\"Response: {response.choices}\"\"\")"
   ]
  }
 ],
 "metadata": {
  "kernelspec": {
   "display_name": ".venv",
   "language": "python",
   "name": "python3"
  },
  "language_info": {
   "codemirror_mode": {
    "name": "ipython",
    "version": 3
   },
   "file_extension": ".py",
   "mimetype": "text/x-python",
   "name": "python",
   "nbconvert_exporter": "python",
   "pygments_lexer": "ipython3",
   "version": "3.10.16"
  }
 },
 "nbformat": 4,
 "nbformat_minor": 2
}
