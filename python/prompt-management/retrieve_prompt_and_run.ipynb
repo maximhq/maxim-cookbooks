{
 "cells": [
  {
   "cell_type": "markdown",
   "metadata": {},
   "source": [
    "## Prompt CMS using Maxim\n",
    "\n",
    "In this cookbook, we will see, how you can quickly iterate and optimize your prompts without a single line of change of code. \n",
    "\n",
    "Here,\n",
    "\n",
    "1. We have prompt called \"Assistant\" which is hosted on Maxim.\n",
    "2. The corresponding `PROMPT_ID` is set as env variable.\n",
    "3. We have generated API_KEY for Maxim and is already set as env variable called `MAXIM_API_KEY`."
   ]
  },
  {
   "cell_type": "code",
   "execution_count": 1,
   "metadata": {},
   "outputs": [],
   "source": [
    "import os\n",
    "\n",
    "# get environment variables\n",
    "api_key = os.environ[\"MAXIM_API_KEY\"]\n",
    "env = os.environ[\"ENV\"]\n",
    "prompt_id = os.environ[\"PROMPT_ID\"]"
   ]
  },
  {
   "cell_type": "markdown",
   "metadata": {},
   "source": [
    "### Initialize Maxim SDK"
   ]
  },
  {
   "cell_type": "code",
   "execution_count": 2,
   "metadata": {},
   "outputs": [],
   "source": [
    "from maxim import Config, Maxim\n",
    "\n",
    "# setting up maxim\n",
    "config = Config(api_key=api_key, prompt_management=True)\n",
    "maxim = Maxim(config=config)"
   ]
  },
  {
   "cell_type": "markdown",
   "metadata": {},
   "source": [
    "### Getting the deployed prompt for current ENV"
   ]
  },
  {
   "cell_type": "code",
   "execution_count": 3,
   "metadata": {},
   "outputs": [
    {
     "name": "stdout",
     "output_type": "stream",
     "text": [
      "Getting prompt for env prod\n",
      "Prompt: [Message(role='system', content='you are a helpful assistant', tool_calls=None)]\n"
     ]
    }
   ],
   "source": [
    "from maxim.models import QueryBuilder\n",
    "\n",
    "def getPrompt():\n",
    "    print(f\"Getting prompt for env {env}\")\n",
    "    rule = (\n",
    "        QueryBuilder()\n",
    "        .and_()\n",
    "        .deployment_var(\"Environment\", env)        \n",
    "        .build()\n",
    "    )\n",
    "    return maxim.get_prompt(prompt_id, rule=rule)\n",
    "\n",
    "prompt = getPrompt()\n",
    "print(f\"\"\"Prompt: {prompt.messages}\"\"\")"
   ]
  },
  {
   "cell_type": "markdown",
   "metadata": {},
   "source": [
    "## Running retrieved prompt"
   ]
  },
  {
   "cell_type": "code",
   "execution_count": 4,
   "metadata": {},
   "outputs": [
    {
     "name": "stdout",
     "output_type": "stream",
     "text": [
      "Response: [Choice(index=0, message=Message(role='assistant', content='The second president of the United States was John Adams. He served from 1797 to 1801.', tool_calls=None), finish_reason='stop')]\n"
     ]
    }
   ],
   "source": [
    "response = prompt.run(\"Who was the second president of the United States?\")\n",
    "print(f\"\"\"Response: {response.choices}\"\"\")"
   ]
  }
 ],
 "metadata": {
  "kernelspec": {
   "display_name": ".venv",
   "language": "python",
   "name": "python3"
  },
  "language_info": {
   "codemirror_mode": {
    "name": "ipython",
    "version": 3
   },
   "file_extension": ".py",
   "mimetype": "text/x-python",
   "name": "python",
   "nbconvert_exporter": "python",
   "pygments_lexer": "ipython3",
   "version": "3.12.8"
  }
 },
 "nbformat": 4,
 "nbformat_minor": 2
}
