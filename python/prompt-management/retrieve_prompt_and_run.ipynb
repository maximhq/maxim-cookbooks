{
 "cells": [
  {
   "cell_type": "markdown",
   "metadata": {},
   "source": [
    "## Prompt management using Maxim Bifrost LLM gateway\n",
    "\n",
    "In this cookbook, we will see, how you can quickly iterate and optimize your prompts without a single line of change of code. \n",
    "\n",
    "Here,\n",
    "\n",
    "1. We have prompt called \"Assistant\" which is hosted on Maxim.\n",
    "2. The corresponding `PROMPT_ID` is set as env variable.\n",
    "3. We have generated API_KEY for Maxim and is already set as env variable called `MAXIM_API_KEY`."
   ]
  },
  {
   "cell_type": "code",
   "execution_count": 1,
   "metadata": {},
   "outputs": [],
   "source": [
    "import os\n",
    "\n",
    "# get environment variables\n",
    "api_key = os.environ[\"MAXIM_API_KEY\"]\n",
    "prompt_id = os.environ[\"PROMPT_ID\"]"
   ]
  },
  {
   "cell_type": "markdown",
   "metadata": {},
   "source": [
    "### Initialize Maxim SDK"
   ]
  },
  {
   "cell_type": "code",
   "execution_count": 2,
   "metadata": {},
   "outputs": [],
   "source": [
    "from maxim import Config, Maxim\n",
    "\n",
    "# setting up maxim\n",
    "config = Config(api_key=api_key, prompt_management=True)"
   ]
  },
  {
   "cell_type": "markdown",
   "metadata": {},
   "source": [
    "### Getting the deployed prompt for current ENV"
   ]
  },
  {
   "cell_type": "code",
   "execution_count": 10,
   "metadata": {},
   "outputs": [
    {
     "name": "stdout",
     "output_type": "stream",
     "text": [
      "Getting prompt for env prod\n",
      "Prompt:\n",
      "model=claude-3-5-sonnet-latest\n",
      "params={'max_tokens': 256, 'temperature': 1}\n",
      "messages=[Message(role='system', content='You are a helpful assistant. Make sure your tone is helpful and always ask if you can do anything else after answering the question.\\n\\nMake sure you tone is polite.', tool_calls=None)]\n"
     ]
    }
   ],
   "source": [
    "from maxim.models import QueryBuilder\n",
    "\n",
    "maxim = Maxim(config=config)\n",
    "\n",
    "env = \"prod\"\n",
    "tenantId = \"123\"\n",
    "def getPrompt():    \n",
    "    print(f\"Getting prompt for env {env}\")\n",
    "    rule = (\n",
    "        QueryBuilder()\n",
    "        .and_()\n",
    "        .deployment_var(\"Environment\", env)        \n",
    "        .deployment_var(\"TenantID\", tenantId, False)   \n",
    "        .build()\n",
    "    )\n",
    "    return maxim.get_prompt(prompt_id, rule=rule)\n",
    "\n",
    "prompt = getPrompt()\n",
    "print(f\"\"\"Prompt:\\nmodel={prompt.model}\\nparams={prompt.model_parameters}\\nmessages={prompt.messages}\"\"\")"
   ]
  },
  {
   "cell_type": "markdown",
   "metadata": {},
   "source": [
    "## Running retrieved prompt"
   ]
  },
  {
   "cell_type": "code",
   "execution_count": 11,
   "metadata": {},
   "outputs": [
    {
     "name": "stdout",
     "output_type": "stream",
     "text": [
      "Response: [Choice(index=0, message=Message(role='assistant', content=\"John Adams served as the second President of the United States from 1797 to 1801. He was previously the first Vice President under George Washington. Adams was a key figure in the American Revolution and helped draft the Declaration of Independence. He was also a skilled diplomat who helped negotiate the Treaty of Paris in 1783, which ended the Revolutionary War.\\n\\nIs there anything else you'd like to know about John Adams or early American history? I'd be happy to help!\", tool_calls=None), finish_reason='stop')]\n"
     ]
    }
   ],
   "source": [
    "response = prompt.run(\"Who was the second president of the United States?\")\n",
    "print(f\"\"\"Response: {response.choices}\"\"\")"
   ]
  }
 ],
 "metadata": {
  "kernelspec": {
   "display_name": ".venv",
   "language": "python",
   "name": "python3"
  },
  "language_info": {
   "codemirror_mode": {
    "name": "ipython",
    "version": 3
   },
   "file_extension": ".py",
   "mimetype": "text/x-python",
   "name": "python",
   "nbconvert_exporter": "python",
   "pygments_lexer": "ipython3",
   "version": "3.12.8"
  }
 },
 "nbformat": 4,
 "nbformat_minor": 2
}
