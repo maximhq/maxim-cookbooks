{
 "cells": [
  {
   "cell_type": "code",
   "execution_count": 1,
   "id": "6246b636-7066-4f56-9afa-5f9c45b62aad",
   "metadata": {},
   "outputs": [
    {
     "name": "stderr",
     "output_type": "stream",
     "text": [
      "/opt/miniconda3/lib/python3.12/site-packages/tqdm/auto.py:21: TqdmWarning: IProgress not found. Please update jupyter and ipywidgets. See https://ipywidgets.readthedocs.io/en/stable/user_install.html\n",
      "  from .autonotebook import tqdm as notebook_tqdm\n"
     ]
    }
   ],
   "source": [
    "import numpy as np\n",
    "import llama_index\n",
    "from llama_index.embeddings.huggingface import HuggingFaceEmbedding\n",
    "import google.generativeai as palm\n",
    "from llama_index.llms.palm import PaLM\n",
    "import math\n",
    "from flask import app\n",
    "import json\n",
    "from openai import OpenAI\n",
    "import chromadb\n",
    "from chromadb.config import Settings\n",
    "import os"
   ]
  },
  {
   "cell_type": "code",
   "execution_count": 31,
   "id": "d1147b25-ec65-4df5-9a6f-72c12dfbe91b",
   "metadata": {},
   "outputs": [
    {
     "data": {
      "text/plain": [
       "True"
      ]
     },
     "execution_count": 31,
     "metadata": {},
     "output_type": "execute_result"
    }
   ],
   "source": [
    "chroma_client = chromadb.PersistentClient(settings=Settings(allow_reset=True))\n",
    "chroma_client.heartbeat()\n"
   ]
  },
  {
   "cell_type": "code",
   "execution_count": 32,
   "id": "8b091163-07d9-4c9c-9c6f-d88c9ab7fcc2",
   "metadata": {},
   "outputs": [],
   "source": [
    "from chromadb.utils import embedding_functions\n",
    "openai_ef = embedding_functions.OpenAIEmbeddingFunction(\n",
    "                model_name=\"text-embedding-ada-002\", \n",
    "                api_key = \"YOUR API KEY\")\n",
    "\n",
    "collection = chroma_client.get_or_create_collection(name=\"deptName\", embedding_function=openai_ef)"
   ]
  },
  {
   "cell_type": "code",
   "execution_count": 4,
   "id": "8095c0e0-7005-4484-9b53-ca0a80de648a",
   "metadata": {},
   "outputs": [],
   "source": [
    "from elasticsearch import Elasticsearch\n",
    "import faiss"
   ]
  },
  {
   "cell_type": "code",
   "execution_count": 5,
   "id": "e2bbe873-4f71-4fab-9f2c-2493a0ac53da",
   "metadata": {},
   "outputs": [],
   "source": [
    "client = OpenAI(api_key=\"YOUR API KEY\")"
   ]
  },
  {
   "cell_type": "code",
   "execution_count": 6,
   "id": "c1fd1d6e-b8fb-4394-9893-701b5d73d2b3",
   "metadata": {},
   "outputs": [],
   "source": [
    "\n",
    "\n",
    "def read_text_file(file_path):\n",
    "    with open(file_path, 'r', encoding='utf-8') as file:\n",
    "        text = file.read()\n",
    "    return text\n",
    "\n",
    "def chunk_text(text, chunk_size):\n",
    "    chunks = [text[i:i+chunk_size] for i in range(0, len(text), chunk_size)]\n",
    "    return chunks\n",
    "\n"
   ]
  },
  {
   "cell_type": "code",
   "execution_count": 21,
   "id": "ad891807-552f-46dc-94d1-f08ee874fb7c",
   "metadata": {},
   "outputs": [],
   "source": [
    "text_file = read_text_file(\"harry-potter-deathly-hallows.txt\")\n",
    "chunks = chunk_text(text_file, chunk_size=250)"
   ]
  },
  {
   "cell_type": "code",
   "execution_count": null,
   "id": "c396e54d-62ef-43c0-b7c5-75a66de2f6ba",
   "metadata": {},
   "outputs": [],
   "source": [
    "\n",
    "chunk_ids = list(map(lambda tup: f\"id{tup[0]}\", enumerate(chunks)))\n",
    "collection.add(documents=chunks,ids= chunk_ids)"
   ]
  },
  {
   "cell_type": "code",
   "execution_count": 14,
   "id": "50bebe0c-b608-4a9a-a93c-63c1b82dcea8",
   "metadata": {},
   "outputs": [],
   "source": [
    "documents = []\n",
    "for i, chunk in enumerate(chunks):\n",
    "    document = {\n",
    "        \"id\": i + 1,  # Adding 1 to start IDs from 1 instead of 0\n",
    "        \"text\": chunk\n",
    "    }\n",
    "    documents.append(document)"
   ]
  },
  {
   "cell_type": "code",
   "execution_count": 16,
   "id": "e1523010-d05f-49e4-bc59-e5d00f4e2bdd",
   "metadata": {},
   "outputs": [],
   "source": [
    "ES_NODES = \"http://localhost:9200\" #elastic search\n",
    "\n",
    "es = Elasticsearch(\n",
    "    hosts=ES_NODES,\n",
    ")\n",
    "for doc in documents:\n",
    "    es.index(index=\"documents\", id=doc['id'], document={\"text\": doc['text']})"
   ]
  },
  {
   "cell_type": "code",
   "execution_count": 86,
   "id": "606e1909-43bd-4158-a3c6-6e994bb893a7",
   "metadata": {},
   "outputs": [],
   "source": [
    "def hybrid_search(query_text,alpha=0.3):\n",
    "    response = es.search(index=\"documents\", query={\"match\": {\"text\": query_text}}, size=5)\n",
    "    keyword_results = {hit['_id']: hit['_score'] for hit in response['hits']['hits']}\n",
    "    # Print keyword search results.\n",
    "    print(\"Keyword Search Results:\")\n",
    "    for doc_id, score in keyword_results.items():\n",
    "        print(f\"Doc ID: {doc_id}, Score: {score} \")\n",
    "   \n",
    "    \n",
    "    results = collection.query(\n",
    "    query_texts=query,\n",
    "    n_results=5\n",
    "    )\n",
    "    \n",
    "    vector_search = results['documents'][0]\n",
    "\n",
    "    # Create a dictionary with scores inversely proportional to their rank\n",
    "    vector_results = {f\"{rank+1}\": 1/(rank+1) for rank, doc in enumerate(vector_search)}\n",
    "   \n",
    "    print(\"Vector Search Results:\")\n",
    "    for doc_id, score in vector_results.items():\n",
    "        print(f\"Doc ID: {doc_id}, Score: {score}\")\n",
    "\n",
    "    # Initialize a dictionary to hold combined scores from keyword and vector search results.\n",
    "    combined_scores = {}\n",
    "    # Iterate over the union of document IDs from both keyword and vector results.\n",
    "    for doc_id in set(keyword_results.keys()).union(vector_results.keys()):\n",
    "        # Calculate combined score for each document using the alpha parameter to balance the influence of both search results.\n",
    "        combined_scores[doc_id] = alpha * keyword_results.get(doc_id, 0) + (1 - alpha) * vector_results.get(doc_id, 0)*10\n",
    "\n",
    "    # Return the dictionary containing combined scores for all relevant documents.\n",
    "    return combined_scores"
   ]
  },
  {
   "cell_type": "code",
   "execution_count": 95,
   "id": "7021d019-7a65-4850-808d-939ab1802bd9",
   "metadata": {},
   "outputs": [],
   "source": [
    "\n",
    "\n",
    "def runPrompt(query, k=5):\n",
    "    # Step 1: Perform a hybrid search to get combined document scores\n",
    "    \n",
    "    combined_scores = hybrid_search(query_text=query)\n",
    "\n",
    "    # Step 2: Select the top-k documents based on the combined scores\n",
    "    top_k_docs = sorted(combined_scores, key=combined_scores.get, reverse=True)[:k]\n",
    "    \n",
    "    # Step 3: Retrieve the relevant information chunks based on the top-k document IDs\n",
    "    relevant_info = []\n",
    "    for doc_id in top_k_docs:\n",
    "        # Retrieve the document using its ID\n",
    "        document = next((doc for doc in documents if doc[\"id\"] == int(doc_id)), None)\n",
    "        if document:\n",
    "            relevant_info.append(document[\"text\"])\n",
    "    \n",
    "    # Step 4: Construct the prompt with the relevant information\n",
    "    prompt = (\n",
    "        f\"You are a smart agent. A question will be asked to you along with relevant information. \"\n",
    "        f\"Your task is to answer the question using the information provided. \"\n",
    "        f\"Question: {query}. Relevant Information: {relevant_info}\"\n",
    "    )\n",
    "    \n",
    "    # Step 5: Send the constructed prompt to the GPT-4 model (or GPT-4o if applicable)\n",
    "    response = client.chat.completions.create(\n",
    "        model=\"gpt-4o\",  # You can change this to \"gpt-4\" if you have access\n",
    "        messages=[\n",
    "            {\"role\": \"system\", \"content\": \"You are a helpful assistant.\"},\n",
    "            {\"role\": \"user\", \"content\": prompt}\n",
    "        ]\n",
    "    )\n",
    "    # Step 6: Extract and return the model's response\n",
    "    result = {\n",
    "        \"context\": relevant_info,\n",
    "        \"response\": response.choices[0].message.content\n",
    "    }\n",
    "  \n",
    "    return result\n"
   ]
  },
  {
   "cell_type": "code",
   "execution_count": 14,
   "id": "3a36e477-113b-46ed-9a2c-20f2656e3dbc",
   "metadata": {},
   "outputs": [],
   "source": [
    "from flask import Flask\n",
    "from flask import request\n",
    "app = Flask(__name__)"
   ]
  },
  {
   "cell_type": "code",
   "execution_count": null,
   "id": "e2b01c65-9d4c-483a-a35f-d8409ba3c7d2",
   "metadata": {},
   "outputs": [],
   "source": [
    "@app.route('/context', methods=['POST'])\n",
    "def context_output():\n",
    "    body = request.get_json()\n",
    "    print(body)\n",
    "    output = runContext(body['query'])\n",
    "    response = {'response': output}\n",
    "    return response\n",
    "@app.route('/rag',methods=['POST'])\n",
    "def rag_output():\n",
    "    body = request.get_json()\n",
    "    print(body)\n",
    "    output = runPrompt(body['query'])\n",
    "    response = {'response':output}\n",
    "    return response\n",
    "    \n",
    "\n",
    "# main driver function\n",
    "if __name__ == '__main__':\n",
    "    app.run(port=5003)"
   ]
  }
 ],
 "metadata": {
  "kernelspec": {
   "display_name": "Python 3 (ipykernel)",
   "language": "python",
   "name": "python3"
  },
  "language_info": {
   "codemirror_mode": {
    "name": "ipython",
    "version": 3
   },
   "file_extension": ".py",
   "mimetype": "text/x-python",
   "name": "python",
   "nbconvert_exporter": "python",
   "pygments_lexer": "ipython3",
   "version": "3.12.3"
  }
 },
 "nbformat": 4,
 "nbformat_minor": 5
}
