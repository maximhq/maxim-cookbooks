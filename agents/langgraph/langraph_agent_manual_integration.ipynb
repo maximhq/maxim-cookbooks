{
 "cells": [
  {
   "cell_type": "code",
   "execution_count": 38,
   "id": "b2e2ace4-1876-445a-ae08-e8841ffc21df",
   "metadata": {},
   "outputs": [],
   "source": [
    "import getpass\n",
    "import os\n",
    "\n",
    "def _set_env(var: str):\n",
    "    if not os.environ.get(var):\n",
    "        os.environ[var] = getpass.getpass(f\"{var}: \")\n",
    "\n",
    "_set_env(\"OPENAI_API_KEY\")\n"
   ]
  },
  {
   "cell_type": "code",
   "execution_count": 39,
   "id": "cb30506f-a6c1-4fe9-a389-92c275404e24",
   "metadata": {},
   "outputs": [],
   "source": [
    "from langchain_community.tools.ddg_search.tool import DuckDuckGoSearchTool\n",
    "from langchain_community.utilities.duckduckgo_search import DuckDuckGoSearchAPIWrapper\n",
    "\n",
    "# Configure DuckDuckGo search wrapper\n",
    "search = DuckDuckGoSearchAPIWrapper(\n",
    "    max_results=3  # Set maximum number of results to return\n",
    ")\n",
    "# Define the tools your agent will use\n",
    "tools = [DuckDuckGoSearchTool(api_wrapper=search)]"
   ]
  },
  {
   "cell_type": "code",
   "execution_count": 83,
   "id": "cb47d2c6-2ab6-4184-9d76-0792282885e5",
   "metadata": {},
   "outputs": [
    {
     "name": "stderr",
     "output_type": "stream",
     "text": [
      "/Users/aniruddhachattopadhyay/Documents/Code/.venv/lib/python3.12/site-packages/langsmith/client.py:241: LangSmithMissingAPIKeyWarning: API key must be provided when using hosted LangSmith API\n",
      "  warnings.warn(\n"
     ]
    }
   ],
   "source": [
    "from langchain import hub\n",
    "from langchain_openai import ChatOpenAI\n",
    "from langgraph.prebuilt import create_react_agent\n",
    "from langchain_core.prompts import ChatPromptTemplate\n",
    "\n",
    "# Pull the executor prompt from LangChain Hub\n",
    "prompt = hub.pull(\"wfh/react-agent-executor\")\n",
    "agent_prompt = ChatPromptTemplate.from_messages([\n",
    "    (\n",
    "        \"system\",\n",
    "        \"You are a helpful assistant\"\n",
    "    ),\n",
    "    (\"placeholder\", \"{messages}\"),\n",
    "])\n",
    "\n",
    "# Initialize the LLM\n",
    "llm = ChatOpenAI(model=\"gpt-4o\")\n",
    "\n",
    "# Create the agent executor\n",
    "agent_executor = create_react_agent(llm, tools, state_modifier=agent_prompt)"
   ]
  },
  {
   "cell_type": "code",
   "execution_count": 84,
   "id": "63ff5a11-4805-47fc-b66d-de998ace03b9",
   "metadata": {},
   "outputs": [],
   "source": [
    "import operator\n",
    "from typing import Annotated, List, Tuple, TypedDict\n",
    "\n",
    "class PlanExecute(TypedDict):\n",
    "    input: str\n",
    "    plan: List[str]\n",
    "    past_steps: Annotated[List[Tuple], operator.add]\n",
    "    response: str"
   ]
  },
  {
   "cell_type": "code",
   "execution_count": 85,
   "id": "6e8b2b2c-a6fc-44a0-9343-f41d37a1bf88",
   "metadata": {},
   "outputs": [
    {
     "name": "stdout",
     "output_type": "stream",
     "text": [
      "steps=['Identify the current year.', 'Determine the winner of the Australian Open for the current year.', 'Research the hometown of the identified winner.']\n"
     ]
    }
   ],
   "source": [
    "from pydantic import BaseModel, Field\n",
    "from langchain_core.prompts import ChatPromptTemplate\n",
    "\n",
    "class Plan(BaseModel):\n",
    "    \"\"\"Plan to follow in future\"\"\"\n",
    "    steps: List[str] = Field(\n",
    "        description=\"Different steps to follow, should be in sorted order\"\n",
    "    )\n",
    "\n",
    "# Define the planner prompt\n",
    "planner_prompt = ChatPromptTemplate.from_messages([\n",
    "    (\n",
    "        \"system\",\n",
    "        \"\"\"For the given objective, come up with a simple step by step plan. \\\n",
    "This plan should involve individual tasks, that if executed correctly will yield the correct answer. Do not add any superfluous steps. \\\n",
    "The result of the final step should be the final answer. Make sure that each step has all the information needed - do not skip steps.\"\"\"\n",
    "    ),\n",
    "    (\"placeholder\", \"{messages}\"),\n",
    "])\n",
    "\n",
    "# Initialize the planner\n",
    "planner = planner_prompt | ChatOpenAI(\n",
    "    model=\"gpt-4o\", temperature=0\n",
    ").with_structured_output(Plan)\n",
    "\n",
    "# Example planning invocation\n",
    "plan = planner.invoke({\n",
    "    \"messages\": [(\"user\", \"what is the hometown of the current Australia Open winner?\")]\n",
    "})\n",
    "\n",
    "print(plan)"
   ]
  },
  {
   "cell_type": "code",
   "execution_count": 86,
   "id": "0d25c31d-32b3-43fd-97c3-d0473ce98436",
   "metadata": {},
   "outputs": [],
   "source": [
    "from typing import Union\n",
    "\n",
    "class Response(BaseModel):\n",
    "    \"\"\"Response to user.\"\"\"\n",
    "    response: str\n",
    "\n",
    "class Act(BaseModel):\n",
    "    \"\"\"Action to perform.\"\"\"\n",
    "    action: Union[Response, Plan] = Field(\n",
    "        description=\"Action to perform. If you want to respond to user, use Response. \\\n",
    "If you need to further use tools to get the answer, use Plan.\"\n",
    "    )\n",
    "\n",
    "# Define the replanner prompt\n",
    "replanner_prompt = ChatPromptTemplate.from_template(\n",
    "    \"\"\"For the given objective, come up with a simple step by step plan. \\\n",
    "This plan should involve individual tasks, that if executed correctly will yield the correct answer. Do not add any superfluous steps. \\\n",
    "The result of the final step should be the final answer. Make sure that each step has all the information needed - do not skip steps.\n",
    "\n",
    "Your objective was this:\n",
    "{input}\n",
    "\n",
    "Your original plan was this:\n",
    "{plan}\n",
    "\n",
    "You have currently done the following steps:\n",
    "{past_steps}\n",
    "\n",
    "Update your plan accordingly. If no more steps are needed and you can return to the user, then respond with that. Otherwise, fill out the plan. Only add steps to the plan that still NEED to be done. Do not return previously done steps as part of the plan.\"\"\"\n",
    ")\n",
    "\n",
    "# Initialize the replanner\n",
    "replanner = replanner_prompt | ChatOpenAI(\n",
    "    model=\"gpt-4o\", temperature=0\n",
    ").with_structured_output(Act)"
   ]
  },
  {
   "cell_type": "code",
   "execution_count": 87,
   "id": "fa037a69-31a8-4c40-81f7-fb275dfda14c",
   "metadata": {},
   "outputs": [],
   "source": [
    "from typing import Literal\n",
    "\n",
    "async def execute_step(state: PlanExecute):\n",
    "    plan = state[\"plan\"]\n",
    "    plan_str = \"\\n\".join(f\"{i+1}. {step}\" for i, step in enumerate(plan))\n",
    "    task = plan[0]\n",
    "    task_formatted = f\"\"\"For the following plan:\n",
    "{plan_str}\n",
    "\n",
    "You are tasked with executing step {1}, {task}.\"\"\"\n",
    "    agent_response = await agent_executor.ainvoke({\n",
    "        \"messages\": [(\"user\", task_formatted)]\n",
    "    })\n",
    "    return {\n",
    "        \"past_steps\": [(task, agent_response[\"messages\"][-1].content)],\n",
    "    }\n",
    "\n",
    "async def plan_step(state: PlanExecute):\n",
    "    plan = await planner.ainvoke({\"messages\": [(\"user\", state[\"input\"])]})\n",
    "    return {\"plan\": plan.steps}\n",
    "\n",
    "async def replan_step(state: PlanExecute):\n",
    "    output = await replanner.ainvoke(state)\n",
    "    if isinstance(output.action, Response):\n",
    "        return {\"response\": output.action.response}\n",
    "    else:\n",
    "        return {\"plan\": output.action.steps}\n",
    "\n",
    "def should_end(state: PlanExecute) -> Literal[\"agent\", \"__end__\"]:\n",
    "    if \"response\" in state and state[\"response\"]:\n",
    "        return \"__end__\"\n",
    "    else:\n",
    "        return \"agent\""
   ]
  },
  {
   "cell_type": "code",
   "execution_count": 88,
   "id": "9efa4414-c615-453f-8078-7063af90d778",
   "metadata": {},
   "outputs": [],
   "source": [
    "from langgraph.graph import StateGraph, START\n",
    "\n",
    "workflow = StateGraph(PlanExecute)\n",
    "\n",
    "# Add the planner node\n",
    "workflow.add_node(\"planner\", plan_step)\n",
    "\n",
    "# Add the execution node\n",
    "workflow.add_node(\"agent\", execute_step)\n",
    "\n",
    "# Add the replanner node\n",
    "workflow.add_node(\"replan\", replan_step)\n",
    "\n",
    "# Define the edges between nodes\n",
    "workflow.add_edge(START, \"planner\")          # Start with planning\n",
    "workflow.add_edge(\"planner\", \"agent\")        # Then execute\n",
    "workflow.add_edge(\"agent\", \"replan\")         # Then replanning\n",
    "\n",
    "# Conditional transition: decide whether to end or continue\n",
    "workflow.add_conditional_edges(\n",
    "    \"replan\",\n",
    "    should_end,\n",
    ")\n",
    "\n",
    "# Compile the workflow into a runnable LangChain app\n",
    "app = workflow.compile()"
   ]
  },
  {
   "cell_type": "code",
   "execution_count": 89,
   "id": "3e5d3740-9e09-4a39-826d-8e4b9f5fa202",
   "metadata": {},
   "outputs": [
    {
     "data": {
      "image/png": "[encoded data removed]",
      "text/plain": [
       "<IPython.core.display.Image object>"
      ]
     },
     "metadata": {},
     "output_type": "display_data"
    }
   ],
   "source": [
    "from IPython.display import Image, display\n",
    "\n",
    "display(Image(app.get_graph(xray=True).draw_mermaid_png()))"
   ]
  },
  {
   "cell_type": "code",
   "execution_count": 90,
   "id": "3d8dabde",
   "metadata": {},
   "outputs": [
    {
     "data": {
      "text/plain": [
       "True"
      ]
     },
     "execution_count": 90,
     "metadata": {},
     "output_type": "execute_result"
    }
   ],
   "source": [
    "from maxim.logger.components.generation import GenerationConfig, GenerationError\n",
    "from maxim.logger.components.retrieval import RetrievalConfig\n",
    "from maxim.logger.components.trace import Trace, TraceConfig\n",
    "from maxim.logger.components.session import Session, SessionConfig\n",
    "from maxim.logger.components.span import Span, SpanConfig\n",
    "from maxim.logger.logger import Logger, LoggerConfig\n",
    "from uuid import uuid4\n",
    "from dotenv import load_dotenv\n",
    "import tiktoken\n",
    "from time import sleep, time\n",
    "load_dotenv()"
   ]
  },
  {
   "cell_type": "code",
   "execution_count": 91,
   "id": "a9fe3ca0",
   "metadata": {},
   "outputs": [],
   "source": [
    "base_url = \"https://app.getmaxim.ai\"\n",
    "maxim_api_key = os.environ[\"MAXIM_API_KEY\"]\n",
    "log_repository_id = os.environ[\"LOG_REPO_ID\"]\n",
    "\n",
    "# Set up logger\n",
    "logger_config = LoggerConfig(id=log_repository_id)\n",
    "logger = Logger(config=logger_config, api_key=maxim_api_key, base_url=base_url)\n",
    "\n",
    "# Set up session\n",
    "sessionId = str(uuid4())\n",
    "session_config = SessionConfig(id=sessionId)\n",
    "session = logger.session(session_config)"
   ]
  },
  {
   "cell_type": "code",
   "execution_count": 92,
   "id": "1a205759",
   "metadata": {},
   "outputs": [],
   "source": [
    "def callPlannerGeneration(user_input,plan,span):\n",
    "    system_prompt = planner_prompt.messages[0].prompt.template\n",
    "    generationConfig = GenerationConfig(id=str(uuid4()), name=\"generation\", provider=\"openai\", model=\"gpt-4o\", model_parameters={\"temperature\": 0}, messages=[{\"role\":\"system\", \"content\":system_prompt},{\"role\":\"user\", \"content\": user_input}])\n",
    "    generation = span.generation(generationConfig)\n",
    "    enc = tiktoken.get_encoding(\"o200k_base\")\n",
    "    llm_output = str(plan)\n",
    "    messages = generationConfig.messages\n",
    "    messages_string = ''.join([\"role: \" + entry[\"role\"] + \" content: \" + entry['content'] for entry in messages])\n",
    "    prompt_tokens = len(enc.encode(messages_string))\n",
    "    completion_tokens = len(enc.encode(llm_output))\n",
    "    generation.result({\n",
    "                \"id\": generation.id,\n",
    "                \"object\": \"text_completion\",\n",
    "                \"created\": int(time()),\n",
    "                \"model\": generationConfig.model,\n",
    "                \"choices\": [\n",
    "                    {\n",
    "                        \"index\": 0,\n",
    "                        \"text\": llm_output,\n",
    "                        \"logprobs\": None,\n",
    "                        \"finish_reason\": \"stop\",\n",
    "                    },\n",
    "                ],\n",
    "                \"usage\": {\n",
    "                    \"prompt_tokens\": prompt_tokens,\n",
    "                    \"completion_tokens\": completion_tokens,\n",
    "                    \"total_tokens\": prompt_tokens+completion_tokens,\n",
    "                },\n",
    "            })\n",
    "    generation.end()"
   ]
  },
  {
   "cell_type": "code",
   "execution_count": 93,
   "id": "52a6bb3d",
   "metadata": {},
   "outputs": [],
   "source": [
    "def callReplanGeneration(user_input,past_steps,plan,span):\n",
    "    system_prompt = replanner_prompt.messages[0].prompt.template\n",
    "    system_prompt = system_prompt.format(input=user_input,plan=plan,past_steps=past_steps)\n",
    "    generationConfig = GenerationConfig(id=str(uuid4()), name=\"generation\", provider=\"openai\", model=\"gpt-4o\", model_parameters={\"temperature\": 0}, messages=[{\"role\":\"system\", \"content\":system_prompt},{\"role\":\"user\", \"content\": user_input}])\n",
    "    generation = span.generation(generationConfig)\n",
    "    enc = tiktoken.get_encoding(\"o200k_base\")\n",
    "    llm_output = str(plan)\n",
    "    messages = generationConfig.messages\n",
    "    messages_string = ''.join([\"role: \" + entry[\"role\"] + \" content: \" + entry['content'] for entry in messages])\n",
    "    prompt_tokens = len(enc.encode(messages_string))\n",
    "    completion_tokens = len(enc.encode(llm_output))\n",
    "    generation.result({\n",
    "                \"id\": generation.id,\n",
    "                \"object\": \"text_completion\",\n",
    "                \"created\": int(time()),\n",
    "                \"model\": generationConfig.model,\n",
    "                \"choices\": [\n",
    "                    {\n",
    "                        \"index\": 0,\n",
    "                        \"text\": llm_output,\n",
    "                        \"logprobs\": None,\n",
    "                        \"finish_reason\": \"stop\",\n",
    "                    },\n",
    "                ],\n",
    "                \"usage\": {\n",
    "                    \"prompt_tokens\": prompt_tokens,\n",
    "                    \"completion_tokens\": completion_tokens,\n",
    "                    \"total_tokens\": prompt_tokens+completion_tokens,\n",
    "                },\n",
    "            })\n",
    "    generation.end()"
   ]
  },
  {
   "cell_type": "code",
   "execution_count": 94,
   "id": "ab1bb4c7",
   "metadata": {},
   "outputs": [],
   "source": [
    "def callFinalGeneration(user_input,past_steps,response,trace):\n",
    "    system_prompt = replanner_prompt.messages[0].prompt.template\n",
    "    system_prompt = system_prompt.format(input=user_input,plan=plan,past_steps=past_steps)\n",
    "    generationConfig = GenerationConfig(id=str(uuid4()), name=\"generation\", provider=\"openai\", model=\"gpt-4o\", model_parameters={\"temperature\": 0}, messages=[{\"role\":\"system\", \"content\":system_prompt},{\"role\":\"user\", \"content\": user_input}])\n",
    "    generation = trace.generation(generationConfig)\n",
    "    enc = tiktoken.get_encoding(\"o200k_base\")\n",
    "    llm_output = str(response)\n",
    "    messages = generationConfig.messages\n",
    "    messages_string = ''.join([\"role: \" + entry[\"role\"] + \" content: \" + entry['content'] for entry in messages])\n",
    "    prompt_tokens = len(enc.encode(messages_string))\n",
    "    completion_tokens = len(enc.encode(llm_output))\n",
    "    generation.result({\n",
    "                \"id\": generation.id,\n",
    "                \"object\": \"text_completion\",\n",
    "                \"created\": int(time()),\n",
    "                \"model\": generationConfig.model,\n",
    "                \"choices\": [\n",
    "                    {\n",
    "                        \"index\": 0,\n",
    "                        \"text\": llm_output,\n",
    "                        \"logprobs\": None,\n",
    "                        \"finish_reason\": \"stop\",\n",
    "                    },\n",
    "                ],\n",
    "                \"usage\": {\n",
    "                    \"prompt_tokens\": prompt_tokens,\n",
    "                    \"completion_tokens\": completion_tokens,\n",
    "                    \"total_tokens\": prompt_tokens+completion_tokens,\n",
    "                },\n",
    "            })\n",
    "    generation.end()"
   ]
  },
  {
   "cell_type": "code",
   "execution_count": 97,
   "id": "0ca49c9e-ff6e-43a3-93aa-08729e754bfe",
   "metadata": {},
   "outputs": [
    {
     "name": "stdout",
     "output_type": "stream",
     "text": [
      "planner:{'plan': ['Identify the current year, which is 2023.', 'Research the winner of the 2023 UEFA Champions League.', 'Find out the captain of the winning team of the 2023 UEFA Champions League.', 'Find out which team the captain plays for.', 'Provide the name of the captain and the team they play for.']}\n",
      "**************************************************\n",
      "agent:{'past_steps': [('Identify the current year, which is 2023.', 'The current year is 2023.')]}\n",
      "**************************************************\n",
      "replan:{'plan': ['Research the winner of the 2023 UEFA Champions League.', 'Find out the captain of the winning team of the 2023 UEFA Champions League.', 'Provide the name of the captain and the team they play for.']}\n",
      "**************************************************\n",
      "agent:{'past_steps': [('Research the winner of the 2023 UEFA Champions League.', 'The winner of the 2023 UEFA Champions League was Real Madrid, who defeated Borussia Dortmund 2-0 in the final.')]}\n",
      "**************************************************\n",
      "replan:{'plan': ['Find out the captain of Real Madrid for the 2023 UEFA Champions League season.', 'Provide the name of the captain and confirm the team they play for, which is Real Madrid.']}\n",
      "**************************************************\n",
      "agent:{'past_steps': [('Find out the captain of Real Madrid for the 2023 UEFA Champions League season.', 'The captain of Real Madrid for the 2023 UEFA Champions League season is Nacho.')]}\n",
      "**************************************************\n",
      "replan:{'response': 'The captain of the 2023 UEFA Champions League winning team, Real Madrid, is Nacho.'}\n",
      "**************************************************\n"
     ]
    }
   ],
   "source": [
    "config = {\"recursion_limit\": 50}\n",
    "inputs = {\"input\": \"Give the name of captain and which team they play for, for current year's champions league winning team\"}\n",
    "response = ''\n",
    "past_steps = None\n",
    "# Set up trace\n",
    "traceId = str(uuid4())\n",
    "trace_config = TraceConfig(id=traceId)\n",
    "trace = session.trace(trace_config)\n",
    "async for event in app.astream(inputs, config=config):\n",
    "    for k, v in event.items():\n",
    "        if k != \"__end__\":\n",
    "            print(f\"{k}:{v}\")\n",
    "            print('*'*50)\n",
    "            if k == 'planner':\n",
    "                span = trace.span(SpanConfig(id=str(uuid4()), name=f\"Agent {k}\"))\n",
    "                callPlannerGeneration(inputs['input'],v['plan'],span)\n",
    "                span.end()\n",
    "            if k == 'replan':\n",
    "                if 'response' in v:\n",
    "                    callFinalGeneration(inputs['input'],past_steps,v['response'],trace)\n",
    "                else:\n",
    "                    span = trace.span(SpanConfig(id=str(uuid4()), name=f\"Agent {k}\"))\n",
    "                    callReplanGeneration(inputs['input'],past_steps,v['plan'],span)\n",
    "                    span.end()\n",
    "            if k == 'agent':\n",
    "                sleep(1)\n",
    "                past_steps = v['past_steps']\n",
    "trace.end()       "
   ]
  },
  {
   "cell_type": "code",
   "execution_count": null,
   "id": "73a71c29",
   "metadata": {},
   "outputs": [],
   "source": []
  }
 ],
 "metadata": {
  "kernelspec": {
   "display_name": "Python 3 (ipykernel)",
   "language": "python",
   "name": "python3"
  },
  "language_info": {
   "codemirror_mode": {
    "name": "ipython",
    "version": 3
   },
   "file_extension": ".py",
   "mimetype": "text/x-python",
   "name": "python",
   "nbconvert_exporter": "python",
   "pygments_lexer": "ipython3",
   "version": "3.12.7"
  }
 },
 "nbformat": 4,
 "nbformat_minor": 5
}
